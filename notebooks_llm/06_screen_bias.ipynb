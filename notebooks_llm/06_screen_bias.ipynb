{
 "cells": [
  {
   "cell_type": "code",
   "execution_count": null,
   "metadata": {
    "collapsed": false,
    "pycharm": {
     "name": "#%%\n"
    }
   },
   "outputs": [],
   "source": [
    "%load_ext autoreload\n",
    "%autoreload 2\n",
    "\n",
    "import pandas as pd\n",
    "import numpy as np\n",
    "import seaborn as sns\n",
    "from tqdm import tqdm\n",
    "import matplotlib.pyplot as plt\n",
    "import imodelsx.llm\n",
    "\n",
    "import openai\n",
    "openai.api_key_path = '/home/chansingh/.OPENAI_KEY'\n",
    "outcome = 'iai'\n",
    "\n",
    "df = pd.read_pickle(\"../data/data_clean.pkl\")\n",
    "n = df.shape[0]\n",
    "\n",
    "llm = imodelsx.llm.get_llm('gpt-4-0314', repeat_delay=1)\n",
    "\n",
    "# df[df.title.str.contains('pecarn', case=False)]\n",
    "row = df[df.id==3971][['title', 'description', 'feature_names']].iloc[0]\n",
    "row\n",
    "\n",
    "# with pd.option_context(\"display.max_rows\", None, \"display.max_columns\", None, \"display.max_colwidth\", 1000):\n",
    "#     display(df[[\"id\", \"title\", \"feature_names\", \"info___mdcalc_url\"]])"
   ]
  },
  {
   "cell_type": "markdown",
   "metadata": {},
   "source": [
    "### General bias"
   ]
  },
  {
   "cell_type": "code",
   "execution_count": null,
   "metadata": {},
   "outputs": [],
   "source": [
    "prompt = f'''### Question: Describe any potential issues with bias in the development of the following clinical decision instrument. If no issues are found, return \"No issues\".\n",
    "\n",
    "- Title: {row[\"title\"]}\n",
    "- Description: {row[\"description\"]}\n",
    "- Predictor variables: {str(row[\"feature_names\"])[1:-1]}\n",
    "\n",
    "### Answer:'''\n",
    "print(prompt)\n",
    "print(llm(prompt))"
   ]
  },
  {
   "cell_type": "markdown",
   "metadata": {},
   "source": [
    "### Feature bias"
   ]
  },
  {
   "cell_type": "code",
   "execution_count": null,
   "metadata": {},
   "outputs": [],
   "source": [
    "Q = 'Describe any potential issues with bias in predictor variables of the following clinical decision instrument. If no issues are found, return \"No issues\".'\n",
    "messages = [\n",
    "    {\"role\": \"system\", \"content\": \"You are a helpful assistant.\"},\n",
    "    {\n",
    "        \"role\": \"user\",\n",
    "        \"content\": f\"\"\"{Q}\n",
    "Title: PECARN Pediatric Intra-Abdominal Injury (IAI) Algorithm\n",
    "Description: Identifies children at very low risk of clinically important blunt abdominal injuries.\n",
    "Predictor variables: 'Nausea/vomiting', 'Decreased breath sounds', 'Evidence of abdominal wall trauma or seatbelt sign', 'Abdominal tenderness', 'Ethniciy', 'Abdominal pain', 'Glasgow Coma Scale', 'Thoracic wall trauma'\"\"\",\n",
    "    },\n",
    "    {\n",
    "        \"role\": \"assistant\",\n",
    "        \"content\": \"\"\"Potential issues with bias in predictor variables:\n",
    "1. 'Ethnicity': fundamentally biased variable        \n",
    "2. 'Abdominal tenderness': subjectivity in physician's assessment\n",
    "3. 'Abdominal pain': subjectivity in patient's assessment\n",
    "4. 'Glasgow Coma Scale': subjectivity in physician's assessment\"\"\",\n",
    "    },\n",
    "    # {\"role\": \"user\", \"content\": \"Where was it played?\"},\n",
    "]\n",
    "\n",
    "d_race = df[df.feature_names.apply(lambda x: \"Race/Ethnicity\" in x)]\n",
    "for i in range(10):\n",
    "    row = d_race.iloc[i]\n",
    "    prompt = f\"\"\"{Q}\n",
    "Title: {row[\"title\"]}\n",
    "Description: {row[\"description\"]}\n",
    "Predictor variables: {str(row[\"feature_names\"])[1:-1]}\"\"\"\n",
    "    messages[-1] = {\"role\": \"user\", \"content\": prompt}\n",
    "    print(prompt)\n",
    "    print(llm(messages))\n",
    "    print(\"\\n\\n\")"
   ]
  }
 ],
 "metadata": {
  "kernelspec": {
   "display_name": "Python 3",
   "language": "python",
   "name": "python3"
  },
  "language_info": {
   "codemirror_mode": {
    "name": "ipython",
    "version": 3
   },
   "file_extension": ".py",
   "mimetype": "text/x-python",
   "name": "python",
   "nbconvert_exporter": "python",
   "pygments_lexer": "ipython3",
   "version": "3.11.4"
  }
 },
 "nbformat": 4,
 "nbformat_minor": 0
}
