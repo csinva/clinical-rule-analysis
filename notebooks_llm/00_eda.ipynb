{
 "cells": [
  {
   "cell_type": "code",
   "execution_count": null,
   "metadata": {
    "collapsed": false,
    "pycharm": {
     "name": "#%%\n"
    }
   },
   "outputs": [],
   "source": [
    "%load_ext autoreload\n",
    "%autoreload 2\n",
    "\n",
    "import pandas as pd\n",
    "import eval_extraction\n",
    "import openai\n",
    "import extract\n",
    "openai.api_key = open('/home/chansingh/.OPENAI_KEY').read().strip()\n",
    "df = pd.read_pickle(\"../data/data_clean.pkl\")"
   ]
  },
  {
   "cell_type": "code",
   "execution_count": 9,
   "metadata": {},
   "outputs": [
    {
     "data": {
      "text/plain": [
       "categorization___chief_complaint        690\n",
       "categorization___disease                690\n",
       "categorization___purpose                690\n",
       "categorization___specialty              690\n",
       "categorization___system                 690\n",
       "categorization___type                   690\n",
       "description                             690\n",
       "description_short                       690\n",
       "features_names                          690\n",
       "features_names_raw                      690\n",
       "id                                      690\n",
       "info___additional_references            690\n",
       "info___before_use                       690\n",
       "info___details___evidence_overview      690\n",
       "info___details___formula                690\n",
       "info___details___more_info              690\n",
       "info___instructions                     690\n",
       "info___keywords                         690\n",
       "info___mdcalc_url                       690\n",
       "info___next_steps___advice              690\n",
       "info___next_steps___critical_actions    690\n",
       "info___next_steps___management          690\n",
       "info___related_calc_ids                 690\n",
       "info___usage___notes                    690\n",
       "info___usage___use_case                 690\n",
       "info___usage___why_use                  690\n",
       "paper___author_affiliations             457\n",
       "paper___author_countries                457\n",
       "paper___author_genders                  567\n",
       "paper___author_names                    567\n",
       "paper___citation                        685\n",
       "paper___raw_text                        542\n",
       "paper___url                             640\n",
       "paper___year                            676\n",
       "participants___asian                     31\n",
       "participants___black                     69\n",
       "participants___female                   328\n",
       "participants___latino                    48\n",
       "participants___male                     327\n",
       "participants___total                    385\n",
       "participants___white                     81\n",
       "title                                   690\n",
       "title_short                             690\n",
       "dtype: int64"
      ]
     },
     "execution_count": 9,
     "metadata": {},
     "output_type": "execute_result"
    }
   ],
   "source": [
    "(df.notna() & (df!='-1') & (df!=-1)).sum().sort_index()"
   ]
  },
  {
   "cell_type": "code",
   "execution_count": null,
   "metadata": {},
   "outputs": [],
   "source": []
  }
 ],
 "metadata": {
  "kernelspec": {
   "display_name": "Python 3",
   "language": "python",
   "name": "python3"
  },
  "language_info": {
   "codemirror_mode": {
    "name": "ipython",
    "version": 3
   },
   "file_extension": ".py",
   "mimetype": "text/x-python",
   "name": "python",
   "nbconvert_exporter": "python",
   "pygments_lexer": "ipython3",
   "version": "3.11.4"
  }
 },
 "nbformat": 4,
 "nbformat_minor": 0
}
