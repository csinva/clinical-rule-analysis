{
 "cells": [
  {
   "cell_type": "code",
   "execution_count": null,
   "metadata": {
    "collapsed": false,
    "pycharm": {
     "name": "#%%\n"
    }
   },
   "outputs": [],
   "source": [
    "%load_ext autoreload\n",
    "%autoreload 2\n",
    "\n",
    "import pandas as pd\n",
    "from sklearn import preprocessing\n",
    "import numpy as np\n",
    "from sklearn.model_selection import train_test_split\n",
    "from tqdm import tqdm\n",
    "import os.path\n",
    "import joblib\n",
    "import seaborn as sns\n",
    "import matplotlib.pyplot as plt\n",
    "from os.path import join\n",
    "import dvu\n",
    "dvu.set_style()\n",
    "from collections import defaultdict\n",
    "import imodelsx.process_results\n",
    "results_dir = '../results/classification'\n",
    "\n",
    "r = imodelsx.process_results.get_results_df(results_dir)\n",
    "experiment_filename = '../experiments/02_classification.py'\n",
    "r = imodelsx.process_results.fill_missing_args_with_default(\n",
    "    r, experiment_filename)"
   ]
  },
  {
   "cell_type": "code",
   "execution_count": null,
   "metadata": {},
   "outputs": [],
   "source": [
    "df = r.groupby(by=['label_name', 'model_name', 'input_text'])[['mean_macro_precision',\n",
    "                                                               'mean_macro_recall', 'mean_macro_f1-score']].mean()\n",
    "# df.style.format(precision=2).background_gradient(cmap='Blues')\n",
    "# imodelsx.process_results.delete_runs_in_dataframe(r[r.model_name == 'aug-linear'], actually_delete=True)"
   ]
  },
  {
   "cell_type": "code",
   "execution_count": null,
   "metadata": {},
   "outputs": [],
   "source": [
    "# rotate xticklabels\n",
    "d = df.reset_index()\n",
    "d['legend'] = d['input_text'] + ' ' + d['model_name']\n",
    "ax = sns.barplot(data=d, x='label_name',\n",
    "                 y='mean_macro_f1-score', hue='legend', palette='Blues', hue_order=sorted(d['legend'].unique()))\n",
    "plt.xticks(rotation=90)\n",
    "plt.ylim(bottom=0.5)\n",
    "# legend to right\n",
    "ax.legend(loc='center left', bbox_to_anchor=(1, 0.5))"
   ]
  },
  {
   "cell_type": "code",
   "execution_count": null,
   "metadata": {},
   "outputs": [],
   "source": []
  }
 ],
 "metadata": {
  "kernelspec": {
   "display_name": "Python 3",
   "language": "python",
   "name": "python3"
  },
  "language_info": {
   "codemirror_mode": {
    "name": "ipython",
    "version": 3
   },
   "file_extension": ".py",
   "mimetype": "text/x-python",
   "name": "python",
   "nbconvert_exporter": "python",
   "pygments_lexer": "ipython3",
   "version": "3.11.4"
  }
 },
 "nbformat": 4,
 "nbformat_minor": 0
}
