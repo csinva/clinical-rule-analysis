{
 "cells": [
  {
   "cell_type": "code",
   "execution_count": 1,
   "metadata": {
    "collapsed": false,
    "pycharm": {
     "name": "#%%\n"
    }
   },
   "outputs": [],
   "source": [
    "%load_ext autoreload\n",
    "%autoreload 2\n",
    "\n",
    "import pandas as pd\n",
    "import openai\n",
    "from sklearn import preprocessing\n",
    "import numpy as np\n",
    "from sklearn.model_selection import train_test_split\n",
    "from sklearn.pipeline import Pipeline\n",
    "from sklearn.feature_extraction.text import TfidfVectorizer\n",
    "from sklearn.multioutput import MultiOutputClassifier\n",
    "from sklearn.ensemble import RandomForestClassifier\n",
    "from sklearn.preprocessing import MultiLabelBinarizer\n",
    "from sklearn.metrics import classification_report\n",
    "from sklearn.tree import DecisionTreeClassifier\n",
    "from sklearn.linear_model import LogisticRegressionCV\n",
    "from tqdm import tqdm\n",
    "import os.path\n",
    "import joblib\n",
    "from os.path import join\n",
    "from collections import defaultdict\n",
    "from imodelsx import LinearFinetuneClassifier, LinearNgramClassifier, AugGAMClassifier\n",
    "\n",
    "openai.api_key = open('/home/chansingh/.OPENAI_KEY').read().strip()\n",
    "\n",
    "df = pd.read_pickle(\"../data/data_clean.pkl\")\n",
    "LABELS = [\n",
    "    \"categorization___chief_complaint\",\n",
    "    \"categorization___specialty\",\n",
    "    \"categorization___purpose\",\n",
    "    \"categorization___system\",\n",
    "    \"categorization___disease\",\n",
    "]"
   ]
  },
  {
   "cell_type": "code",
   "execution_count": 21,
   "metadata": {},
   "outputs": [],
   "source": [
    "df = pd.DataFrame(df)"
   ]
  },
  {
   "cell_type": "code",
   "execution_count": 22,
   "metadata": {},
   "outputs": [
    {
     "data": {
      "text/html": [
       "<style type=\"text/css\">\n",
       "#T_e681e_row0_col1 {\n",
       "  background-color: #4e9acb;\n",
       "  color: #f1f1f1;\n",
       "}\n",
       "#T_e681e_row0_col2 {\n",
       "  background-color: #519ccc;\n",
       "  color: #f1f1f1;\n",
       "}\n",
       "#T_e681e_row0_col3, #T_e681e_row1_col2 {\n",
       "  background-color: #4f9bcb;\n",
       "  color: #f1f1f1;\n",
       "}\n",
       "#T_e681e_row1_col1 {\n",
       "  background-color: #08306b;\n",
       "  color: #f1f1f1;\n",
       "}\n",
       "#T_e681e_row1_col3 {\n",
       "  background-color: #3585bf;\n",
       "  color: #f1f1f1;\n",
       "}\n",
       "#T_e681e_row2_col1 {\n",
       "  background-color: #f7fbff;\n",
       "  color: #000000;\n",
       "}\n",
       "#T_e681e_row2_col2 {\n",
       "  background-color: #d8e7f5;\n",
       "  color: #000000;\n",
       "}\n",
       "#T_e681e_row2_col3 {\n",
       "  background-color: #e9f2fa;\n",
       "  color: #000000;\n",
       "}\n",
       "</style>\n",
       "<table id=\"T_e681e\">\n",
       "  <thead>\n",
       "    <tr>\n",
       "      <th class=\"blank level0\" >&nbsp;</th>\n",
       "      <th id=\"T_e681e_level0_col0\" class=\"col_heading level0 col0\" >model_name</th>\n",
       "      <th id=\"T_e681e_level0_col1\" class=\"col_heading level0 col1\" >macro_precision</th>\n",
       "      <th id=\"T_e681e_level0_col2\" class=\"col_heading level0 col2\" >macro_recall</th>\n",
       "      <th id=\"T_e681e_level0_col3\" class=\"col_heading level0 col3\" >macro_f1-score</th>\n",
       "    </tr>\n",
       "  </thead>\n",
       "  <tbody>\n",
       "    <tr>\n",
       "      <th id=\"T_e681e_level0_row0\" class=\"row_heading level0 row0\" >0</th>\n",
       "      <td id=\"T_e681e_row0_col0\" class=\"data row0 col0\" >decision_tree</td>\n",
       "      <td id=\"T_e681e_row0_col1\" class=\"data row0 col1\" >0.68</td>\n",
       "      <td id=\"T_e681e_row0_col2\" class=\"data row0 col2\" >0.67</td>\n",
       "      <td id=\"T_e681e_row0_col3\" class=\"data row0 col3\" >0.68</td>\n",
       "    </tr>\n",
       "    <tr>\n",
       "      <th id=\"T_e681e_level0_row1\" class=\"row_heading level0 row1\" >1</th>\n",
       "      <td id=\"T_e681e_row1_col0\" class=\"data row1 col0\" >logistic</td>\n",
       "      <td id=\"T_e681e_row1_col1\" class=\"data row1 col1\" >0.85</td>\n",
       "      <td id=\"T_e681e_row1_col2\" class=\"data row1 col2\" >0.68</td>\n",
       "      <td id=\"T_e681e_row1_col3\" class=\"data row1 col3\" >0.71</td>\n",
       "    </tr>\n",
       "    <tr>\n",
       "      <th id=\"T_e681e_level0_row2\" class=\"row_heading level0 row2\" >2</th>\n",
       "      <td id=\"T_e681e_row2_col0\" class=\"data row2 col0\" >bert-base-uncased</td>\n",
       "      <td id=\"T_e681e_row2_col1\" class=\"data row2 col1\" >0.43</td>\n",
       "      <td id=\"T_e681e_row2_col2\" class=\"data row2 col2\" >0.50</td>\n",
       "      <td id=\"T_e681e_row2_col3\" class=\"data row2 col3\" >0.46</td>\n",
       "    </tr>\n",
       "  </tbody>\n",
       "</table>\n"
      ],
      "text/plain": [
       "<pandas.io.formats.style.Styler at 0x7f736cc7cad0>"
      ]
     },
     "execution_count": 22,
     "metadata": {},
     "output_type": "execute_result"
    }
   ],
   "source": [
    "df.style.format(precision=2).background_gradient(cmap='Blues', axis=None)"
   ]
  },
  {
   "cell_type": "code",
   "execution_count": null,
   "metadata": {},
   "outputs": [],
   "source": []
  }
 ],
 "metadata": {
  "kernelspec": {
   "display_name": "Python 3",
   "language": "python",
   "name": "python3"
  },
  "language_info": {
   "codemirror_mode": {
    "name": "ipython",
    "version": 3
   },
   "file_extension": ".py",
   "mimetype": "text/x-python",
   "name": "python",
   "nbconvert_exporter": "python",
   "pygments_lexer": "ipython3",
   "version": "3.11.4"
  }
 },
 "nbformat": 4,
 "nbformat_minor": 0
}
