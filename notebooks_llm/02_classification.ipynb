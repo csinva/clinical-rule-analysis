{
 "cells": [
  {
   "cell_type": "code",
   "execution_count": null,
   "metadata": {
    "collapsed": false,
    "pycharm": {
     "name": "#%%\n"
    }
   },
   "outputs": [],
   "source": [
    "%load_ext autoreload\n",
    "%autoreload 2\n",
    "\n",
    "import pandas as pd\n",
    "import openai\n",
    "from sklearn import preprocessing\n",
    "import numpy as np\n",
    "from sklearn.model_selection import train_test_split\n",
    "from sklearn.pipeline import Pipeline\n",
    "from sklearn.feature_extraction.text import TfidfVectorizer\n",
    "from sklearn.multioutput import MultiOutputClassifier\n",
    "from sklearn.ensemble import RandomForestClassifier\n",
    "from sklearn.preprocessing import MultiLabelBinarizer\n",
    "from sklearn.metrics import classification_report\n",
    "from sklearn.tree import DecisionTreeClassifier\n",
    "from sklearn.linear_model import LogisticRegressionCV\n",
    "from collections import defaultdict\n",
    "openai.api_key = open('/home/chansingh/.OPENAI_KEY').read().strip()\n",
    "\n",
    "df = pd.read_pickle(\"../data/data_clean.pkl\")\n",
    "LABELS = [\n",
    "    \"categorization___chief_complaint\",\n",
    "    \"categorization___specialty\",\n",
    "    \"categorization___purpose\",\n",
    "    \"categorization___system\",\n",
    "    \"categorization___disease\",\n",
    "]"
   ]
  },
  {
   "cell_type": "code",
   "execution_count": null,
   "metadata": {},
   "outputs": [],
   "source": [
    "def get_classification_data(lab=\"categorization___chief_complaint\", random_state=42):\n",
    "    # prepare output\n",
    "    classes = df[lab].explode()\n",
    "    vc = classes.value_counts()\n",
    "\n",
    "    # restrict to top classes\n",
    "    top_classes = vc.index[vc.values >= 20]\n",
    "    df[lab] = df[lab].apply(lambda l: [x for x in l if x in top_classes])\n",
    "\n",
    "    # label binarizer\n",
    "    le = MultiLabelBinarizer()\n",
    "    y = le.fit_transform(df[lab])\n",
    "\n",
    "    # input text\n",
    "    # set up text for prediction\n",
    "    # def get_text_representation(row):\n",
    "    #     # return f\"\"\"- Title: {row[\"title\"]}\n",
    "    # # - Description: {row[\"description\"]}\n",
    "    # # - Predictor variables: {str(row[\"feature_names\"])[1:-1]}\"\"\"\n",
    "    #     return f\"\"\"{row[\"title\"]}. {row[\"description\"]}. Keywords: {str(row[\"info___keywords\"])[1:-1]}\"\"\"\n",
    "    # df['text'] = df.apply(get_text_representation, axis=1)\n",
    "    X = df[\"paper___raw_text\"]\n",
    "\n",
    "    idxs = X.notna()\n",
    "    X = X[idxs]\n",
    "    y = y[idxs]\n",
    "\n",
    "    # train test split\n",
    "    X_train, X_test, y_train, y_test = train_test_split(X, y, test_size=0.25, random_state=random_state)\n",
    "    return X_train, X_test, y_train, y_test, le.classes_\n",
    "\n",
    "X_train, X_test, y_train, y_test, classes = get_classification_data(lab=LABELS[0])"
   ]
  },
  {
   "cell_type": "code",
   "execution_count": 67,
   "metadata": {},
   "outputs": [],
   "source": [
    "def get_model(model_name=\"decision_tree\", random_state=42):\n",
    "    if model_name == \"decision_tree\":\n",
    "        pipe = Pipeline(\n",
    "            [\n",
    "                (\"tfidf\", TfidfVectorizer()),\n",
    "                (\"clf\", DecisionTreeClassifier(random_state=random_state)),\n",
    "            ]\n",
    "        )\n",
    "    elif model_name == \"random_forest\":\n",
    "        pipe = Pipeline(\n",
    "            [\n",
    "                (\"tfidf\", TfidfVectorizer()),\n",
    "                (\"clf\", RandomForestClassifier(random_state=random_state)),\n",
    "            ]\n",
    "        )\n",
    "    elif model_name == \"logistic\":\n",
    "        pipe = Pipeline(\n",
    "            [\n",
    "                (\"tfidf\", TfidfVectorizer()),\n",
    "                (\n",
    "                    \"clf\",\n",
    "                    MultiOutputClassifier(\n",
    "                        LogisticRegressionCV(random_state=random_state)\n",
    "                    ),\n",
    "                ),\n",
    "            ]\n",
    "        )\n",
    "    return pipe\n",
    "\n",
    "\n",
    "df = defaultdict(list)\n",
    "for model_name in [\"decision_tree\", \"random_forest\", \"logistic\"]:\n",
    "    m = get_model(model_name)\n",
    "    m.fit(X_train, y_train)\n",
    "    # df['y_pred_train'].append(m.predict(X_train))\n",
    "    y_pred = m.predict(X_test)\n",
    "    # df['y_pred_test'].append(y_test)\n",
    "\n",
    "    df[\"model_name\"].append(model_name)\n",
    "\n",
    "    # eval\n",
    "    rep = classification_report(y_test, y_pred, target_names=classes, output_dict=True, zero_division=0)\n",
    "    for k1 in [\"micro\", \"macro\"]:\n",
    "        for k in [\"precision\", \"recall\", \"f1-score\"]:\n",
    "            df[f\"{k1}_{k}\"].append(rep[k1 + \" avg\"][k])"
   ]
  },
  {
   "cell_type": "code",
   "execution_count": null,
   "metadata": {},
   "outputs": [],
   "source": [
    "df = pd.DataFrame(df)"
   ]
  },
  {
   "cell_type": "code",
   "execution_count": null,
   "metadata": {},
   "outputs": [],
   "source": [
    "df.style.format(precision=2).background_gradient(cmap='Blues', axis=None)"
   ]
  },
  {
   "cell_type": "code",
   "execution_count": null,
   "metadata": {},
   "outputs": [],
   "source": []
  }
 ],
 "metadata": {
  "kernelspec": {
   "display_name": "Python 3",
   "language": "python",
   "name": "python3"
  },
  "language_info": {
   "codemirror_mode": {
    "name": "ipython",
    "version": 3
   },
   "file_extension": ".py",
   "mimetype": "text/x-python",
   "name": "python",
   "nbconvert_exporter": "python",
   "pygments_lexer": "ipython3",
   "version": "3.11.4"
  }
 },
 "nbformat": 4,
 "nbformat_minor": 0
}
