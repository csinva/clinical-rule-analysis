{
 "cells": [
  {
   "cell_type": "code",
   "execution_count": null,
   "metadata": {
    "collapsed": false,
    "pycharm": {
     "name": "#%%\n"
    }
   },
   "outputs": [],
   "source": [
    "%load_ext autoreload\n",
    "%autoreload 2\n",
    "\n",
    "import pandas as pd\n",
    "import eval_extraction\n",
    "import openai\n",
    "import extraction\n",
    "import numpy as np\n",
    "import matplotlib.pyplot as plt\n",
    "openai.api_key = open('/home/chansingh/.OPENAI_KEY').read().strip()\n",
    "\n",
    "# load the data\n",
    "df = pd.read_pickle(\"../data/data_clean.pkl\")\n",
    "# checkpoint = \"gpt-3.5-turbo-0613\"\n",
    "checkpoint = 'gpt-4-0613'"
   ]
  },
  {
   "cell_type": "markdown",
   "metadata": {},
   "source": [
    "# Make predictions"
   ]
  },
  {
   "cell_type": "markdown",
   "metadata": {},
   "source": [
    "Current outputs:\n",
    "- num_male, num_female, num_total, num_male_evidence_span, num_female_evidence_span, num_total_evidence_span\n",
    "- num_white, num_black, num_latino, num_asian, race_evidence_span\n",
    "\n",
    "Targets:\n",
    "- 'participants___male', 'participants___female', 'participants___total'\n",
    "- 'participants___white', 'participants___black', 'participants___latino', 'participants___asian'"
   ]
  },
  {
   "cell_type": "code",
   "execution_count": null,
   "metadata": {},
   "outputs": [],
   "source": [
    "gt_cols = [\n",
    "    \"participants___male\",\n",
    "    \"participants___female\",\n",
    "    \"participants___total\",\n",
    "    \"participants___white\",\n",
    "    \"participants___black\",\n",
    "    \"participants___latino\",\n",
    "    \"participants___asian\",\n",
    "]\n",
    "idxs = df[\"paper___raw_text\"].notna() & ((df[gt_cols] > 0).any(axis=1))\n",
    "texts = df.loc[idxs, \"paper___raw_text\"].values.tolist()\n",
    "extractions = extraction.extract_nums_df(\n",
    "    texts,\n",
    "    verbose=False,\n",
    "    checkpoint=checkpoint,\n",
    "    subset_len_tokens={\"gpt-4-0613\": 4750, \"gpt-3.5-turbo-0613\": 3000}[checkpoint],\n",
    ")\n",
    "for k in extractions.keys():\n",
    "    df.loc[idxs, k] = extractions[k].values"
   ]
  },
  {
   "cell_type": "markdown",
   "metadata": {},
   "source": [
    "### Evaluate\n",
    "Evaluates whether each extracted number is within 1 of the human-labeled value"
   ]
  },
  {
   "cell_type": "code",
   "execution_count": null,
   "metadata": {},
   "outputs": [],
   "source": [
    "preds_col_to_gt_col_dict = {\n",
    "    \"num_male\": \"participants___male\",\n",
    "    \"num_female\": \"participants___female\",\n",
    "    \"num_total\": \"participants___total\",\n",
    "    \"num_white\": \"participants___white\",\n",
    "    \"num_black\": \"participants___black\",\n",
    "    \"num_asian\": \"participants___asian\",\n",
    "    \"num_latino\": \"participants___latino\",\n",
    "}\n",
    "\n",
    "# unparsable\n",
    "for k in preds_col_to_gt_col_dict.keys():\n",
    "    df.loc[~df[k].apply(eval_extraction.str_is_parsable), k] = np.nan\n",
    "    if not k == \"num_total\":\n",
    "        df[k] = eval_extraction.convert_percentages_when_total_is_known(\n",
    "            df[k], df[\"num_total\"]\n",
    "        )\n",
    "# print(\"Total n (with paper text)\", idxs.sum())\n",
    "mets = eval_extraction.compute_metrics_within_1(\n",
    "    df, preds_col_to_gt_col_dict=preds_col_to_gt_col_dict\n",
    ")\n",
    "mets.to_pickle(f'../results/llm/extraction_{checkpoint}.pkl')"
   ]
  },
  {
   "cell_type": "markdown",
   "metadata": {},
   "source": [
    "### Merge results"
   ]
  },
  {
   "cell_type": "code",
   "execution_count": 3,
   "metadata": {},
   "outputs": [],
   "source": [
    "mets_dict = {}\n",
    "for checkpoint in ['gpt-3.5-turbo-0613', 'gpt-4-0613']:\n",
    "    mets_dict[checkpoint] = pd.read_pickle(f'../results/llm/extraction_{checkpoint}.pkl')"
   ]
  },
  {
   "cell_type": "code",
   "execution_count": 31,
   "metadata": {},
   "outputs": [],
   "source": [
    "results = mets_dict[\"gpt-3.5-turbo-0613\"].merge(\n",
    "    mets_dict[\"gpt-4-0613\"], suffixes=(\"_3.5\", \"_4\"), on='target'\n",
    ")\n",
    "results = results.drop(columns=[k for k in results.columns if 'n_correct' in k or k in ['n_gt_4', 'n_pred_4']])"
   ]
  },
  {
   "cell_type": "code",
   "execution_count": 32,
   "metadata": {},
   "outputs": [
    {
     "data": {
      "text/html": [
       "<div>\n",
       "<style scoped>\n",
       "    .dataframe tbody tr th:only-of-type {\n",
       "        vertical-align: middle;\n",
       "    }\n",
       "\n",
       "    .dataframe tbody tr th {\n",
       "        vertical-align: top;\n",
       "    }\n",
       "\n",
       "    .dataframe thead th {\n",
       "        text-align: right;\n",
       "    }\n",
       "</style>\n",
       "<table border=\"1\" class=\"dataframe\">\n",
       "  <thead>\n",
       "    <tr style=\"text-align: right;\">\n",
       "      <th></th>\n",
       "      <th>target</th>\n",
       "      <th>n_gt_3.5</th>\n",
       "      <th>n_pred_3.5</th>\n",
       "      <th>recall_3.5</th>\n",
       "      <th>precision_3.5</th>\n",
       "      <th>recall_4</th>\n",
       "      <th>precision_4</th>\n",
       "    </tr>\n",
       "  </thead>\n",
       "  <tbody>\n",
       "    <tr>\n",
       "      <th>2</th>\n",
       "      <td>participants___total</td>\n",
       "      <td>459</td>\n",
       "      <td>363</td>\n",
       "      <td>0.51</td>\n",
       "      <td>0.65</td>\n",
       "      <td>0.67</td>\n",
       "      <td>0.81</td>\n",
       "    </tr>\n",
       "    <tr>\n",
       "      <th>0</th>\n",
       "      <td>participants___male</td>\n",
       "      <td>374</td>\n",
       "      <td>246</td>\n",
       "      <td>0.24</td>\n",
       "      <td>0.36</td>\n",
       "      <td>0.51</td>\n",
       "      <td>0.84</td>\n",
       "    </tr>\n",
       "    <tr>\n",
       "      <th>1</th>\n",
       "      <td>participants___female</td>\n",
       "      <td>379</td>\n",
       "      <td>247</td>\n",
       "      <td>0.22</td>\n",
       "      <td>0.34</td>\n",
       "      <td>0.51</td>\n",
       "      <td>0.84</td>\n",
       "    </tr>\n",
       "    <tr>\n",
       "      <th>6</th>\n",
       "      <td>participants___asian</td>\n",
       "      <td>37</td>\n",
       "      <td>1</td>\n",
       "      <td>0.00</td>\n",
       "      <td>0.00</td>\n",
       "      <td>0.46</td>\n",
       "      <td>0.81</td>\n",
       "    </tr>\n",
       "    <tr>\n",
       "      <th>5</th>\n",
       "      <td>participants___latino</td>\n",
       "      <td>54</td>\n",
       "      <td>2</td>\n",
       "      <td>0.04</td>\n",
       "      <td>1.00</td>\n",
       "      <td>0.33</td>\n",
       "      <td>0.69</td>\n",
       "    </tr>\n",
       "    <tr>\n",
       "      <th>4</th>\n",
       "      <td>participants___black</td>\n",
       "      <td>78</td>\n",
       "      <td>53</td>\n",
       "      <td>0.14</td>\n",
       "      <td>0.21</td>\n",
       "      <td>0.32</td>\n",
       "      <td>0.60</td>\n",
       "    </tr>\n",
       "    <tr>\n",
       "      <th>3</th>\n",
       "      <td>participants___white</td>\n",
       "      <td>93</td>\n",
       "      <td>63</td>\n",
       "      <td>0.11</td>\n",
       "      <td>0.16</td>\n",
       "      <td>0.28</td>\n",
       "      <td>0.53</td>\n",
       "    </tr>\n",
       "  </tbody>\n",
       "</table>\n",
       "</div>"
      ],
      "text/plain": [
       "                  target  n_gt_3.5  n_pred_3.5  recall_3.5  precision_3.5  \\\n",
       "2   participants___total       459         363        0.51           0.65   \n",
       "0    participants___male       374         246        0.24           0.36   \n",
       "1  participants___female       379         247        0.22           0.34   \n",
       "6   participants___asian        37           1        0.00           0.00   \n",
       "5  participants___latino        54           2        0.04           1.00   \n",
       "4   participants___black        78          53        0.14           0.21   \n",
       "3   participants___white        93          63        0.11           0.16   \n",
       "\n",
       "   recall_4  precision_4  \n",
       "2      0.67         0.81  \n",
       "0      0.51         0.84  \n",
       "1      0.51         0.84  \n",
       "6      0.46         0.81  \n",
       "5      0.33         0.69  \n",
       "4      0.32         0.60  \n",
       "3      0.28         0.53  "
      ]
     },
     "execution_count": 32,
     "metadata": {},
     "output_type": "execute_result"
    }
   ],
   "source": [
    "results.sort_values(by='recall_4', ascending=False)"
   ]
  },
  {
   "cell_type": "code",
   "execution_count": null,
   "metadata": {},
   "outputs": [],
   "source": []
  }
 ],
 "metadata": {
  "kernelspec": {
   "display_name": "Python 3",
   "language": "python",
   "name": "python3"
  },
  "language_info": {
   "codemirror_mode": {
    "name": "ipython",
    "version": 3
   },
   "file_extension": ".py",
   "mimetype": "text/x-python",
   "name": "python",
   "nbconvert_exporter": "python",
   "pygments_lexer": "ipython3",
   "version": "3.11.4"
  }
 },
 "nbformat": 4,
 "nbformat_minor": 0
}
