{
 "cells": [
  {
   "cell_type": "code",
   "execution_count": 6,
   "metadata": {
    "collapsed": false,
    "pycharm": {
     "name": "#%%\n"
    }
   },
   "outputs": [
    {
     "name": "stdout",
     "output_type": "stream",
     "text": [
      "The autoreload extension is already loaded. To reload it, use:\n",
      "  %reload_ext autoreload\n"
     ]
    }
   ],
   "source": [
    "%load_ext autoreload\n",
    "%autoreload 2\n",
    "\n",
    "import pandas as pd\n",
    "import eval_extraction\n",
    "import openai\n",
    "import extraction\n",
    "import numpy as np\n",
    "import matplotlib.pyplot as plt\n",
    "openai.api_key = open('/home/chansingh/.OPENAI_KEY').read().strip()\n",
    "\n",
    "# load the data\n",
    "df = pd.read_pickle(\"../data/data_clean.pkl\")"
   ]
  },
  {
   "cell_type": "markdown",
   "metadata": {},
   "source": [
    "# Make predictions"
   ]
  },
  {
   "cell_type": "markdown",
   "metadata": {},
   "source": [
    "Current outputs:\n",
    "- num_male, num_female, num_total, num_male_evidence_span, num_female_evidence_span, num_total_evidence_span\n",
    "- num_white, num_black, num_latino, num_asian, race_evidence_span\n",
    "\n",
    "Targets:\n",
    "- 'participants___male', 'participants___female', 'participants___total'\n",
    "- 'participants___white', 'participants___black', 'participants___latino', 'participants___asian'"
   ]
  },
  {
   "cell_type": "code",
   "execution_count": 7,
   "metadata": {},
   "outputs": [
    {
     "name": "stdout",
     "output_type": "stream",
     "text": [
      "attempting to add dict_keys(['num_male', 'num_female', 'num_total', 'evidence_span_gender'])\n"
     ]
    },
    {
     "name": "stderr",
     "output_type": "stream",
     "text": [
      "430it [00:00, 2306.25it/s]\n"
     ]
    },
    {
     "name": "stdout",
     "output_type": "stream",
     "text": [
      "Unterminated string starting at: line 5 column 25 (char 102)\n",
      "Unterminated string starting at: line 5 column 25 (char 86)\n",
      "Unterminated string starting at: line 5 column 25 (char 83)\n",
      "Unterminated string starting at: line 5 column 25 (char 86)\n",
      "Unterminated string starting at: line 5 column 25 (char 83)\n",
      "attempting to add dict_keys(['num_white', 'num_black', 'num_latino', 'num_asian', 'evidence_span_race'])\n"
     ]
    },
    {
     "name": "stderr",
     "output_type": "stream",
     "text": [
      "430it [00:00, 2314.78it/s]\n"
     ]
    }
   ],
   "source": [
    "gt_cols = [\n",
    "    \"participants___male\",\n",
    "    \"participants___female\",\n",
    "    \"participants___total\",\n",
    "    \"participants___white\",\n",
    "    \"participants___black\",\n",
    "    \"participants___latino\",\n",
    "    \"participants___asian\",\n",
    "]\n",
    "idxs = df[\"paper___raw_text\"].notna() & ((df[gt_cols] > 0).any(axis=1))\n",
    "texts = df.loc[idxs, \"paper___raw_text\"].values.tolist()\n",
    "extractions = extraction.extract_nums_df(texts, verbose=False)\n",
    "for k in extractions.keys():\n",
    "    df.loc[idxs, k] = extractions[k].values"
   ]
  },
  {
   "cell_type": "markdown",
   "metadata": {},
   "source": [
    "### Evaluate\n",
    "Evaluates whether each extracted number is within 1 of the human-labeled value"
   ]
  },
  {
   "cell_type": "code",
   "execution_count": 8,
   "metadata": {},
   "outputs": [
    {
     "data": {
      "text/html": [
       "<div>\n",
       "<style scoped>\n",
       "    .dataframe tbody tr th:only-of-type {\n",
       "        vertical-align: middle;\n",
       "    }\n",
       "\n",
       "    .dataframe tbody tr th {\n",
       "        vertical-align: top;\n",
       "    }\n",
       "\n",
       "    .dataframe thead th {\n",
       "        text-align: right;\n",
       "    }\n",
       "</style>\n",
       "<table border=\"1\" class=\"dataframe\">\n",
       "  <thead>\n",
       "    <tr style=\"text-align: right;\">\n",
       "      <th></th>\n",
       "      <th>target</th>\n",
       "      <th>n_gt</th>\n",
       "      <th>n_pred</th>\n",
       "      <th>n_correct_1_perc</th>\n",
       "      <th>recall</th>\n",
       "      <th>precision</th>\n",
       "    </tr>\n",
       "  </thead>\n",
       "  <tbody>\n",
       "    <tr>\n",
       "      <th>0</th>\n",
       "      <td>participants___male</td>\n",
       "      <td>374</td>\n",
       "      <td>228</td>\n",
       "      <td>191</td>\n",
       "      <td>0.51</td>\n",
       "      <td>0.84</td>\n",
       "    </tr>\n",
       "    <tr>\n",
       "      <th>1</th>\n",
       "      <td>participants___female</td>\n",
       "      <td>379</td>\n",
       "      <td>233</td>\n",
       "      <td>195</td>\n",
       "      <td>0.51</td>\n",
       "      <td>0.84</td>\n",
       "    </tr>\n",
       "    <tr>\n",
       "      <th>2</th>\n",
       "      <td>participants___total</td>\n",
       "      <td>459</td>\n",
       "      <td>381</td>\n",
       "      <td>308</td>\n",
       "      <td>0.67</td>\n",
       "      <td>0.81</td>\n",
       "    </tr>\n",
       "    <tr>\n",
       "      <th>3</th>\n",
       "      <td>participants___white</td>\n",
       "      <td>93</td>\n",
       "      <td>49</td>\n",
       "      <td>26</td>\n",
       "      <td>0.28</td>\n",
       "      <td>0.53</td>\n",
       "    </tr>\n",
       "    <tr>\n",
       "      <th>4</th>\n",
       "      <td>participants___black</td>\n",
       "      <td>78</td>\n",
       "      <td>42</td>\n",
       "      <td>25</td>\n",
       "      <td>0.32</td>\n",
       "      <td>0.60</td>\n",
       "    </tr>\n",
       "    <tr>\n",
       "      <th>5</th>\n",
       "      <td>participants___latino</td>\n",
       "      <td>54</td>\n",
       "      <td>26</td>\n",
       "      <td>18</td>\n",
       "      <td>0.33</td>\n",
       "      <td>0.69</td>\n",
       "    </tr>\n",
       "    <tr>\n",
       "      <th>6</th>\n",
       "      <td>participants___asian</td>\n",
       "      <td>37</td>\n",
       "      <td>21</td>\n",
       "      <td>17</td>\n",
       "      <td>0.46</td>\n",
       "      <td>0.81</td>\n",
       "    </tr>\n",
       "  </tbody>\n",
       "</table>\n",
       "</div>"
      ],
      "text/plain": [
       "                  target  n_gt  n_pred  n_correct_1_perc  recall  precision\n",
       "0    participants___male   374     228               191    0.51       0.84\n",
       "1  participants___female   379     233               195    0.51       0.84\n",
       "2   participants___total   459     381               308    0.67       0.81\n",
       "3   participants___white    93      49                26    0.28       0.53\n",
       "4   participants___black    78      42                25    0.32       0.60\n",
       "5  participants___latino    54      26                18    0.33       0.69\n",
       "6   participants___asian    37      21                17    0.46       0.81"
      ]
     },
     "execution_count": 8,
     "metadata": {},
     "output_type": "execute_result"
    }
   ],
   "source": [
    "preds_col_to_gt_col_dict = {\n",
    "    \"num_male\": \"participants___male\",\n",
    "    \"num_female\": \"participants___female\",\n",
    "    \"num_total\": \"participants___total\",\n",
    "    \"num_white\": \"participants___white\",\n",
    "    \"num_black\": \"participants___black\",\n",
    "    \"num_asian\": \"participants___asian\",\n",
    "    \"num_latino\": \"participants___latino\",\n",
    "}\n",
    "\n",
    "# unparsable\n",
    "for k in preds_col_to_gt_col_dict.keys():\n",
    "    df.loc[~df[k].apply(eval_extraction.str_is_parsable), k] = np.nan\n",
    "    if not k == \"num_total\":\n",
    "        df[k] = eval_extraction.convert_percentages_when_total_is_known(\n",
    "            df[k], df[\"num_total\"]\n",
    "        )\n",
    "# print(\"Total n (with paper text)\", idxs.sum())\n",
    "eval_extraction.compute_metrics_within_1(\n",
    "    df, preds_col_to_gt_col_dict=preds_col_to_gt_col_dict\n",
    ")"
   ]
  }
 ],
 "metadata": {
  "kernelspec": {
   "display_name": "Python 3",
   "language": "python",
   "name": "python3"
  },
  "language_info": {
   "codemirror_mode": {
    "name": "ipython",
    "version": 3
   },
   "file_extension": ".py",
   "mimetype": "text/x-python",
   "name": "python",
   "nbconvert_exporter": "python",
   "pygments_lexer": "ipython3",
   "version": "3.11.4"
  }
 },
 "nbformat": 4,
 "nbformat_minor": 0
}
