{
 "cells": [
  {
   "cell_type": "code",
   "execution_count": 16,
   "metadata": {
    "collapsed": false,
    "pycharm": {
     "name": "#%%\n"
    }
   },
   "outputs": [
    {
     "name": "stdout",
     "output_type": "stream",
     "text": [
      "The autoreload extension is already loaded. To reload it, use:\n",
      "  %reload_ext autoreload\n"
     ]
    }
   ],
   "source": [
    "%load_ext autoreload\n",
    "%autoreload 2\n",
    "\n",
    "import pandas as pd\n",
    "import numpy as np\n",
    "import seaborn as sns\n",
    "from tqdm import tqdm\n",
    "import matplotlib.pyplot as plt\n",
    "import torch\n",
    "from transformers import AutoTokenizer, AutoModel\n",
    "from sklearn.metrics.pairwise import cosine_similarity\n",
    "from typing import List\n",
    "from sklearn.feature_extraction.text import TfidfVectorizer\n",
    "import imodelsx.embeddings\n",
    "\n",
    "df = pd.read_pickle(\"../data/data_clean.pkl\")\n",
    "n = df.shape[0]\n",
    "\n",
    "# set up text for prediction\n",
    "def get_text_representation(row):\n",
    "    # return f\"\"\"- Title: {row[\"title\"]}\n",
    "# - Description: {row[\"description\"]}\n",
    "# - Predictor variables: {str(row[\"feature_names\"])[1:-1]}\"\"\"\n",
    "    return f\"\"\"{row[\"title\"]}. {row[\"description\"]}. Keywords: {str(row[\"info___keywords\"])[1:-1]}\"\"\"\n",
    "df['text'] = df.apply(get_text_representation, axis=1)"
   ]
  },
  {
   "cell_type": "code",
   "execution_count": 29,
   "metadata": {},
   "outputs": [
    {
     "data": {
      "text/html": [
       "<div>\n",
       "<style scoped>\n",
       "    .dataframe tbody tr th:only-of-type {\n",
       "        vertical-align: middle;\n",
       "    }\n",
       "\n",
       "    .dataframe tbody tr th {\n",
       "        vertical-align: top;\n",
       "    }\n",
       "\n",
       "    .dataframe thead th {\n",
       "        text-align: right;\n",
       "    }\n",
       "</style>\n",
       "<table border=\"1\" class=\"dataframe\">\n",
       "  <thead>\n",
       "    <tr style=\"text-align: right;\">\n",
       "      <th></th>\n",
       "      <th>description</th>\n",
       "      <th>info___usage___use_case</th>\n",
       "      <th>info___usage___why_use</th>\n",
       "      <th>info___usage___notes</th>\n",
       "      <th>info___next_steps___advice</th>\n",
       "    </tr>\n",
       "  </thead>\n",
       "  <tbody>\n",
       "    <tr>\n",
       "      <th>0</th>\n",
       "      <td>Classifies unexplained events, improves on the...</td>\n",
       "      <td></td>\n",
       "      <td></td>\n",
       "      <td></td>\n",
       "      <td>&lt;ul&gt;\\n&lt;li dir=\"ltr\" aria-level=\"1\"&gt;\\n&lt;p dir=\"l...</td>\n",
       "    </tr>\n",
       "    <tr>\n",
       "      <th>1</th>\n",
       "      <td>Predicts chance of successful vaginal birth af...</td>\n",
       "      <td></td>\n",
       "      <td></td>\n",
       "      <td></td>\n",
       "      <td></td>\n",
       "    </tr>\n",
       "    <tr>\n",
       "      <th>2</th>\n",
       "      <td>Predicts adverse outcome in adults presenting ...</td>\n",
       "      <td></td>\n",
       "      <td></td>\n",
       "      <td></td>\n",
       "      <td></td>\n",
       "    </tr>\n",
       "    <tr>\n",
       "      <th>3</th>\n",
       "      <td>Identifies low-risk penicillin allergies.</td>\n",
       "      <td></td>\n",
       "      <td></td>\n",
       "      <td></td>\n",
       "      <td></td>\n",
       "    </tr>\n",
       "    <tr>\n",
       "      <th>4</th>\n",
       "      <td>Predicts likelihood of inpatient mortality or ...</td>\n",
       "      <td></td>\n",
       "      <td></td>\n",
       "      <td></td>\n",
       "      <td></td>\n",
       "    </tr>\n",
       "    <tr>\n",
       "      <th>...</th>\n",
       "      <td>...</td>\n",
       "      <td>...</td>\n",
       "      <td>...</td>\n",
       "      <td>...</td>\n",
       "      <td>...</td>\n",
       "    </tr>\n",
       "    <tr>\n",
       "      <th>685</th>\n",
       "      <td>Calculates pack years in patients with any smo...</td>\n",
       "      <td>Patients who report any smoking history.</td>\n",
       "      <td>&lt;ul&gt;\\n&lt;li dir=\"ltr\"&gt;\\n&lt;p dir=\"ltr\"&gt;Standard cl...</td>\n",
       "      <td></td>\n",
       "      <td>&lt;span id=\"docs-internal-guid-31b99af7-7fff-482...</td>\n",
       "    </tr>\n",
       "    <tr>\n",
       "      <th>686</th>\n",
       "      <td>Determines what immunizations/vaccinations are...</td>\n",
       "      <td></td>\n",
       "      <td></td>\n",
       "      <td>This calculator is meant to provide a general ...</td>\n",
       "      <td>Make sure to discuss vaccination and immunizat...</td>\n",
       "    </tr>\n",
       "    <tr>\n",
       "      <th>687</th>\n",
       "      <td>Prognoses prostate cancer based on microscopic...</td>\n",
       "      <td>Staging prostate cancer based on biopsy findings.</td>\n",
       "      <td>The Gleason Score is the standard staging crit...</td>\n",
       "      <td></td>\n",
       "      <td>Other scores like the &lt;calculator id=\"2046\"&gt;UC...</td>\n",
       "    </tr>\n",
       "    <tr>\n",
       "      <th>688</th>\n",
       "      <td>Converts steroid dosages using dosing equivale...</td>\n",
       "      <td>&lt;ul&gt;&lt;li&gt;Patients on chronic steroids may need ...</td>\n",
       "      <td>Different glucocorticoids possess different du...</td>\n",
       "      <td>&lt;ul&gt;&lt;li&gt;These dose relationships only apply to...</td>\n",
       "      <td>Remember to consider not just potency but also...</td>\n",
       "    </tr>\n",
       "    <tr>\n",
       "      <th>689</th>\n",
       "      <td>Calculates pregnancy dates from last period, g...</td>\n",
       "      <td>Patients who are pregnant or may be pregnant.</td>\n",
       "      <td>Accurate estimates of gestational age&amp;nbsp;may...</td>\n",
       "      <td>According to &lt;a href=\"https://www.acog.org/Cli...</td>\n",
       "      <td>Use to track and estimate pregnancy.</td>\n",
       "    </tr>\n",
       "  </tbody>\n",
       "</table>\n",
       "<p>690 rows × 5 columns</p>\n",
       "</div>"
      ],
      "text/plain": [
       "                                           description  \\\n",
       "0    Classifies unexplained events, improves on the...   \n",
       "1    Predicts chance of successful vaginal birth af...   \n",
       "2    Predicts adverse outcome in adults presenting ...   \n",
       "3            Identifies low-risk penicillin allergies.   \n",
       "4    Predicts likelihood of inpatient mortality or ...   \n",
       "..                                                 ...   \n",
       "685  Calculates pack years in patients with any smo...   \n",
       "686  Determines what immunizations/vaccinations are...   \n",
       "687  Prognoses prostate cancer based on microscopic...   \n",
       "688  Converts steroid dosages using dosing equivale...   \n",
       "689  Calculates pregnancy dates from last period, g...   \n",
       "\n",
       "                               info___usage___use_case  \\\n",
       "0                                                        \n",
       "1                                                        \n",
       "2                                                        \n",
       "3                                                        \n",
       "4                                                        \n",
       "..                                                 ...   \n",
       "685           Patients who report any smoking history.   \n",
       "686                                                      \n",
       "687  Staging prostate cancer based on biopsy findings.   \n",
       "688  <ul><li>Patients on chronic steroids may need ...   \n",
       "689      Patients who are pregnant or may be pregnant.   \n",
       "\n",
       "                                info___usage___why_use  \\\n",
       "0                                                        \n",
       "1                                                        \n",
       "2                                                        \n",
       "3                                                        \n",
       "4                                                        \n",
       "..                                                 ...   \n",
       "685  <ul>\\n<li dir=\"ltr\">\\n<p dir=\"ltr\">Standard cl...   \n",
       "686                                                      \n",
       "687  The Gleason Score is the standard staging crit...   \n",
       "688  Different glucocorticoids possess different du...   \n",
       "689  Accurate estimates of gestational age&nbsp;may...   \n",
       "\n",
       "                                  info___usage___notes  \\\n",
       "0                                                        \n",
       "1                                                        \n",
       "2                                                        \n",
       "3                                                        \n",
       "4                                                        \n",
       "..                                                 ...   \n",
       "685                                                      \n",
       "686  This calculator is meant to provide a general ...   \n",
       "687                                                      \n",
       "688  <ul><li>These dose relationships only apply to...   \n",
       "689  According to <a href=\"https://www.acog.org/Cli...   \n",
       "\n",
       "                            info___next_steps___advice  \n",
       "0    <ul>\\n<li dir=\"ltr\" aria-level=\"1\">\\n<p dir=\"l...  \n",
       "1                                                       \n",
       "2                                                       \n",
       "3                                                       \n",
       "4                                                       \n",
       "..                                                 ...  \n",
       "685  <span id=\"docs-internal-guid-31b99af7-7fff-482...  \n",
       "686  Make sure to discuss vaccination and immunizat...  \n",
       "687  Other scores like the <calculator id=\"2046\">UC...  \n",
       "688  Remember to consider not just potency but also...  \n",
       "689               Use to track and estimate pregnancy.  \n",
       "\n",
       "[690 rows x 5 columns]"
      ]
     },
     "execution_count": 29,
     "metadata": {},
     "output_type": "execute_result"
    }
   ],
   "source": [
    "df[['description', 'info___usage___use_case', 'info___usage___why_use', 'info___usage___notes', 'info___next_steps___advice']]"
   ]
  },
  {
   "cell_type": "code",
   "execution_count": 20,
   "metadata": {},
   "outputs": [
    {
     "data": {
      "text/plain": [
       "Index(['id', 'title', 'description_short', 'paper___citation', 'paper___url',\n",
       "       'paper___year', 'participants___male', 'participants___female',\n",
       "       'participants___total', 'participants___white', 'participants___black',\n",
       "       'participants___latino', 'participants___asian', 'description',\n",
       "       'info___mdcalc_url', 'categorization___type', 'title_short',\n",
       "       'info___before_use', 'info___instructions', 'info___keywords',\n",
       "       'categorization___chief_complaint', 'categorization___specialty',\n",
       "       'categorization___purpose', 'categorization___system',\n",
       "       'categorization___disease', 'feature_names_raw', 'feature_names',\n",
       "       'paper___author_names', 'paper___author_affiliations',\n",
       "       'paper___author_genders', 'paper___author_countries',\n",
       "       'info___related_calc_ids', 'info___additional_references',\n",
       "       'info___usage___use_case', 'info___usage___why_use',\n",
       "       'info___usage___notes', 'info___next_steps___advice',\n",
       "       'info___next_steps___management',\n",
       "       'info___next_steps___critical_actions', 'info___details___formula',\n",
       "       'info___details___more_info', 'info___details___evidence_overview',\n",
       "       'paper___raw_text', 'text'],\n",
       "      dtype='object')"
      ]
     },
     "execution_count": 20,
     "metadata": {},
     "output_type": "execute_result"
    }
   ],
   "source": [
    "df.columns"
   ]
  },
  {
   "cell_type": "code",
   "execution_count": 21,
   "metadata": {},
   "outputs": [
    {
     "name": "stderr",
     "output_type": "stream",
     "text": [
      "0it [00:00, ?it/s]"
     ]
    },
    {
     "name": "stderr",
     "output_type": "stream",
     "text": [
      "690it [00:00, 3750.52it/s]\n"
     ]
    }
   ],
   "source": [
    "def id_to_idx(id, df):\n",
    "    return np.where(df.id == id)[0]\n",
    "\n",
    "\n",
    "sims = np.zeros((n, n))\n",
    "for r, row in tqdm(df.iterrows()):\n",
    "    ids = row[\"info___related_calc_ids\"]\n",
    "    for id in ids:\n",
    "        c = id_to_idx(id, df)\n",
    "        sims[r, c] += 1\n",
    "\n",
    "    # for c, col in df.iterrows():\n",
    "    #     for key in [\n",
    "    #         \"categorization___chief_complaint\",\n",
    "    #         \"categorization___specialty\",\n",
    "    #         \"categorization___purpose\",\n",
    "    #         \"categorization___system\",\n",
    "    #         \"categorization___disease\",\n",
    "    #     ]:\n",
    "    #         if row[key] == col[key]:\n",
    "    #             sims[r, c] += 1\n",
    "\n",
    "\n",
    "# average values across the diagonal\n",
    "sims = (sims + sims.T) / 2\n",
    "\n",
    "# set diagonal to 1\n",
    "# np.fill_diagonal(sims, max(sims))\n",
    "\n",
    "# plot clustermap\n",
    "# sns.clustermap(sims)"
   ]
  },
  {
   "cell_type": "code",
   "execution_count": 24,
   "metadata": {},
   "outputs": [
    {
     "name": "stderr",
     "output_type": "stream",
     "text": [
      "100%|██████████| 22/22 [00:02<00:00, 10.02it/s]\n"
     ]
    }
   ],
   "source": [
    "checkpoint = \"bert-base-uncased\"\n",
    "# checkpoint = 'microsoft/deberta-v2-xxlarge'\n",
    "embs = imodelsx.embeddings.get_embs(df[\"text\"].tolist(), checkpoint, batch_size=32)"
   ]
  },
  {
   "cell_type": "code",
   "execution_count": 25,
   "metadata": {},
   "outputs": [],
   "source": [
    "embs = imodelsx.embeddings.get_embs_linear(df[\"text\"].tolist())"
   ]
  },
  {
   "cell_type": "code",
   "execution_count": 28,
   "metadata": {},
   "outputs": [
    {
     "name": "stdout",
     "output_type": "stream",
     "text": [
      "324.01 344.5\n"
     ]
    }
   ],
   "source": [
    "# calculate pairwise similarity between all embeddings in embs\n",
    "s = cosine_similarity(embs)\n",
    "\n",
    "# ranks for largest values in each row (0 is best rank)\n",
    "ranks = np.argsort(s, axis=1)[:, ::-1]\n",
    "\n",
    "# matrix showing gt\n",
    "sims_sym = (sims >= 1.0).astype(bool)\n",
    "\n",
    "# select ranks for gt\n",
    "ranks_for_gt = []\n",
    "for i in range(sims_sym.shape[0]):\n",
    "    ranks_for_gt.append(ranks[i][sims_sym[i]])\n",
    "\n",
    "# look at ranks\n",
    "all_ranks = np.concatenate(ranks_for_gt) - 1\n",
    "mean_rank = np.mean(all_ranks).round(2)\n",
    "print(mean_rank, (ranks.shape[1] - 1) / 2)\n",
    "# plt.axvline(mean_rank, color=\"k\", linestyle=\"dashed\", linewidth=1)\n",
    "# plt.hist(all_ranks)"
   ]
  },
  {
   "cell_type": "code",
   "execution_count": null,
   "metadata": {},
   "outputs": [],
   "source": []
  }
 ],
 "metadata": {
  "kernelspec": {
   "display_name": "Python 3",
   "language": "python",
   "name": "python3"
  },
  "language_info": {
   "codemirror_mode": {
    "name": "ipython",
    "version": 3
   },
   "file_extension": ".py",
   "mimetype": "text/x-python",
   "name": "python",
   "nbconvert_exporter": "python",
   "pygments_lexer": "ipython3",
   "version": "3.11.4"
  }
 },
 "nbformat": 4,
 "nbformat_minor": 0
}
