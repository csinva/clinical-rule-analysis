{
 "cells": [
  {
   "cell_type": "code",
   "execution_count": 120,
   "metadata": {
    "collapsed": false,
    "pycharm": {
     "name": "#%%\n"
    }
   },
   "outputs": [
    {
     "name": "stdout",
     "output_type": "stream",
     "text": [
      "The autoreload extension is already loaded. To reload it, use:\n",
      "  %reload_ext autoreload\n"
     ]
    }
   ],
   "source": [
    "%load_ext autoreload\n",
    "%autoreload 2\n",
    "\n",
    "import pandas as pd\n",
    "import numpy as np\n",
    "import seaborn as sns\n",
    "from tqdm import tqdm\n",
    "import matplotlib.pyplot as plt\n",
    "import torch\n",
    "from transformers import AutoTokenizer, AutoModel\n",
    "from sklearn.metrics.pairwise import cosine_similarity\n",
    "from typing import List\n",
    "from sklearn.feature_extraction.text import TfidfVectorizer\n",
    "\n",
    "df = pd.read_pickle(\"../data/data_clean.pkl\")\n",
    "n = df.shape[0]\n",
    "\n",
    "# set up text for prediction\n",
    "def get_text_representation(row):\n",
    "    # return f\"\"\"- Title: {row[\"title\"]}\n",
    "# - Description: {row[\"description\"]}\n",
    "# - Predictor variables: {str(row[\"feature_names\"])[1:-1]}\"\"\"\n",
    "    return f\"\"\"{row[\"title\"]}. {row[\"description\"]}\"\"\"\n",
    "df['text'] = df.apply(get_text_representation, axis=1)"
   ]
  },
  {
   "cell_type": "code",
   "execution_count": 121,
   "metadata": {},
   "outputs": [
    {
     "name": "stderr",
     "output_type": "stream",
     "text": [
      "0it [00:00, ?it/s]"
     ]
    },
    {
     "name": "stderr",
     "output_type": "stream",
     "text": [
      "690it [00:00, 3668.10it/s]\n"
     ]
    }
   ],
   "source": [
    "def id_to_idx(id, df):\n",
    "    return np.where(df.id == id)[0]\n",
    "\n",
    "\n",
    "sims = np.zeros((n, n))\n",
    "for r, row in tqdm(df.iterrows()):\n",
    "    ids = row[\"info___related_calc_ids\"]\n",
    "    for id in ids:\n",
    "        c = id_to_idx(id, df)\n",
    "        sims[r, c] += 1\n",
    "\n",
    "    # for c, col in df.iterrows():\n",
    "    #     for key in [\n",
    "    #         \"categorization___chief_complaint\",\n",
    "    #         \"categorization___specialty\",\n",
    "    #         \"categorization___purpose\",\n",
    "    #         \"categorization___system\",\n",
    "    #         \"categorization___disease\",\n",
    "    #     ]:\n",
    "    #         if row[key] == col[key]:\n",
    "    #             sims[r, c] += 1\n",
    "\n",
    "\n",
    "# average values across the diagonal\n",
    "sims = (sims + sims.T) / 2\n",
    "\n",
    "# set diagonal to 1\n",
    "# np.fill_diagonal(sims, max(sims))\n",
    "\n",
    "# plot clustermap\n",
    "# sns.clustermap(sims)"
   ]
  },
  {
   "cell_type": "code",
   "execution_count": 123,
   "metadata": {},
   "outputs": [
    {
     "name": "stderr",
     "output_type": "stream",
     "text": [
      "100%|██████████| 22/22 [00:04<00:00,  4.44it/s]\n"
     ]
    }
   ],
   "source": [
    "def get_embs(\n",
    "    texts: List[str], checkpoint: str = \"bert-base-uncased\", batch_size: int = 32\n",
    ") -> np.ndarray:\n",
    "    \n",
    "    # load model\n",
    "    # get embeddings for each text from the corpus\n",
    "    tokenizer = AutoTokenizer.from_pretrained(checkpoint)\n",
    "    model = AutoModel.from_pretrained(checkpoint)\n",
    "\n",
    "    # calculate embeddings\n",
    "    embs = []\n",
    "    for i in tqdm(range(0, len(df), batch_size)):\n",
    "        t = texts[i : i + batch_size]\n",
    "        with torch.no_grad():\n",
    "            # tokenize\n",
    "            inputs = tokenizer(t, return_tensors=\"pt\", padding=True, truncation=True)\n",
    "            # Shape: [batch_size, seq_len, hidden_size]\n",
    "            outputs = model(**inputs).last_hidden_state.detach().cpu().numpy()\n",
    "            emb = np.mean(outputs, axis=1).squeeze()  # average over sequence length\n",
    "            # emb = outputs[:, 0, :].squeeze()  # use CLS token\n",
    "            embs.append(emb)\n",
    "    embs = np.concatenate(embs)\n",
    "    return embs\n",
    "\n",
    "\n",
    "checkpoint = \"bert-base-uncased\"\n",
    "# checkpoint = 'microsoft/deberta-v2-xxlarge'\n",
    "embs = get_embs(df[\"text\"].tolist(), checkpoint, batch_size=32)"
   ]
  },
  {
   "cell_type": "code",
   "execution_count": 127,
   "metadata": {},
   "outputs": [],
   "source": [
    "def get_embs_linear(texts: List[str]) -> np.ndarray:\n",
    "    \"\"\"Get TF-IDF vectors for a list of texts.\n",
    "\n",
    "    Args:\n",
    "        texts (List[str]): List of texts to get TF-IDF vectors for.\n",
    "        checkpoint (str, optional): Checkpoint to use for the TF-IDF vectorizer. Defaults to \"bert-base-uncased\".\n",
    "        batch_size (int, optional): Batch size to use for the TF-IDF vectorizer. Defaults to 32.\n",
    "\n",
    "    Returns:\n",
    "        np.ndarray: TF-IDF vectors for the input texts.\n",
    "    \"\"\"\n",
    "    vectorizer = TfidfVectorizer(\n",
    "        tokenizer=AutoTokenizer.from_pretrained(checkpoint).tokenize,\n",
    "        preprocessor=lambda x: x,\n",
    "        token_pattern=None,\n",
    "        lowercase=False,\n",
    "        max_features=10000,\n",
    "    )\n",
    "    return vectorizer.fit_transform(texts).toarray()\n",
    "embs = get_embs_linear(df[\"text\"].tolist())"
   ]
  },
  {
   "cell_type": "code",
   "execution_count": 129,
   "metadata": {},
   "outputs": [
    {
     "name": "stdout",
     "output_type": "stream",
     "text": [
      "326.18 344.5\n"
     ]
    },
    {
     "data": {
      "image/png": "[encoded data removed]",
      "text/plain": [
       "<Figure size 640x480 with 1 Axes>"
      ]
     },
     "metadata": {},
     "output_type": "display_data"
    }
   ],
   "source": [
    "# calculate pairwise similarity between all embeddings in embs\n",
    "s = cosine_similarity(embs)\n",
    "\n",
    "# ranks for largest values in each row (0 is best rank)\n",
    "ranks = np.argsort(s, axis=1)[:, ::-1]\n",
    "\n",
    "# matrix showing gt\n",
    "sims_sym = (sims >= 1.0).astype(bool)\n",
    "\n",
    "# select ranks for gt\n",
    "ranks_for_gt = []\n",
    "for i in range(sims_sym.shape[0]):\n",
    "    ranks_for_gt.append(ranks[i][sims_sym[i]])\n",
    "\n",
    "# look at ranks\n",
    "all_ranks = np.concatenate(ranks_for_gt) - 1\n",
    "plt.hist(all_ranks)\n",
    "mean_rank = np.mean(all_ranks).round(2)\n",
    "plt.axvline(mean_rank, color=\"k\", linestyle=\"dashed\", linewidth=1)\n",
    "print(mean_rank, (ranks.shape[1] - 1) / 2)"
   ]
  }
 ],
 "metadata": {
  "kernelspec": {
   "display_name": "Python 3",
   "language": "python",
   "name": "python3"
  },
  "language_info": {
   "codemirror_mode": {
    "name": "ipython",
    "version": 3
   },
   "file_extension": ".py",
   "mimetype": "text/x-python",
   "name": "python",
   "nbconvert_exporter": "python",
   "pygments_lexer": "ipython3",
   "version": "3.11.4"
  }
 },
 "nbformat": 4,
 "nbformat_minor": 0
}
