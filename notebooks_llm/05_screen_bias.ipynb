{
 "cells": [
  {
   "cell_type": "code",
   "execution_count": 1,
   "metadata": {
    "collapsed": false,
    "pycharm": {
     "name": "#%%\n"
    }
   },
   "outputs": [],
   "source": [
    "%load_ext autoreload\n",
    "%autoreload 2\n",
    "\n",
    "import pandas as pd\n",
    "import numpy as np\n",
    "import seaborn as sns\n",
    "from tqdm import tqdm\n",
    "import matplotlib.pyplot as plt\n",
    "import imodelsx.llm\n",
    "\n",
    "import openai\n",
    "openai.api_key_path = '/home/chansingh/.OPENAI_KEY'\n",
    "outcome = 'iai'\n",
    "\n",
    "df = pd.read_pickle(\"../data/data_clean.pkl\")\n",
    "n = df.shape[0]"
   ]
  },
  {
   "cell_type": "code",
   "execution_count": 2,
   "metadata": {},
   "outputs": [],
   "source": [
    "# with pd.option_context(\"display.max_rows\", None, \"display.max_columns\", None, \"display.max_colwidth\", 1000):\n",
    "#     display(df[[\"id\", \"title\", \"feature_names\", \"info___mdcalc_url\"]])"
   ]
  },
  {
   "cell_type": "code",
   "execution_count": 3,
   "metadata": {},
   "outputs": [],
   "source": [
    "llm = imodelsx.llm.get_llm('gpt-4-0314')"
   ]
  },
  {
   "cell_type": "code",
   "execution_count": 18,
   "metadata": {},
   "outputs": [
    {
     "data": {
      "text/plain": [
       "title            PECARN Pediatric Intra-Abdominal Injury (IAI) ...\n",
       "description      Identifies children at very low risk of clinic...\n",
       "feature_names    [Nausea/vomiting, Decreased breath sounds, Evi...\n",
       "Name: 68, dtype: object"
      ]
     },
     "execution_count": 18,
     "metadata": {},
     "output_type": "execute_result"
    }
   ],
   "source": [
    "# df[df.title.str.contains('pecarn', case=False)]\n",
    "row = df[df.id==3971][['title', 'description', 'feature_names']].iloc[0]\n",
    "row"
   ]
  },
  {
   "cell_type": "code",
   "execution_count": 19,
   "metadata": {},
   "outputs": [],
   "source": [
    "prompt = f'''### Question: Describe any potential issues with bias in the development of the following clinical decision instrument. If no issues are found, return \"No issues\".\n",
    "\n",
    "- Title: {row[\"title\"]}\n",
    "- Description: {row[\"description\"]}\n",
    "- Predictor variables: {str(row[\"feature_names\"])[1:-1]}\n",
    "\n",
    "### Answer:'''"
   ]
  },
  {
   "cell_type": "code",
   "execution_count": 20,
   "metadata": {},
   "outputs": [
    {
     "name": "stdout",
     "output_type": "stream",
     "text": [
      "### Question: Describe any potential issues with bias in the development of the following clinical decision instrument. If no issues are found, return \"No issues\".\n",
      "\n",
      "- Title: PECARN Pediatric Intra-Abdominal Injury (IAI) Algorithm\n",
      "- Description: Identifies children at very low risk of clinically important blunt abdominal injuries.\n",
      "- Predictor variables: 'Nausea/vomiting', 'Decreased breath sounds', 'Evidence of abdominal wall trauma or seatbelt sign', 'Abdominal tenderness', 'Abdominal pain', 'Glasgow Coma Scale', 'Thoracic wall trauma'\n",
      "\n",
      "### Answer:\n"
     ]
    }
   ],
   "source": [
    "print(prompt)"
   ]
  },
  {
   "cell_type": "code",
   "execution_count": 21,
   "metadata": {},
   "outputs": [
    {
     "name": "stdout",
     "output_type": "stream",
     "text": [
      "not cached\n",
      "Some potential issues with bias in the development of the PECARN Pediatric Intra-Abdominal Injury (IAI) Algorithm may include:\n",
      "\n",
      "1. Selection bias: If the study population used to develop the algorithm is not representative of the general pediatric population, the results may not be generalizable. For example, if the study only included children from a specific region, ethnicity, or socioeconomic background, it may not accurately predict IAI risk for children from different backgrounds.\n",
      "\n",
      "2. Measurement bias: If the predictor variables are not accurately measured or recorded, this could lead to biased results. For example, if there is inconsistency in how healthcare providers assess and document abdominal tenderness or pain, this could affect the algorithm's performance.\n",
      "\n",
      "3. Confounding variables: If there are other factors that influence both the predictor variables and the outcome (clinically important blunt abdominal injuries), these confounding variables could lead to biased results if not accounted for in the analysis.\n",
      "\n",
      "4. Overfitting: If the algorithm is developed using a small sample size or too many predictor variables relative to the number of outcomes, it may be overfit to the data and not perform well when applied to new patients.\n",
      "\n",
      "5. Temporal bias: If there have been changes in clinical practice\n"
     ]
    }
   ],
   "source": [
    "print(llm(prompt))"
   ]
  }
 ],
 "metadata": {
  "kernelspec": {
   "display_name": "Python 3",
   "language": "python",
   "name": "python3"
  },
  "language_info": {
   "codemirror_mode": {
    "name": "ipython",
    "version": 3
   },
   "file_extension": ".py",
   "mimetype": "text/x-python",
   "name": "python",
   "nbconvert_exporter": "python",
   "pygments_lexer": "ipython3",
   "version": "3.11.4"
  }
 },
 "nbformat": 4,
 "nbformat_minor": 0
}
