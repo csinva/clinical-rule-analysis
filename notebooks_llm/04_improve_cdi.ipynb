{
 "cells": [
  {
   "cell_type": "code",
   "execution_count": 2,
   "metadata": {
    "collapsed": false,
    "pycharm": {
     "name": "#%%\n"
    }
   },
   "outputs": [
    {
     "name": "stdout",
     "output_type": "stream",
     "text": [
      "The autoreload extension is already loaded. To reload it, use:\n",
      "  %reload_ext autoreload\n"
     ]
    }
   ],
   "source": [
    "%load_ext autoreload\n",
    "%autoreload 2\n",
    "\n",
    "import pandas as pd\n",
    "import numpy as np\n",
    "import seaborn as sns\n",
    "from tqdm import tqdm\n",
    "import matplotlib.pyplot as plt\n",
    "import imodels\n",
    "\n",
    "df = pd.read_pickle(\"../data/data_clean.pkl\")\n",
    "n = df.shape[0]"
   ]
  },
  {
   "cell_type": "code",
   "execution_count": 4,
   "metadata": {},
   "outputs": [],
   "source": [
    "X, y, feature_names = imodels.get_clean_dataset('iai_pecarn_prop', data_source='imodels')"
   ]
  },
  {
   "cell_type": "code",
   "execution_count": 5,
   "metadata": {},
   "outputs": [
    {
     "data": {
      "text/plain": [
       "['AbdDistention_no',\n",
       " 'AbdDistention_or_AbdomenPain_no',\n",
       " 'AbdDistention_or_AbdomenPain_yes',\n",
       " 'AbdDistention_unknown',\n",
       " 'AbdDistention_yes',\n",
       " 'AbdTenderDegree_Mild',\n",
       " 'AbdTenderDegree_Moderate',\n",
       " 'AbdTenderDegree_Severe',\n",
       " 'AbdTenderDegree_unknown',\n",
       " 'AbdTrauma_no',\n",
       " 'AbdTrauma_or_SeatBeltSign_no',\n",
       " 'AbdTrauma_or_SeatBeltSign_yes',\n",
       " 'AbdTrauma_unknown',\n",
       " 'AbdTrauma_yes',\n",
       " 'AbdomenPain_no',\n",
       " 'AbdomenPain_unknown',\n",
       " 'AbdomenPain_yes',\n",
       " 'Age',\n",
       " 'Age<2_no',\n",
       " 'Age<2_yes',\n",
       " 'CostalTender_no',\n",
       " 'CostalTender_yes',\n",
       " 'DecrBreathSound_no',\n",
       " 'DecrBreathSound_unknown',\n",
       " 'DecrBreathSound_yes',\n",
       " 'DistractingPain_no',\n",
       " 'DistractingPain_unknown',\n",
       " 'DistractingPain_yes',\n",
       " 'GCSScore',\n",
       " 'GCSScore_Full_no',\n",
       " 'GCSScore_Full_yes',\n",
       " 'Hypotension_no',\n",
       " 'Hypotension_yes',\n",
       " 'InitHeartRate',\n",
       " 'InitSysBPRange',\n",
       " 'LtCostalTender',\n",
       " 'MOI_Bike collision/fall',\n",
       " 'MOI_Fall down stairs',\n",
       " 'MOI_Fall from an elevation',\n",
       " 'MOI_Motor vehicle collision',\n",
       " 'MOI_Motorcycle/ATV/Scooter collision',\n",
       " 'MOI_Object struck abdomen',\n",
       " 'MOI_Pedestrian/bicyclist struck by moving vehicle',\n",
       " 'MOI_unknown',\n",
       " 'OTHER_RACE_Ethnicity Recorded in Other Race',\n",
       " 'OTHER_RACE_Mixed Race',\n",
       " 'OTHER_RACE_Physician Did Not Answer Race and Ethinicity',\n",
       " 'OTHER_RACE_Race and ethnicity not indicated y physician',\n",
       " 'OtherDescrip_MOI not clear [date redacted] poor pt. history; altered mental status prior to arriving in TRU according to EMT',\n",
       " 'OtherDescrip_extreme tenderness to palm - pos. LOC - unknown MOI',\n",
       " 'OtherMOIHighRisk',\n",
       " 'OtherMechanism_Assualt and Sexual Assault',\n",
       " 'Race_American Indian or Alaska Native',\n",
       " 'Race_Asian',\n",
       " 'Race_Black or African American',\n",
       " 'Race_Native Hawaiian or other Pacific Islander',\n",
       " 'Race_White (Non-Hispanic)',\n",
       " 'Race_unknown',\n",
       " 'RtCostalTender',\n",
       " 'SeatBeltSign_no',\n",
       " 'SeatBeltSign_unknown',\n",
       " 'SeatBeltSign_yes',\n",
       " 'Sex_F',\n",
       " 'Sex_M',\n",
       " 'ThoracicTender_no',\n",
       " 'ThoracicTender_unknown',\n",
       " 'ThoracicTender_yes',\n",
       " 'ThoracicTrauma_no',\n",
       " 'ThoracicTrauma_unknown',\n",
       " 'ThoracicTrauma_yes',\n",
       " 'VomitWretch_no',\n",
       " 'VomitWretch_unknown',\n",
       " 'VomitWretch_yes']"
      ]
     },
     "execution_count": 5,
     "metadata": {},
     "output_type": "execute_result"
    }
   ],
   "source": [
    "feature_names"
   ]
  },
  {
   "cell_type": "code",
   "execution_count": null,
   "metadata": {},
   "outputs": [],
   "source": []
  }
 ],
 "metadata": {
  "kernelspec": {
   "display_name": "Python 3",
   "language": "python",
   "name": "python3"
  },
  "language_info": {
   "codemirror_mode": {
    "name": "ipython",
    "version": 3
   },
   "file_extension": ".py",
   "mimetype": "text/x-python",
   "name": "python",
   "nbconvert_exporter": "python",
   "pygments_lexer": "ipython3",
   "version": "3.11.4"
  }
 },
 "nbformat": 4,
 "nbformat_minor": 0
}
