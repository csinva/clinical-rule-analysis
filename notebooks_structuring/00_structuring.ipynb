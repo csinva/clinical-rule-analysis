{
 "cells": [
  {
   "cell_type": "code",
   "execution_count": null,
   "metadata": {
    "collapsed": false,
    "pycharm": {
     "name": "#%%\n"
    }
   },
   "outputs": [],
   "source": [
    "%load_ext autoreload\n",
    "%autoreload 2\n",
    "\n",
    "import pandas as pd\n",
    "import re\n",
    "import json\n",
    "import sys\n",
    "import numpy as np"
   ]
  },
  {
   "cell_type": "code",
   "execution_count": null,
   "metadata": {},
   "outputs": [],
   "source": [
    "df = pd.read_pickle(\"../data/data_clean.pkl\")"
   ]
  },
  {
   "cell_type": "code",
   "execution_count": null,
   "metadata": {},
   "outputs": [
    {
     "data": {
      "text/plain": [
       "Index(['id', 'title', 'description_short', 'paper___citation', 'paper___url',\n",
       "       'paper___year', 'participants___male', 'participants___female',\n",
       "       'participants___total', 'participants___white', 'participants___black',\n",
       "       'participants___latino', 'participants___asian', 'description',\n",
       "       'info___mdcalc_url', 'categorization___type', 'title_short',\n",
       "       'info___before_use', 'info___instructions', 'info___keywords',\n",
       "       'categorization___chief_complaint', 'categorization___specialty',\n",
       "       'categorization___purpose', 'categorization___system',\n",
       "       'categorization___disease', 'feature_names_raw', 'feature_names',\n",
       "       'paper___author_names', 'paper___author_affiliations',\n",
       "       'paper___author_genders', 'paper___author_countries',\n",
       "       'info___related_cdi_ids', 'info___additional_references',\n",
       "       'info___usage___use_case', 'info___usage___why_use',\n",
       "       'info___usage___notes', 'info___next_steps___advice',\n",
       "       'info___next_steps___management',\n",
       "       'info___next_steps___critical_actions', 'info___details___formula',\n",
       "       'info___details___more_info', 'info___details___evidence_overview',\n",
       "       'paper___raw_text'],\n",
       "      dtype='object')"
      ]
     },
     "execution_count": 14,
     "metadata": {},
     "output_type": "execute_result"
    }
   ],
   "source": [
    "df.columns"
   ]
  },
  {
   "cell_type": "code",
   "execution_count": 17,
   "metadata": {},
   "outputs": [],
   "source": [
    "df = df.sort_values('paper___year', ascending=False)"
   ]
  },
  {
   "cell_type": "code",
   "execution_count": 30,
   "metadata": {},
   "outputs": [
    {
     "data": {
      "text/html": [
       "<div>\n",
       "<style scoped>\n",
       "    .dataframe tbody tr th:only-of-type {\n",
       "        vertical-align: middle;\n",
       "    }\n",
       "\n",
       "    .dataframe tbody tr th {\n",
       "        vertical-align: top;\n",
       "    }\n",
       "\n",
       "    .dataframe thead th {\n",
       "        text-align: right;\n",
       "    }\n",
       "</style>\n",
       "<table border=\"1\" class=\"dataframe\">\n",
       "  <thead>\n",
       "    <tr style=\"text-align: right;\">\n",
       "      <th></th>\n",
       "      <th>id</th>\n",
       "      <th>feature_names</th>\n",
       "      <th>info___mdcalc_url</th>\n",
       "    </tr>\n",
       "  </thead>\n",
       "  <tbody>\n",
       "    <tr>\n",
       "      <th>249</th>\n",
       "      <td>10370</td>\n",
       "      <td>[Chest pain AND acute dyspnea, Prior history of VTE, Current estrogen use, Sex/Gender, Immobility within the last four weeks, O2 saturation &lt;95%, Calf pain and/or unilateral lower limb edema, Age, Chronic respiratory disease, Syncope, Heart rate, PE is the most likely diagnosis]</td>\n",
       "      <td>https://www.mdcalc.com/calc/10370/4-level-pulmonary-embolism-clinical-probability-score-4peps</td>\n",
       "    </tr>\n",
       "    <tr>\n",
       "      <th>248</th>\n",
       "      <td>10461</td>\n",
       "      <td>[Adverse event:, Is the adverse event hindering walking, preventing the patient from attending their own bodily needs?, Is the adverse event leaving the patient bedridden, in need of constant help, incontinent?, Is the adverse event hindering at least one activity of daily living?, Is the adverse event resulting in any new neurological deficit?]</td>\n",
       "      <td>https://www.mdcalc.com/calc/10461/therapy-disability-neurology-tdn-grade</td>\n",
       "    </tr>\n",
       "    <tr>\n",
       "      <th>112</th>\n",
       "      <td>10369</td>\n",
       "      <td>[Respiratory rate, Sex/Gender, Systolic BP, Performance status, Alertness, Oxygen saturation, Age, Heart rate, Inspired oxygen, Temperature]</td>\n",
       "      <td>https://www.mdcalc.com/calc/10369/priest-covid-19-clinical-severity-score</td>\n",
       "    </tr>\n",
       "    <tr>\n",
       "      <th>652</th>\n",
       "      <td>10286</td>\n",
       "      <td>[Does patient still have &gt;2 criteria despite NIV/HFNC?, PaO2, Patient wheezing OR unable to speak in full sentences while at rest/with minimal effort, Repeat CXR is significantly worsening, Respiratory rate, Patient prone or on ECMO, Patient on neuromuscular blockade (NMBA), Intubated]</td>\n",
       "      <td>https://www.mdcalc.com/calc/10286/brescia-covid-respiratory-severity-scale-bcrss-algorithm</td>\n",
       "    </tr>\n",
       "    <tr>\n",
       "      <th>114</th>\n",
       "      <td>10371</td>\n",
       "      <td>[Albumin, Constitutional symptoms present, Sex/Gender, C-reactive protein, Admitted from nursing home, Charlson Score, Age, Race/Ethnicity, Ferritin, Loss of taste or smell, Absolute lymphocyte count, Alanine aminotransferase, White blood cell count, Temperature, Respiratory symptoms present, Gastrointestinal symptoms present, Troponin observed, BMI, D-dimer, Hemoglobin, Respiratory rate, Glomerular filtration rate, Heart rate]</td>\n",
       "      <td>https://www.mdcalc.com/calc/10371/covid-19-inpatient-risk-calculator-circ</td>\n",
       "    </tr>\n",
       "  </tbody>\n",
       "</table>\n",
       "</div>"
      ],
      "text/plain": [
       "        id  \\\n",
       "249  10370   \n",
       "248  10461   \n",
       "112  10369   \n",
       "652  10286   \n",
       "114  10371   \n",
       "\n",
       "                                                                                                                                                                                                                                                                                                                                                                                                                                       feature_names  \\\n",
       "249                                                                                                                                                          [Chest pain AND acute dyspnea, Prior history of VTE, Current estrogen use, Sex/Gender, Immobility within the last four weeks, O2 saturation <95%, Calf pain and/or unilateral lower limb edema, Age, Chronic respiratory disease, Syncope, Heart rate, PE is the most likely diagnosis]   \n",
       "248                                                                                      [Adverse event:, Is the adverse event hindering walking, preventing the patient from attending their own bodily needs?, Is the adverse event leaving the patient bedridden, in need of constant help, incontinent?, Is the adverse event hindering at least one activity of daily living?, Is the adverse event resulting in any new neurological deficit?]   \n",
       "112                                                                                                                                                                                                                                                                                                     [Respiratory rate, Sex/Gender, Systolic BP, Performance status, Alertness, Oxygen saturation, Age, Heart rate, Inspired oxygen, Temperature]   \n",
       "652                                                                                                                                                   [Does patient still have >2 criteria despite NIV/HFNC?, PaO2, Patient wheezing OR unable to speak in full sentences while at rest/with minimal effort, Repeat CXR is significantly worsening, Respiratory rate, Patient prone or on ECMO, Patient on neuromuscular blockade (NMBA), Intubated]   \n",
       "114  [Albumin, Constitutional symptoms present, Sex/Gender, C-reactive protein, Admitted from nursing home, Charlson Score, Age, Race/Ethnicity, Ferritin, Loss of taste or smell, Absolute lymphocyte count, Alanine aminotransferase, White blood cell count, Temperature, Respiratory symptoms present, Gastrointestinal symptoms present, Troponin observed, BMI, D-dimer, Hemoglobin, Respiratory rate, Glomerular filtration rate, Heart rate]   \n",
       "\n",
       "                                                                                 info___mdcalc_url  \n",
       "249  https://www.mdcalc.com/calc/10370/4-level-pulmonary-embolism-clinical-probability-score-4peps  \n",
       "248                       https://www.mdcalc.com/calc/10461/therapy-disability-neurology-tdn-grade  \n",
       "112                      https://www.mdcalc.com/calc/10369/priest-covid-19-clinical-severity-score  \n",
       "652     https://www.mdcalc.com/calc/10286/brescia-covid-respiratory-severity-scale-bcrss-algorithm  \n",
       "114                      https://www.mdcalc.com/calc/10371/covid-19-inpatient-risk-calculator-circ  "
      ]
     },
     "metadata": {},
     "output_type": "display_data"
    }
   ],
   "source": [
    "# display all with full col width\n",
    "with pd.option_context('display.max_rows', None, 'display.max_columns', None, 'display.width', None, 'display.max_colwidth', None):\n",
    "    display(df[['id', 'feature_names', 'info___mdcalc_url']].head(10).tail(5))"
   ]
  },
  {
   "cell_type": "code",
   "execution_count": 26,
   "metadata": {},
   "outputs": [
    {
     "data": {
      "text/plain": [
       "246    1 \\nCPT is a registered trademark of the Ameri...\n",
       "110    RESEARCH ARTICLE\\nRisk Prediction After a Brie...\n",
       "13     2021 Wolters Kluwer Health, Inc. \\n24 |  \\nThe...\n",
       "247    Oral Oncology 132 (2022) 105955\\nAvailable onl...\n",
       "111    Prediction of vaginal birth after cesarean in ...\n",
       "                             ...                        \n",
       "685                                                  NaN\n",
       "686                                                  NaN\n",
       "687                                                  NaN\n",
       "688                                                  NaN\n",
       "689                                                  NaN\n",
       "Name: paper___raw_text, Length: 690, dtype: object"
      ]
     },
     "execution_count": 26,
     "metadata": {},
     "output_type": "execute_result"
    }
   ],
   "source": [
    "df['paper___raw_text']"
   ]
  },
  {
   "cell_type": "code",
   "execution_count": null,
   "metadata": {},
   "outputs": [],
   "source": []
  }
 ],
 "metadata": {
  "kernelspec": {
   "display_name": ".env",
   "language": "python",
   "name": "python3"
  },
  "language_info": {
   "codemirror_mode": {
    "name": "ipython",
    "version": 3
   },
   "file_extension": ".py",
   "mimetype": "text/x-python",
   "name": "python",
   "nbconvert_exporter": "python",
   "pygments_lexer": "ipython3",
   "version": "3.11.10"
  }
 },
 "nbformat": 4,
 "nbformat_minor": 0
}
