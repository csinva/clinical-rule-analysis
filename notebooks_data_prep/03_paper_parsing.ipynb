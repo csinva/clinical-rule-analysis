{
 "cells": [
  {
   "cell_type": "code",
   "execution_count": 1,
   "metadata": {
    "collapsed": false,
    "pycharm": {
     "name": "#%%\n"
    }
   },
   "outputs": [],
   "source": [
    "%load_ext autoreload\n",
    "%autoreload 2\n",
    "from collections import defaultdict\n",
    "import pandas as pd\n",
    "import imodelsx.llm\n",
    "import numpy as np\n",
    "import paper_setup\n",
    "import joblib\n",
    "import mdcalc\n",
    "import paper_parsing\n",
    "import openai\n",
    "import sys\n",
    "sys.path.append('../notebooks_llm/')\n",
    "import extract\n",
    "openai.api_key = open('/home/chansingh/.OPENAI_KEY').read().strip()\n",
    "imodelsx.llm.LLM_CONFIG['LLM_REPEAT_DELAY'] = 1"
   ]
  },
  {
   "cell_type": "markdown",
   "metadata": {},
   "source": [
    "### Load df with groundtruth values and paper ids"
   ]
  },
  {
   "cell_type": "code",
   "execution_count": 2,
   "metadata": {},
   "outputs": [],
   "source": [
    "# paper_setup.download_open_source_papers(df) \n",
    "# need to first download papers from https://drive.google.com/drive/folders/1OUXtsddxEAOl3tKEZegBQSwArUecb-6J into ../papers\n",
    "df, ids_with_paper = paper_setup.download_gsheet(assert_checks=True)\n",
    "\n",
    "# export missing papers\n",
    "# cols = ['id', 'ref_text', 'ref_href']\n",
    "# UNKS = {'-1', '', None, np.nan}\n",
    "# idx = (df['found_paper (0=no, 1=yes)'] == 0) * (~(df['ref_href'].isin(UNKS))) * df['ref_href'].notnull()\n",
    "# df[idx][cols].to_csv('missing_papers.csv', index=False)"
   ]
  },
  {
   "attachments": {},
   "cell_type": "markdown",
   "metadata": {},
   "source": [
    "### Extract info from the pdfs -- add values to the following columns:\n",
    "- num_male, num_female, num_total, num_male_evidence_span, num_female_evidence_span, num_total_evidence_span\n",
    "- num_white, num_black, num_latino, num_asian, race_evidence_span"
   ]
  },
  {
   "cell_type": "code",
   "execution_count": 3,
   "metadata": {},
   "outputs": [
    {
     "name": "stdout",
     "output_type": "stream",
     "text": [
      "attempting to add dict_keys(['num_male', 'num_female', 'num_total', 'evidence_span_gender'])\n"
     ]
    },
    {
     "name": "stderr",
     "output_type": "stream",
     "text": [
      "0it [00:00, ?it/s]"
     ]
    },
    {
     "name": "stderr",
     "output_type": "stream",
     "text": [
      "542it [00:00, 1196.04it/s]\n"
     ]
    },
    {
     "name": "stdout",
     "output_type": "stream",
     "text": [
      "attempting to add dict_keys(['num_white', 'num_black', 'num_latino', 'num_asian', 'evidence_span_race'])\n"
     ]
    },
    {
     "name": "stderr",
     "output_type": "stream",
     "text": [
      "542it [00:00, 1344.14it/s]"
     ]
    },
    {
     "name": "stdout",
     "output_type": "stream",
     "text": [
      "Unterminated string starting at: line 6 column 23 (char 105)\n"
     ]
    },
    {
     "name": "stderr",
     "output_type": "stream",
     "text": [
      "\n"
     ]
    }
   ],
   "source": [
    "# extract text from pdfs (create file num.txt for each file num.pdf)\n",
    "# paper_setup.extract_texts_from_pdf(ids_with_paper, papers_dir=paper_setup.papers_dir)\n",
    "df['paper___raw_text'] = df['id'].apply(mdcalc.try_or_none(paper_parsing.get_paper_text))\n",
    "texts = df[df.id.isin(ids_with_paper)]['paper___raw_text'].tolist()\n",
    "extractions = extract.extract_nums_df(texts)\n",
    "for k in extractions.keys():\n",
    "    df.loc[df.id.isin(ids_with_paper), k] = extractions[k]"
   ]
  },
  {
   "cell_type": "markdown",
   "metadata": {},
   "source": [
    "### Final process and save"
   ]
  },
  {
   "cell_type": "code",
   "execution_count": 4,
   "metadata": {},
   "outputs": [
    {
     "name": "stderr",
     "output_type": "stream",
     "text": [
      "  0%|          | 0/542 [00:00<?, ?it/s]"
     ]
    },
    {
     "name": "stderr",
     "output_type": "stream",
     "text": [
      "100%|██████████| 542/542 [00:00<00:00, 1226.94it/s]\n"
     ]
    }
   ],
   "source": [
    "def int_or_neg1(x):\n",
    "    try:\n",
    "        return int(x)\n",
    "    except:\n",
    "        return -1\n",
    "\n",
    "df = paper_parsing.check_race_keywords(df, ids_with_paper)\n",
    "df[\"paper_contains_race_keywords\"].sum()\n",
    "# convert columns to int\n",
    "cols_int = [\"ref_year\", \"found_paper\", \"paper_contains_race_keywords\"]\n",
    "for c in cols_int:\n",
    "    df[c] = df[c].apply(int_or_neg1)\n",
    "df = df.sort_values(\n",
    "    by=[\"found_paper\", \"paper_contains_race_keywords\", \"ref_year\", \"id\"],\n",
    "    ascending=False,\n",
    ")\n",
    "\n",
    "df.drop(columns='paper___raw_text').to_csv(\"../data/main.csv\", index=False)"
   ]
  }
 ],
 "metadata": {
  "kernelspec": {
   "display_name": "Python 3",
   "language": "python",
   "name": "python3"
  },
  "language_info": {
   "codemirror_mode": {
    "name": "ipython",
    "version": 3
   },
   "file_extension": ".py",
   "mimetype": "text/x-python",
   "name": "python",
   "nbconvert_exporter": "python",
   "pygments_lexer": "ipython3",
   "version": "3.11.4"
  }
 },
 "nbformat": 4,
 "nbformat_minor": 0
}
