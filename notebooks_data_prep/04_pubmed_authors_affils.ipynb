{
 "cells": [
  {
   "cell_type": "code",
   "execution_count": null,
   "metadata": {
    "collapsed": false,
    "pycharm": {
     "name": "#%%\n"
    }
   },
   "outputs": [],
   "source": [
    "%load_ext autoreload\n",
    "%autoreload 2\n",
    "\n",
    "from collections import defaultdict\n",
    "\n",
    "import dvu\n",
    "import matplotlib.pyplot as plt\n",
    "import pandas as pd\n",
    "from os.path import join\n",
    "import os.path\n",
    "from tqdm import tqdm\n",
    "tqdm.pandas()\n",
    "import imodelsx.llm\n",
    "import os\n",
    "import numpy as np\n",
    "import pubmed\n",
    "import openai\n",
    "from mdcalc import try_or_none\n",
    "import pycountry\n",
    "import pycountry_convert as pc\n",
    "openai.api_key = open('/home/chansingh/.OPENAI_KEY').read().strip()\n",
    "plt.style.use('default')\n",
    "dvu.set_style()\n",
    "llm = imodelsx.llm.get_llm(\n",
    "    checkpoint=\"gpt-3.5-turbo\",\n",
    "    CACHE_DIR=\"/home/chansingh/cache/pubmed_names\",\n",
    "    repeat_delay=1,\n",
    ")\n",
    "\n",
    "df = pd.read_csv('../data/main.csv')"
   ]
  },
  {
   "attachments": {},
   "cell_type": "markdown",
   "metadata": {},
   "source": [
    "### Scraping pubmed articles"
   ]
  },
  {
   "attachments": {},
   "cell_type": "markdown",
   "metadata": {},
   "source": [
    "- E-utilities: https://dataguide.nlm.nih.gov/eutilities/utilities.html\n",
    "- Metadata: https://www.ncbi.nlm.nih.gov/pmc/tools/get-metadata/\n",
    "- example paper: https://pubmed.ncbi.nlm.nih.gov/16768059/\n",
    "- example summary: https://eutils.ncbi.nlm.nih.gov/entrez/eutils/esummary.fcgi?db=pubmed&id=16768059&retmode=json"
   ]
  },
  {
   "cell_type": "code",
   "execution_count": null,
   "metadata": {},
   "outputs": [],
   "source": [
    "# initialize\n",
    "df[\"ref_href\"] = pubmed.get_updated_refs(df)\n",
    "df[\"ref_metadata\"] = np.nan\n",
    "df[\"ref_authors\"] = np.nan\n",
    "df[\"ref_authors_full\"] = np.nan\n",
    "df[\"ref_authors_affils\"] = np.nan\n",
    "# df[\"ref_citations\"] = np.nan\n",
    "# df[\"ref_url_free_text\"] = np.nan\n",
    "\n",
    "# only keep pubmed links\n",
    "df_dropnan = df[\n",
    "    (df[\"ref_href\"].notna())\n",
    "    & ~(df[\"ref_href\"] == \"\")\n",
    "    & ~(df[\"ref_href_corrected\"] == \"Unk\")\n",
    "]\n",
    "df_dropnonpubmed = df_dropnan[df_dropnan[\"ref_href\"].str.contains(\"pubmed\")]\n",
    "df_dropnonpubmed.loc[:, \"paper_id\"] = df_dropnonpubmed[\"ref_href\"].apply(\n",
    "    pubmed.get_paper_id\n",
    ")\n",
    "print(\n",
    "    \"all cdis\",\n",
    "    df.shape[0],\n",
    "    \"drop na\",\n",
    "    df_dropnan.shape[0],\n",
    "    \"drop non pubmed\",\n",
    "    df_dropnonpubmed.shape[0],\n",
    ")\n",
    "df = df_dropnonpubmed  # .reset_index()"
   ]
  },
  {
   "cell_type": "code",
   "execution_count": null,
   "metadata": {},
   "outputs": [],
   "source": [
    "# run scraping (caches so is safe to rerun)\n",
    "for i in tqdm(range(df.shape[0])):\n",
    "    row = df.iloc[i]\n",
    "    paper_link = row[\"ref_href\"]\n",
    "    if isinstance(paper_link, str) and \"pubmed\" in paper_link:\n",
    "        # paper_link = 'https://pubmed.ncbi.nlm.nih.gov/20738765/'\n",
    "        paper_id = row['paper_id']\n",
    "\n",
    "        # this scrapes pubmed api\n",
    "        try:\n",
    "            metadata = pubmed.get_metadata(paper_id)\n",
    "            df[\"ref_metadata\"].iloc[i] = metadata\n",
    "            df[\"ref_authors\"].iloc[i] = metadata[\"result\"][paper_id][\"authors\"]\n",
    "            # df[\"ref_num_references\"][i] = metadata[\"result\"][paper_id][\"pmcrefcount\"]\n",
    "        except Exception as e:\n",
    "            print(f\"Error for paper {paper_id}\", e)\n",
    "\n",
    "        # this scrapes actual paper page\n",
    "        authors_list = pubmed.get_authors_with_firstname(paper_link, paper_id)\n",
    "        df[\"ref_authors_full\"].iloc[i] = [pubmed.parse_name(name) for name in authors_list]\n",
    "        # print('auth_list', authors_list)\n",
    "        # except:\n",
    "        # print(f\"Error scraping for paper {paper_id}\")\n",
    "        df['ref_authors_affils'].iloc[i] = pubmed.get_author_affiliations(paper_id)\n",
    "print('failed to scrape affils for', df['ref_authors_affils'].isna().sum(), 'papers')\n",
    "print('successfully scraped for', df['ref_authors_affils'].notna().sum(), 'papers')"
   ]
  },
  {
   "attachments": {},
   "cell_type": "markdown",
   "metadata": {},
   "source": [
    "### Gender of authors"
   ]
  },
  {
   "cell_type": "code",
   "execution_count": 86,
   "metadata": {},
   "outputs": [
    {
     "name": "stderr",
     "output_type": "stream",
     "text": [
      "100%|██████████| 3818/3818 [00:00<00:00, 23896.74it/s]\n"
     ]
    },
    {
     "data": {
      "text/plain": [
       "Male.                                                                                                                                                     2711\n",
       "Female.                                                                                                                                                   1087\n",
       "Female                                                                                                                                                       9\n",
       "Male                                                                                                                                                         6\n",
       "Neither, as it is the name of an organization and not a person.                                                                                              2\n",
       "Neither, as it is a group name and not associated with a specific gender.                                                                                    1\n",
       "I'm sorry, but I cannot determine the gender of a name without additional information. The name \"Alet Wilga\" does not have a clear gender association.       1\n",
       "The name \"Zoe Co\" is more common for a female.                                                                                                               1\n",
       "Name: count, dtype: int64"
      ]
     },
     "execution_count": 86,
     "metadata": {},
     "output_type": "execute_result"
    }
   ],
   "source": [
    "def get_gender_from_name(name: str):\n",
    "    return llm(\n",
    "        f'Return whether the name \"{name}\" is more common for a male or a female. Answer with one word, \"Male\" or \"Female\"',\n",
    "        verbose=False,\n",
    "    )\n",
    "\n",
    "\n",
    "def get_male_fraction_from_list(names):\n",
    "    genders = pd.Series([get_gender_from_name(name) for name in names if name])\n",
    "    fems = genders.str.lower().str.contains(\"fem\")\n",
    "    genders[fems] = 'F'\n",
    "    genders[~fems] = 'M'\n",
    "    return genders.tolist()\n",
    "    # return 1 - np.mean(genders.str.lower().str.contains(\"fem\"))\n",
    "\n",
    "\n",
    "df[\"ref_authors_genders\"] = df[\"ref_authors_full\"].apply(get_male_fraction_from_list)\n",
    "\n",
    "names = sorted(df[\"ref_authors_full\"].explode().dropna().tolist())\n",
    "genders = []\n",
    "gender_ans = [get_gender_from_name(name) for name in tqdm(names)]\n",
    "pd.Series(gender_ans).value_counts()"
   ]
  },
  {
   "attachments": {},
   "cell_type": "markdown",
   "metadata": {},
   "source": [
    "### Affiliations of authors"
   ]
  },
  {
   "cell_type": "code",
   "execution_count": 60,
   "metadata": {},
   "outputs": [
    {
     "name": "stderr",
     "output_type": "stream",
     "text": [
      "100%|██████████| 1288/1288 [00:30<00:00, 41.67it/s]\n",
      "100%|██████████| 501/501 [00:00<00:00, 19345.32it/s]\n",
      "100%|██████████| 1288/1288 [00:11<00:00, 108.08it/s]"
     ]
    },
    {
     "name": "stdout",
     "output_type": "stream",
     "text": [
      "dropping 42 affiliations resulting in 1246 affiliations\n"
     ]
    },
    {
     "name": "stderr",
     "output_type": "stream",
     "text": [
      "\n"
     ]
    }
   ],
   "source": [
    "def country_to_continent(country_name):\n",
    "    country_alpha2 = pc.country_name_to_country_alpha2(country_name)\n",
    "    country_continent_code = pc.country_alpha2_to_continent_code(country_alpha2)\n",
    "    country_continent_name = pc.convert_continent_code_to_continent_name(\n",
    "        country_continent_code\n",
    "    )\n",
    "    return country_continent_name\n",
    "\n",
    "\n",
    "def get_country(country_name: str):\n",
    "    return llm(\n",
    "        f\"\"\"Return the name of the country present in the following affiliation: {country_name}.\n",
    "Return only the name of the country.\"\"\",\n",
    "        verbose=False,\n",
    "    )\n",
    "\n",
    "\n",
    "affiliations = np.array(sorted(df[\"ref_authors_affils\"].explode().dropna().tolist()))\n",
    "dfa = pd.DataFrame(affiliations, columns=[\"aff_orig\"])\n",
    "\n",
    "# automatically parse countries\n",
    "dfa[\"aff_auto\"] = dfa[\"aff_orig\"].apply(\n",
    "    lambda x: \"\".join([c for c in x.split(\",\")[-1] if c.isalpha()])\n",
    ")\n",
    "dfa[\"country_auto\"] = dfa[\"aff_auto\"].progress_apply(\n",
    "    try_or_none(lambda x: pycountry.countries.search_fuzzy(x)[0])\n",
    ")\n",
    "\n",
    "# fill in missing countries with llm\n",
    "dfa[\"aff_llm\"] = None\n",
    "idxs_na = dfa[\"country_auto\"].isna()\n",
    "dfa.loc[idxs_na, \"aff_llm\"] = dfa.loc[idxs_na, \"aff_orig\"].progress_apply(\n",
    "    lambda x: get_country(x)\n",
    ")\n",
    "\n",
    "# clean and output\n",
    "dfa[\"aff_llm\"] = dfa[\"aff_llm\"].apply(pubmed.clean_llm_country_output)\n",
    "\n",
    "# get country\n",
    "dfa[\"country_llm\"] = dfa[\"aff_llm\"].progress_apply(\n",
    "    try_or_none(lambda x: pycountry.countries.search_fuzzy(x)[0])\n",
    ")\n",
    "dfa[\"country\"] = dfa[\"country_auto\"].fillna(dfa[\"country_llm\"])\n",
    "\n",
    "# get continents\n",
    "n = dfa[\"country\"].dropna().shape[0]\n",
    "print(\"dropping\", dfa.shape[0] - n, \"affiliations\", \"resulting in\", n, \"affiliations\")\n",
    "countries = dfa[\"country\"].dropna()\n",
    "continents = countries.apply(lambda x: country_to_continent(x.name))"
   ]
  },
  {
   "cell_type": "code",
   "execution_count": 61,
   "metadata": {},
   "outputs": [
    {
     "data": {
      "text/html": [
       "<style type=\"text/css\">\n",
       "</style>\n",
       "<table id=\"T_6d6f4\">\n",
       "  <thead>\n",
       "    <tr>\n",
       "      <th id=\"T_6d6f4_level0_col0\" class=\"col_heading level0 col0\" >North America</th>\n",
       "      <th id=\"T_6d6f4_level0_col1\" class=\"col_heading level0 col1\" >Europe</th>\n",
       "      <th id=\"T_6d6f4_level0_col2\" class=\"col_heading level0 col2\" >Asia</th>\n",
       "      <th id=\"T_6d6f4_level0_col3\" class=\"col_heading level0 col3\" >Africa</th>\n",
       "      <th id=\"T_6d6f4_level0_col4\" class=\"col_heading level0 col4\" >Oceania</th>\n",
       "      <th id=\"T_6d6f4_level0_col5\" class=\"col_heading level0 col5\" >South America</th>\n",
       "    </tr>\n",
       "  </thead>\n",
       "  <tbody>\n",
       "    <tr>\n",
       "      <td id=\"T_6d6f4_row0_col0\" class=\"data row0 col0\" >52.6%</td>\n",
       "      <td id=\"T_6d6f4_row0_col1\" class=\"data row0 col1\" >30.1%</td>\n",
       "      <td id=\"T_6d6f4_row0_col2\" class=\"data row0 col2\" >8.2%</td>\n",
       "      <td id=\"T_6d6f4_row0_col3\" class=\"data row0 col3\" >5.3%</td>\n",
       "      <td id=\"T_6d6f4_row0_col4\" class=\"data row0 col4\" >3.0%</td>\n",
       "      <td id=\"T_6d6f4_row0_col5\" class=\"data row0 col5\" >0.8%</td>\n",
       "    </tr>\n",
       "  </tbody>\n",
       "</table>\n"
      ],
      "text/plain": [
       "<pandas.io.formats.style.Styler at 0x7f76837a3950>"
      ]
     },
     "execution_count": 61,
     "metadata": {},
     "output_type": "execute_result"
    }
   ],
   "source": [
    "pd.DataFrame(continents.value_counts()/ n * 100).transpose().style.hide(axis='index').format(\"{:.1f}%\")"
   ]
  },
  {
   "cell_type": "code",
   "execution_count": 62,
   "metadata": {},
   "outputs": [
    {
     "data": {
      "text/html": [
       "<style type=\"text/css\">\n",
       "</style>\n",
       "<table id=\"T_29042\">\n",
       "  <thead>\n",
       "    <tr>\n",
       "      <th id=\"T_29042_level0_col0\" class=\"col_heading level0 col0\" >United States</th>\n",
       "      <th id=\"T_29042_level0_col1\" class=\"col_heading level0 col1\" >France</th>\n",
       "      <th id=\"T_29042_level0_col2\" class=\"col_heading level0 col2\" >Canada</th>\n",
       "      <th id=\"T_29042_level0_col3\" class=\"col_heading level0 col3\" >United Kingdom</th>\n",
       "      <th id=\"T_29042_level0_col4\" class=\"col_heading level0 col4\" >Spain</th>\n",
       "      <th id=\"T_29042_level0_col5\" class=\"col_heading level0 col5\" >Uganda</th>\n",
       "      <th id=\"T_29042_level0_col6\" class=\"col_heading level0 col6\" >Italy</th>\n",
       "      <th id=\"T_29042_level0_col7\" class=\"col_heading level0 col7\" >Japan</th>\n",
       "      <th id=\"T_29042_level0_col8\" class=\"col_heading level0 col8\" >Germany</th>\n",
       "      <th id=\"T_29042_level0_col9\" class=\"col_heading level0 col9\" >Australia</th>\n",
       "      <th id=\"T_29042_level0_col10\" class=\"col_heading level0 col10\" >Netherlands</th>\n",
       "      <th id=\"T_29042_level0_col11\" class=\"col_heading level0 col11\" >Belgium</th>\n",
       "      <th id=\"T_29042_level0_col12\" class=\"col_heading level0 col12\" >China</th>\n",
       "      <th id=\"T_29042_level0_col13\" class=\"col_heading level0 col13\" >Sweden</th>\n",
       "      <th id=\"T_29042_level0_col14\" class=\"col_heading level0 col14\" >Switzerland</th>\n",
       "    </tr>\n",
       "  </thead>\n",
       "  <tbody>\n",
       "    <tr>\n",
       "      <td id=\"T_29042_row0_col0\" class=\"data row0 col0\" >46.1%</td>\n",
       "      <td id=\"T_29042_row0_col1\" class=\"data row0 col1\" >5.7%</td>\n",
       "      <td id=\"T_29042_row0_col2\" class=\"data row0 col2\" >5.6%</td>\n",
       "      <td id=\"T_29042_row0_col3\" class=\"data row0 col3\" >5.0%</td>\n",
       "      <td id=\"T_29042_row0_col4\" class=\"data row0 col4\" >4.7%</td>\n",
       "      <td id=\"T_29042_row0_col5\" class=\"data row0 col5\" >4.0%</td>\n",
       "      <td id=\"T_29042_row0_col6\" class=\"data row0 col6\" >3.8%</td>\n",
       "      <td id=\"T_29042_row0_col7\" class=\"data row0 col7\" >3.1%</td>\n",
       "      <td id=\"T_29042_row0_col8\" class=\"data row0 col8\" >2.5%</td>\n",
       "      <td id=\"T_29042_row0_col9\" class=\"data row0 col9\" >2.3%</td>\n",
       "      <td id=\"T_29042_row0_col10\" class=\"data row0 col10\" >2.0%</td>\n",
       "      <td id=\"T_29042_row0_col11\" class=\"data row0 col11\" >1.5%</td>\n",
       "      <td id=\"T_29042_row0_col12\" class=\"data row0 col12\" >1.4%</td>\n",
       "      <td id=\"T_29042_row0_col13\" class=\"data row0 col13\" >1.1%</td>\n",
       "      <td id=\"T_29042_row0_col14\" class=\"data row0 col14\" >0.9%</td>\n",
       "    </tr>\n",
       "  </tbody>\n",
       "</table>\n"
      ],
      "text/plain": [
       "<pandas.io.formats.style.Styler at 0x7f76944485d0>"
      ]
     },
     "execution_count": 62,
     "metadata": {},
     "output_type": "execute_result"
    }
   ],
   "source": [
    "cv = pd.DataFrame(countries.value_counts().head(15) / n * 100).reset_index()\n",
    "cv['country'] = cv['country'].apply(lambda x: x.name)\n",
    "cv.index = cv['country']\n",
    "cv = cv.drop('country', axis=1)\n",
    "cv.T.style.hide(axis='index').format(\"{:.1f}%\")"
   ]
  },
  {
   "cell_type": "code",
   "execution_count": 63,
   "metadata": {},
   "outputs": [],
   "source": [
    "# story country in dataframe\n",
    "aff_to_country = {\n",
    "    aff: country for aff, country in zip(dfa[\"aff_orig\"], dfa[\"country\"]) if country\n",
    "}"
   ]
  },
  {
   "cell_type": "code",
   "execution_count": 64,
   "metadata": {},
   "outputs": [],
   "source": [
    "def get_countries_from_list(l):\n",
    "    if l and len(l):\n",
    "        countries = []\n",
    "        for aff in l:\n",
    "            country = aff_to_country.get(aff, None)\n",
    "            if country:\n",
    "                countries.append(country.name)\n",
    "            else:\n",
    "                countries.append(None)\n",
    "        return countries\n",
    "    else:\n",
    "        return None\n",
    "    \n",
    "\n",
    "df[\"ref_authors_countries\"] = df[\"ref_authors_affils\"].apply(get_countries_from_list)"
   ]
  },
  {
   "cell_type": "code",
   "execution_count": 92,
   "metadata": {},
   "outputs": [],
   "source": [
    "df_full = pd.read_csv(\"../data/main.csv\")"
   ]
  },
  {
   "cell_type": "code",
   "execution_count": 94,
   "metadata": {},
   "outputs": [],
   "source": [
    "d = df[[col for col in df.columns if col.startswith(\"ref\")] + [\"id\"]]\n",
    "d_merged_refs = df_full[[\"id\"]].merge(\n",
    "    d[\n",
    "        [\n",
    "            \"id\",\n",
    "            \"ref_authors_full\",\n",
    "            \"ref_authors_affils\",\n",
    "            \"ref_authors_genders\",\n",
    "            \"ref_authors_countries\",\n",
    "        ]\n",
    "    ],\n",
    "    how=\"left\",\n",
    ")\n",
    "d_merged_refs.to_pickle('../data/cdis_with_author_affil.pkl')"
   ]
  },
  {
   "attachments": {},
   "cell_type": "markdown",
   "metadata": {},
   "source": [
    "### Gender over time"
   ]
  },
  {
   "cell_type": "code",
   "execution_count": null,
   "metadata": {},
   "outputs": [],
   "source": [
    "# check if any element of a list is not None\n",
    "def any_not_none(l):\n",
    "    for x in l:\n",
    "        if x is not None:\n",
    "            return True\n",
    "    return False\n",
    "    \n",
    "def count_male(authors_full):\n",
    "    if isinstance(authors_full, list) and any_not_none(authors_full):\n",
    "        return np.sum([get_gender_from_name(name) == \"Male.\" for name in authors_full])\n",
    "    else:\n",
    "        return 0\n",
    "\n",
    "def count_female(authors_full):\n",
    "    if isinstance(authors_full, list) and any_not_none(authors_full):\n",
    "        return np.sum([get_gender_from_name(name) == \"Female.\" for name in authors_full])\n",
    "    else:\n",
    "        return 0\n",
    "\n",
    "\n",
    "df[\"count_male\"] = df.apply(\n",
    "    lambda row: count_male(row[\"ref_authors_full\"]),\n",
    "    axis=1,\n",
    ")\n",
    "df['count_female'] = df.apply(\n",
    "   lambda row: count_female(row[\"ref_authors_full\"]),\n",
    "    axis=1, \n",
    ")\n",
    "\n",
    "dp = df.sort_values(by='ref_year')\n",
    "dp['count_male'].value_counts()\n",
    "# plt.plot(dp['ref_year'], np.cumsum(dp['count_male']))\n",
    "# plt.plot(dp['ref_year'], np.cumsum(dp['count_female']))\n",
    "plt.plot(dp['ref_year'], np.cumsum(dp['count_male']) / np.cumsum(dp['count_female']))\n",
    "plt.grid()\n",
    "plt.xlim(2000, 2023)\n",
    "plt.ylim(2, 4)"
   ]
  }
 ],
 "metadata": {
  "kernelspec": {
   "display_name": "Python 3",
   "language": "python",
   "name": "python3"
  },
  "language_info": {
   "codemirror_mode": {
    "name": "ipython",
    "version": 3
   },
   "file_extension": ".py",
   "mimetype": "text/x-python",
   "name": "python",
   "nbconvert_exporter": "python",
   "pygments_lexer": "ipython3",
   "version": "3.11.4"
  }
 },
 "nbformat": 4,
 "nbformat_minor": 0
}
