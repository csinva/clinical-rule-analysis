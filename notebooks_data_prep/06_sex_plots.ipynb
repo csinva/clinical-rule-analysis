{
 "cells": [
  {
   "cell_type": "code",
   "execution_count": null,
   "metadata": {
    "collapsed": false,
    "pycharm": {
     "name": "#%%\n"
    }
   },
   "outputs": [],
   "source": [
    "%load_ext autoreload\n",
    "%autoreload 2\n",
    "\n",
    "from collections import defaultdict\n",
    "\n",
    "import dvu\n",
    "import matplotlib.pyplot as plt\n",
    "import pandas as pd\n",
    "from os.path import join\n",
    "import numpy as np\n",
    "import seaborn as sns\n",
    "import sys\n",
    "sys.path.append('../notebooks_llm/')\n",
    "plt.style.use('default')\n",
    "dvu.set_style()\n",
    "UNKS = {\"Unk\", \"-\", -1, \"-1\"}\n",
    "df = pd.read_pickle('../data/data_clean.pkl')\n",
    "\n",
    "idxs = (df[\"participants___male\"].notnull() & ~(df[\"participants___male\"].isin(UNKS))) & (\n",
    "    df[\"participants___female\"].notnull() & ~(df[\"participants___female\"].isin(UNKS))\n",
    ")\n",
    "male = df[\"participants___male\"][idxs].astype(int)\n",
    "female = df[\"participants___female\"][idxs].astype(int)\n",
    "frac_male = male / (male + female)\n",
    "frac_female = female / (male + female)\n",
    "ratios = (male / female).values"
   ]
  },
  {
   "cell_type": "markdown",
   "metadata": {},
   "source": [
    "### Main figure"
   ]
  },
  {
   "cell_type": "code",
   "execution_count": null,
   "metadata": {},
   "outputs": [],
   "source": [
    "args = np.argsort(frac_male)[::-1]\n",
    "frac_male = frac_male.values[args] * 100\n",
    "frac_female = frac_female.values[args] * 100\n",
    "\n",
    "# barplot showing frac_male and frac_female as stacked bars\n",
    "plt.figure(figsize=(6, 3), dpi=300)\n",
    "\n",
    "num_cdis = len(frac_male)\n",
    "bar_positions = np.arange(num_cdis) + 1\n",
    "plt.bar(bar_positions, frac_female, bottom=frac_male,\n",
    "        label=\"Female\", color=\"pink\")\n",
    "plt.bar(bar_positions, frac_male, label=\"Male\", color=\"C0\")\n",
    "plt.axhline(50, color=\"gray\", alpha=0.5, lw=1)\n",
    "\n",
    "plt.xlabel(\"CDIs\")\n",
    "plt.ylabel(\"Percentage of patients\")\n",
    "# place legend to the right of the plot\n",
    "plt.legend(labelcolor=\"linecolor\", loc=\"center left\", bbox_to_anchor=(1, 0.5))\n",
    "# plt.xticks(np.arange(1, num_cdis + 1, num_cdis//3), np.arange(1, num_cdis + 1, num_cdis//3))\n",
    "plt.xlim(left=0, right=num_cdis + 1)\n",
    "plt.yticks(np.arange(0, 101, 20), [f\"{t}%\" for t in np.arange(0, 101, 20)])\n",
    "\n",
    "# annotate the point where the two bars cross 50 percent\n",
    "x_cross = np.where(frac_male <= frac_female)[0][0]\n",
    "plt.annotate(\n",
    "    f\"{x_cross} / {num_cdis} CDIs skewed male\",\n",
    "    (x_cross, 50),\n",
    "    xytext=(x_cross, 60),\n",
    "    ha=\"center\",\n",
    "    arrowprops=dict(arrowstyle=\"->\", color=\"gray\"),\n",
    "    fontsize=\"small\",\n",
    ")\n",
    "print(\n",
    "    \"mean frac_male\",\n",
    "    np.mean(frac_male).round(2),\n",
    "    'mean_frac_male_weighted',\n",
    "    np.average(frac_male, weights=male + female),\n",
    "    \"perc skewed\",\n",
    "    round(np.sum(frac_male > frac_female) / len(frac_male), 3),\n",
    ")\n",
    "\n",
    "# Show the plot\n",
    "plt.show()"
   ]
  },
  {
   "cell_type": "markdown",
   "metadata": {},
   "source": [
    "### Sex-specific table"
   ]
  },
  {
   "cell_type": "code",
   "execution_count": null,
   "metadata": {},
   "outputs": [],
   "source": [
    "# df[idxs][male == 0].head(20)\n",
    "d = df[idxs][(male == 0) | (female == 0)][\n",
    "    [\n",
    "        \"title\",\n",
    "        \"description_short\",\n",
    "        \"paper___citation\",\n",
    "        \"participants___male\",\n",
    "        \"participants___female\",\n",
    "    ]\n",
    "].sort_values(by='participants___male', ascending=False)\n",
    "d.to_csv(\"../results/sex_specific_cdis.csv\", index=False)\n",
    "# with pd.option_context(\"display.max_colwidth\", None):\n",
    "# display(d.style.format(precision=0))"
   ]
  },
  {
   "cell_type": "markdown",
   "metadata": {},
   "source": [
    "### Stratified table"
   ]
  },
  {
   "cell_type": "code",
   "execution_count": null,
   "metadata": {},
   "outputs": [],
   "source": [
    "for cat in ['categorization___specialty', 'categorization___disease', 'categorization___system']:\n",
    "    COUNT_THRESH = 5\n",
    "    d = df[idxs]\n",
    "    d[\"frac_male\"] = df[\"participants___male\"] / (\n",
    "        df[\"participants___male\"] + df[\"participants___female\"]\n",
    "    )\n",
    "    d = d.explode(cat)[[cat, \"frac_male\"]]\n",
    "    d = d[d[cat].notnull()]\n",
    "    val_counts = d[cat].value_counts()\n",
    "    d = d[d[cat].apply(lambda x: val_counts[x] >= COUNT_THRESH)]\n",
    "    fracs = d.groupby(cat).mean().reset_index()\n",
    "    fracs = fracs.sort_values(by=\"frac_male\")\n",
    "    cat_name = cat.split(\"___\")[1].capitalize()\n",
    "    fracs.to_csv(\n",
    "        f'../results/sex_breakdown_{cat_name}.csv', index=False, float_format='%.3f')\n",
    "\n",
    "    # plt.figure(figsize=(5, 10), dpi=200)\n",
    "    # sns.barplot(y=cat, x=\"frac_male\", data=fracs, color=\"mediumseagreen\")\n",
    "    # plt.axvline(0.5, color=\"gray\")\n",
    "    # # set yticks fontsize to small\n",
    "    # plt.yticks(fontsize=\"xx-small\")\n",
    "    # plt.ylabel(cat_name)\n",
    "    # plt.xlabel(\"Fraction of patients identified as male\")\n",
    "    # plt.show()"
   ]
  },
  {
   "cell_type": "code",
   "execution_count": null,
   "metadata": {},
   "outputs": [],
   "source": [
    "# plt.figure(figsize=(4, 2), dpi=300)\n",
    "# r = ratios[~np.isinf(ratios)]\n",
    "# r = r[r > 0]\n",
    "# logr = np.log10(r)\n",
    "# print(\n",
    "#     \"mean\",\n",
    "#     r.mean().round(2),\n",
    "#     'median',\n",
    "#     np.median(r).round(2),\n",
    "#     \"frac>0\",\n",
    "#     (r > 1).sum(),\n",
    "#     \"/\",\n",
    "#     len(r),\n",
    "#     \"excluding\",\n",
    "#     np.sum(np.isinf(ratios)),\n",
    "#     \"all-male studies and\",\n",
    "#     np.sum(ratios == 0),\n",
    "#     \"all-female studies\",\n",
    "# )\n",
    "# plt.hist(logr[logr < 0], color=\"pink\")  # , bins=100)\n",
    "# plt.hist(logr[logr >= 0], color=\"C0\")  # , bins=100)\n",
    "# plt.axvline(0, color=\"black\", ls=\"--\")\n",
    "# ticks = plt.xticks()[0]\n",
    "# plt.xticks(ticks, [f\"$10^{{{t}}}$\" for t in ticks])\n",
    "# plt.xlabel(\"Ratio (male / female)\")\n",
    "# plt.ylabel(\"Count\")\n",
    "# plt.show()"
   ]
  },
  {
   "cell_type": "code",
   "execution_count": null,
   "metadata": {},
   "outputs": [],
   "source": [
    "# # VIOLIN PLOT ##\n",
    "\n",
    "# frac_male = frac_male = df['frac_male'][idxs & (df['num_male_corrected'] >= 1) & (df['num_female_corrected'] >= 1)]\n",
    "# frac_female = 1 - frac_male\n",
    "\n",
    "# dd = pd.DataFrame.from_dict(\n",
    "#     {\n",
    "#         \"frac\": frac_male.tolist() + frac_female.tolist(),\n",
    "#         \"sex\": [0] * len(frac_male) + [1] * len(frac_female),\n",
    "#     }\n",
    "# )\n",
    "# sns.violinplot(dd, x=\"sex\", y=\"frac\", palette=[\"C0\", \"pink\"], cut=0, bw=0.3)"
   ]
  },
  {
   "cell_type": "code",
   "execution_count": null,
   "metadata": {},
   "outputs": [],
   "source": []
  }
 ],
 "metadata": {
  "kernelspec": {
   "display_name": "Python 3",
   "language": "python",
   "name": "python3"
  },
  "language_info": {
   "codemirror_mode": {
    "name": "ipython",
    "version": 3
   },
   "file_extension": ".py",
   "mimetype": "text/x-python",
   "name": "python",
   "nbconvert_exporter": "python",
   "pygments_lexer": "ipython3",
   "version": "3.11.4"
  }
 },
 "nbformat": 4,
 "nbformat_minor": 0
}
