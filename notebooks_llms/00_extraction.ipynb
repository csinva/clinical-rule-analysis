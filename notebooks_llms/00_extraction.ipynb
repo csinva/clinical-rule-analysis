{
 "cells": [
  {
   "cell_type": "code",
   "execution_count": 6,
   "metadata": {
    "collapsed": false,
    "pycharm": {
     "name": "#%%\n"
    }
   },
   "outputs": [
    {
     "name": "stdout",
     "output_type": "stream",
     "text": [
      "The autoreload extension is already loaded. To reload it, use:\n",
      "  %reload_ext autoreload\n"
     ]
    }
   ],
   "source": [
    "%load_ext autoreload\n",
    "%autoreload 2\n",
    "\n",
    "import pandas as pd\n",
    "import eval_extraction\n",
    "import openai\n",
    "import extract\n",
    "openai.api_key = open('/home/chansingh/.OPENAI_KEY').read().strip()"
   ]
  },
  {
   "cell_type": "markdown",
   "metadata": {},
   "source": [
    "# Load the data"
   ]
  },
  {
   "cell_type": "code",
   "execution_count": 7,
   "metadata": {},
   "outputs": [],
   "source": [
    "df = pd.read_pickle(\"../data/export.pkl\")[\n",
    "    [\n",
    "        \"id\",\n",
    "        \"paper___url\",\n",
    "        \"paper___raw_text\",\n",
    "        \"participants___male\",\n",
    "        \"participants___female\",\n",
    "        \"participants___total\",\n",
    "        \"participants___white\",\n",
    "        \"participants___black\",\n",
    "        \"participants___latino\",\n",
    "        \"participants___asian\",\n",
    "    ]\n",
    "]"
   ]
  },
  {
   "cell_type": "markdown",
   "metadata": {},
   "source": [
    "# Make predictions"
   ]
  },
  {
   "cell_type": "markdown",
   "metadata": {},
   "source": [
    "Current outputs:\n",
    "- num_male, num_female, num_total, num_male_evidence_span, num_female_evidence_span, num_total_evidence_span\n",
    "- num_white, num_black, num_latino, num_asian, race_evidence_span\n",
    "\n",
    "Targets:\n",
    "- 'participants___male', 'participants___female', 'participants___total'\n",
    "- 'participants___white', 'participants___black', 'participants___latino', 'participants___asian'"
   ]
  },
  {
   "cell_type": "code",
   "execution_count": 8,
   "metadata": {},
   "outputs": [
    {
     "name": "stdout",
     "output_type": "stream",
     "text": [
      "attempting to add dict_keys(['num_male', 'num_female', 'num_total', 'evidence_span_gender'])\n"
     ]
    },
    {
     "name": "stderr",
     "output_type": "stream",
     "text": [
      "0it [00:00, ?it/s]"
     ]
    },
    {
     "name": "stderr",
     "output_type": "stream",
     "text": [
      "538it [00:00, 1200.32it/s]\n"
     ]
    },
    {
     "name": "stdout",
     "output_type": "stream",
     "text": [
      "attempting to add dict_keys(['num_white', 'num_black', 'num_latino', 'num_asian', 'evidence_span_race'])\n"
     ]
    },
    {
     "name": "stderr",
     "output_type": "stream",
     "text": [
      "538it [00:00, 1319.00it/s]"
     ]
    },
    {
     "name": "stdout",
     "output_type": "stream",
     "text": [
      "Unterminated string starting at: line 6 column 23 (char 105)\n"
     ]
    },
    {
     "name": "stderr",
     "output_type": "stream",
     "text": [
      "\n"
     ]
    }
   ],
   "source": [
    "idxs = df['paper___raw_text'].notna()\n",
    "texts = df[idxs]['paper___raw_text'].tolist()\n",
    "extractions = extract.extract_nums_df(texts)\n",
    "for k in extractions.keys():\n",
    "    df.loc[idxs, k] = extractions[k]"
   ]
  },
  {
   "cell_type": "markdown",
   "metadata": {},
   "source": [
    "### Evaluate\n",
    "Evaluates whether each extracted number is within 1 of the human-labeled value"
   ]
  },
  {
   "cell_type": "code",
   "execution_count": 9,
   "metadata": {},
   "outputs": [
    {
     "name": "stdout",
     "output_type": "stream",
     "text": [
      "Total n (with paper text) 538\n"
     ]
    },
    {
     "data": {
      "text/html": [
       "<div>\n",
       "<style scoped>\n",
       "    .dataframe tbody tr th:only-of-type {\n",
       "        vertical-align: middle;\n",
       "    }\n",
       "\n",
       "    .dataframe tbody tr th {\n",
       "        vertical-align: top;\n",
       "    }\n",
       "\n",
       "    .dataframe thead th {\n",
       "        text-align: right;\n",
       "    }\n",
       "</style>\n",
       "<table border=\"1\" class=\"dataframe\">\n",
       "  <thead>\n",
       "    <tr style=\"text-align: right;\">\n",
       "      <th></th>\n",
       "      <th>target</th>\n",
       "      <th>recall</th>\n",
       "      <th>n_labeled</th>\n",
       "      <th>n_predicted_num</th>\n",
       "    </tr>\n",
       "  </thead>\n",
       "  <tbody>\n",
       "    <tr>\n",
       "      <th>0</th>\n",
       "      <td>num_male</td>\n",
       "      <td>191</td>\n",
       "      <td>221</td>\n",
       "      <td>253</td>\n",
       "    </tr>\n",
       "    <tr>\n",
       "      <th>1</th>\n",
       "      <td>num_female</td>\n",
       "      <td>191</td>\n",
       "      <td>221</td>\n",
       "      <td>256</td>\n",
       "    </tr>\n",
       "    <tr>\n",
       "      <th>2</th>\n",
       "      <td>num_total</td>\n",
       "      <td>219</td>\n",
       "      <td>259</td>\n",
       "      <td>386</td>\n",
       "    </tr>\n",
       "  </tbody>\n",
       "</table>\n",
       "</div>"
      ],
      "text/plain": [
       "       target  recall  n_labeled  n_predicted_num\n",
       "0    num_male     191        221              253\n",
       "1  num_female     191        221              256\n",
       "2   num_total     219        259              386"
      ]
     },
     "execution_count": 9,
     "metadata": {},
     "output_type": "execute_result"
    }
   ],
   "source": [
    "# Apply some postprocessing (convert percentages)\n",
    "gender_count_processed = df.apply(eval_extraction.process_gender_counts, axis=1)\n",
    "df[\"num_male\"] = gender_count_processed.apply(lambda x: x[0]).astype(str)\n",
    "df[\"num_female\"] = gender_count_processed.apply(lambda x: x[1]).astype(str)\n",
    "\n",
    "print(\"Total n (with paper text)\", idxs.sum())\n",
    "eval_extraction.compute_metrics(\n",
    "    df,\n",
    "    preds_col_to_gt_col_dict={\n",
    "        \"num_male\": \"participants___male\",\n",
    "        \"num_female\": \"participants___female\",\n",
    "        \"num_total\": \"participants___total\",\n",
    "    },\n",
    ")"
   ]
  }
 ],
 "metadata": {
  "kernelspec": {
   "display_name": "Python 3",
   "language": "python",
   "name": "python3"
  },
  "language_info": {
   "codemirror_mode": {
    "name": "ipython",
    "version": 3
   },
   "file_extension": ".py",
   "mimetype": "text/x-python",
   "name": "python",
   "nbconvert_exporter": "python",
   "pygments_lexer": "ipython3",
   "version": "3.11.4"
  }
 },
 "nbformat": 4,
 "nbformat_minor": 0
}
