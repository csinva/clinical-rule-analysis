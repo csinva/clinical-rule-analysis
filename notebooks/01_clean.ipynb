{
 "cells": [
  {
   "cell_type": "code",
   "execution_count": null,
   "metadata": {
    "collapsed": false,
    "pycharm": {
     "name": "#%%\n"
    }
   },
   "outputs": [],
   "source": [
    "import re\n",
    "import numpy as np\n",
    "from bs4 import BeautifulSoup\n",
    "import requests\n",
    "import pandas as pd\n",
    "import json\n",
    "import matplotlib.pyplot as plt\n",
    "from tqdm import tqdm\n",
    "import os\n",
    "import clean\n",
    "from clean import try_or_none\n",
    "df = pd.read_pickle(\"../data/cdis_with_schemas.pkl\")\n",
    "df = df.sort_values(by='id')"
   ]
  },
  {
   "cell_type": "code",
   "execution_count": null,
   "metadata": {},
   "outputs": [],
   "source": [
    "@try_or_none\n",
    "def get_refs(row):\n",
    "    return row[\"content\"][\"about\"][\"references_list\"]\n",
    "\n",
    "@try_or_none\n",
    "def get_ref_original(row):\n",
    "    return row['Original/Primary Reference']\n",
    "\n",
    "@try_or_none\n",
    "def get_text(row):\n",
    "    return row[0]['text']\n",
    "\n",
    "@try_or_none\n",
    "def get_href(row):\n",
    "    return row[0]['href']\n",
    "\n",
    "@try_or_none\n",
    "def get_year_from_str(s: str):\n",
    "    # search for a 4 digit number that between 1900 and 2023\n",
    "\n",
    "    match = re.search(r'(?<!\\d)(19\\d{2}|20[01]\\d|202[0-3])(?!\\d)', s)\n",
    "    if match:\n",
    "        return int(match.group())\n",
    "    return None"
   ]
  },
  {
   "cell_type": "code",
   "execution_count": null,
   "metadata": {
    "collapsed": false,
    "pycharm": {
     "name": "#%%\n"
    }
   },
   "outputs": [],
   "source": [
    "# clean list-valued columns\n",
    "df = clean.clean_list_valued_strings(df)\n",
    "\n",
    "# add feature_names\n",
    "def get_feature_names_list(schema):\n",
    "    if isinstance(schema, list):\n",
    "        return [s[\"label_en\"] if \"label_en\" in s else \"unknown\" for s in schema]\n",
    "    else:\n",
    "        return []\n",
    "\n",
    "\n",
    "df[\"feature_names\"] = df[\"input_schema\"].apply(get_feature_names_list)\n",
    "df[\"refs\"] = df.apply(get_refs, axis=1)\n",
    "df['ref_original'] = df['refs'].apply(get_ref_original)\n",
    "df['ref_href'] = df['ref_original'].apply(get_href)\n",
    "df['ref_text'] = df['ref_original'].apply(get_text)\n",
    "df['ref_year'] = df['ref_text'].apply(get_year_from_str)\n",
    "\n",
    "df.to_pickle(\"../data/cdis_with_schemas_cleaned.pkl\")\n",
    "df.to_csv(\"../data/cdis_with_schemas_cleaned.csv\")"
   ]
  },
  {
   "cell_type": "code",
   "execution_count": null,
   "metadata": {},
   "outputs": [],
   "source": [
    "# display all columnswith no max_width\n",
    "cols = ['id', 'full_title_en', 'short_description_en', 'ref_text', 'ref_href', 'ref_year']\n",
    "with pd.option_context('display.max_rows', None, 'display.max_columns', None, 'display.max_colwidth', 0): \n",
    "    display(df[cols].head(5))\n",
    "    # display(df[df['ref_year'].min() == df['ref_year']][['ref_text', 'ref_href']])\n",
    "df[cols].to_csv('../data/main_auto.csv', index=False)"
   ]
  }
 ],
 "metadata": {
  "kernelspec": {
   "display_name": "Python 3",
   "language": "python",
   "name": "python3"
  },
  "language_info": {
   "codemirror_mode": {
    "name": "ipython",
    "version": 3
   },
   "file_extension": ".py",
   "mimetype": "text/x-python",
   "name": "python",
   "nbconvert_exporter": "python",
   "pygments_lexer": "ipython3",
   "version": "3.11.4"
  }
 },
 "nbformat": 4,
 "nbformat_minor": 0
}
