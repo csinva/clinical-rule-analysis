{
 "cells": [
  {
   "cell_type": "code",
   "execution_count": 9,
   "outputs": [],
   "source": [
    "import re\n",
    "import numpy as np\n",
    "from bs4 import BeautifulSoup\n",
    "import requests\n",
    "import pandas as pd\n",
    "import json\n",
    "from tqdm import tqdm\n",
    "import os"
   ],
   "metadata": {
    "collapsed": false,
    "pycharm": {
     "name": "#%%\n"
    }
   }
  },
  {
   "cell_type": "markdown",
   "source": [
    "Last scraped on Jun 23, 2022. One CDI (\"refractory-epilepsy\") was not successfully scraped, resulting in data on 644 CDIs."
   ],
   "metadata": {
    "collapsed": false,
    "pycharm": {
     "name": "#%% md\n"
    }
   }
  },
  {
   "cell_type": "markdown",
   "source": [
    "# read index"
   ],
   "metadata": {
    "collapsed": false,
    "pycharm": {
     "name": "#%% md\n"
    }
   }
  },
  {
   "cell_type": "code",
   "execution_count": 10,
   "outputs": [],
   "source": [
    "# url='https://www.mdcalc.com/#all'\n",
    "# req=requests.get(url)\n",
    "# content=req.text\n",
    "#\n",
    "# with open('../data/index.html', 'w') as f:\n",
    "#     f.write(content)"
   ],
   "metadata": {
    "collapsed": false,
    "pycharm": {
     "name": "#%%\n"
    }
   }
  },
  {
   "cell_type": "code",
   "execution_count": 25,
   "outputs": [],
   "source": [
    "index = open('../data/index.html', 'r').read()\n",
    "soup = BeautifulSoup(index)\n",
    "# tab = pd.read_table('../data/index.html')\n",
    "\n",
    "# scripts = soup.find_all('script')\n",
    "# with open('../data/preloaded_state.json', 'w') as f:\n",
    "#     f.write(scripts[0].text)\n",
    "# manually delete first line with state = ...\n",
    "# only keep \"calcs\"\n",
    "# delete \"newest calcs\" from bottom"
   ],
   "metadata": {
    "collapsed": false,
    "pycharm": {
     "name": "#%%\n"
    }
   }
  },
  {
   "cell_type": "markdown",
   "source": [
    "clean json and convert to pandas"
   ],
   "metadata": {
    "collapsed": false,
    "pycharm": {
     "name": "#%% md\n"
    }
   }
  },
  {
   "cell_type": "code",
   "execution_count": 102,
   "outputs": [],
   "source": [
    "df = pd.read_json('../data/preloaded_state.json').infer_objects()\n",
    "\n",
    "\n",
    "# # json.load(open('data/preloaded_state.json', 'r'))\n",
    "def clean_element(x):\n",
    "    if isinstance(x, list):\n",
    "        if len(x) == 1:\n",
    "            return x[0]\n",
    "    if isinstance(x, str):\n",
    "        return x.replace('<span>', '').replace('</span>', '')\n",
    "    return x\n",
    "\n",
    "\n",
    "df = df.applymap(clean_element)\n",
    "df.to_csv('../data/index.csv', index=False)"
   ],
   "metadata": {
    "collapsed": false,
    "pycharm": {
     "name": "#%%\n"
    }
   }
  },
  {
   "cell_type": "markdown",
   "source": [],
   "metadata": {
    "collapsed": false,
    "pycharm": {
     "name": "#%% md\n"
    }
   }
  },
  {
   "cell_type": "code",
   "execution_count": 2,
   "outputs": [
    {
     "name": "stdout",
     "output_type": "stream",
     "text": [
      "(645, 17)\n",
      "after dropping refractory-epilepsy (644, 17)\n"
     ]
    }
   ],
   "source": [
    "df = pd.read_csv('../data/index.csv')\n",
    "df['url_full'] = 'https://www.mdcalc.com/calc/' + df['favorite_id'].astype(str) + '/' + df['url']\n",
    "print(df.shape)\n",
    "df = df[~df['url'].str.startswith('refractory-epilepsy')]\n",
    "print('after dropping refractory-epilepsy', df.shape)"
   ],
   "metadata": {
    "collapsed": false,
    "pycharm": {
     "name": "#%%\n"
    }
   }
  },
  {
   "cell_type": "code",
   "execution_count": 129,
   "outputs": [
    {
     "name": "stderr",
     "output_type": "stream",
     "text": [
      "100%|██████████| 644/644 [00:00<00:00, 78892.80it/s]\n"
     ]
    }
   ],
   "source": [
    "# note: this actually hits a bunch of web-pages -- don't run multiple times!\n",
    "for i in tqdm(range(df.shape[0])):\n",
    "    url = df['url'].iloc[i]\n",
    "    url_full = df['url_full'].iloc[i]\n",
    "    output_fname = f'../data/pages/{url}.html'\n",
    "\n",
    "    if not os.path.exists(output_fname):\n",
    "        req = requests.get(url_full)\n",
    "        content = req.text\n",
    "        with open(output_fname, 'w') as f:\n",
    "            f.write(content)\n",
    "            print(url, url_full)\n",
    "assert len(os.listdir('../data/pages')) == df.shape[0]"
   ],
   "metadata": {
    "collapsed": false,
    "pycharm": {
     "name": "#%%\n"
    }
   }
  },
  {
   "cell_type": "markdown",
   "source": [
    "## parse individual pages"
   ],
   "metadata": {
    "collapsed": false,
    "pycharm": {
     "name": "#%% md\n"
    }
   }
  },
  {
   "cell_type": "code",
   "execution_count": 173,
   "outputs": [
    {
     "name": "stderr",
     "output_type": "stream",
     "text": [
      "100%|██████████| 644/644 [00:16<00:00, 40.17it/s]\n"
     ]
    }
   ],
   "source": [
    "for i in tqdm(range(df.shape[0])):\n",
    "    url = df.iloc[i].url\n",
    "    fname = '../data/pages/' + url + '.html'\n",
    "    html = open(fname, 'r').read()\n",
    "    soup = BeautifulSoup(html)\n",
    "    data = soup.find_all('script')[0]\n",
    "    s = json.loads(data.text[data.text.index('{'):])['calc']\n",
    "    with open(f'../data/processed/{url}.json', 'w') as f:\n",
    "        json.dump(s, f)"
   ],
   "metadata": {
    "collapsed": false,
    "pycharm": {
     "name": "#%%\n"
    }
   }
  },
  {
   "cell_type": "markdown",
   "source": [
    "# merge into big df"
   ],
   "metadata": {
    "collapsed": false,
    "pycharm": {
     "name": "#%% md\n"
    }
   }
  },
  {
   "cell_type": "code",
   "execution_count": 3,
   "outputs": [
    {
     "name": "stderr",
     "output_type": "stream",
     "text": [
      "100%|██████████| 644/644 [00:00<00:00, 3482.89it/s]\n"
     ]
    }
   ],
   "source": [
    "cdis = [json.loads(open(f'../data/processed/{df.iloc[i].url}.json', 'r').read())\n",
    "        for i in tqdm(range(df.shape[0]))]\n",
    "cdis = pd.DataFrame.from_dict(cdis)\n",
    "cdis['num_rules'] = cdis['input_schema'].apply(len)  # num rules"
   ],
   "metadata": {
    "collapsed": false,
    "pycharm": {
     "name": "#%%\n"
    }
   }
  },
  {
   "cell_type": "code",
   "execution_count": 8,
   "outputs": [],
   "source": [
    "df_merged = df.join(cdis, rsuffix='_duplicate')  # mark duplicate cols\n",
    "df_merged = df_merged.drop(columns=[k for k in df_merged.columns if k.endswith('_duplicate')])  # drop the duplicates\n",
    "# df_merged.to_csv('data/cdis_with_schemas.csv')\n",
    "# df_merged.to_pickle('data/cdis_with_schemas.pkl')"
   ],
   "metadata": {
    "collapsed": false,
    "pycharm": {
     "name": "#%%\n"
    }
   }
  },
  {
   "cell_type": "markdown",
   "source": [
    "Clean list-valued columns"
   ],
   "metadata": {
    "collapsed": false,
    "pycharm": {
     "name": "#%% md\n"
    }
   }
  },
  {
   "cell_type": "code",
   "execution_count": 10,
   "outputs": [],
   "source": [
    "df_merged = pd.read_pickle('../data/cdis_with_schemas.pkl')\n",
    "\n",
    "# list valued cols should be stored as lists, not strings that look like lists\n",
    "LIST_VALUED_COLS = ['disease_en', 'system_en', 'purpose_en', 'chief_complaint_en', 'specialty_en',\n",
    "                    \"expert_name\", \"creators\", \"search_abbreviation_en\"]\n",
    "\n",
    "\n",
    "def clean_list_valued_string(s: str):\n",
    "    if not s or pd.isna(s):\n",
    "        return []\n",
    "    if s.startswith('[') and s.endswith(']'):\n",
    "        return s[1:-1].replace(\"'\", \"\").replace('\"', '').split(', ')\n",
    "    else:\n",
    "        return [s]\n",
    "\n",
    "\n",
    "for col in LIST_VALUED_COLS:\n",
    "    df_merged[col] = df_merged[col].apply(clean_list_valued_string)\n",
    "    assert np.all(df_merged[col].apply(lambda x: isinstance(x, list))), 'all values are lists'\n",
    "df_merged.to_pickle('../data/cdis_with_schemas.pkl')\n",
    "df_merged.to_csv('../data/cdis_with_schemas.csv')"
   ],
   "metadata": {
    "collapsed": false,
    "pycharm": {
     "name": "#%%\n"
    }
   }
  },
  {
   "cell_type": "markdown",
   "source": [
    "Add feature names"
   ],
   "metadata": {
    "collapsed": false,
    "pycharm": {
     "name": "#%% md\n"
    }
   }
  },
  {
   "cell_type": "code",
   "execution_count": 12,
   "outputs": [],
   "source": [
    "df_merged = pd.read_pickle('../data/cdis_with_schemas.pkl')\n",
    "\n",
    "\n",
    "def get_feature_names_list(schema):\n",
    "    if isinstance(schema, list):\n",
    "        return [s['label_en'] if 'label_en' in s else 'unknown'\n",
    "                for s in schema]\n",
    "    else:\n",
    "        return []\n",
    "\n",
    "\n",
    "df_merged['feature_names'] = df_merged['input_schema'].apply(get_feature_names_list)\n",
    "\n",
    "# df_merged.to_pickle('data/cdis_with_schemas.pkl')\n",
    "# df_merged.to_csv('data/cdis_with_schemas.csv')"
   ],
   "metadata": {
    "collapsed": false,
    "pycharm": {
     "name": "#%%\n"
    }
   }
  },
  {
   "cell_type": "code",
   "execution_count": 13,
   "outputs": [
    {
     "data": {
      "text/plain": "0      [<p>Alertness</p>, <p><calculator id=\"3995\">AM...\n1      [Age, Sex, Chronic respiratory disease, Heart ...\n2      [Age, years , Sex at birth, Number of comorbid...\n3      [Thrombocytopenia, Timing of platelet count fa...\n4            [Sex, Height, Age, Weight, Distance walked]\n                             ...                        \n640                                        [Bicarbonate]\n641    [unknown, Any loose or watery stools, Any vomi...\n642                              [<p>Classification</p>]\n643    [Pregnant patient, unknown, Clinical signs of ...\n644                                                   []\nName: feature_names, Length: 644, dtype: object"
     },
     "execution_count": 13,
     "metadata": {},
     "output_type": "execute_result"
    }
   ],
   "source": [
    "df_merged['feature_names']"
   ],
   "metadata": {
    "collapsed": false,
    "pycharm": {
     "name": "#%%\n"
    }
   }
  }
 ],
 "metadata": {
  "kernelspec": {
   "display_name": "Python 3",
   "language": "python",
   "name": "python3"
  },
  "language_info": {
   "codemirror_mode": {
    "name": "ipython",
    "version": 2
   },
   "file_extension": ".py",
   "mimetype": "text/x-python",
   "name": "python",
   "nbconvert_exporter": "python",
   "pygments_lexer": "ipython2",
   "version": "2.7.6"
  }
 },
 "nbformat": 4,
 "nbformat_minor": 0
}