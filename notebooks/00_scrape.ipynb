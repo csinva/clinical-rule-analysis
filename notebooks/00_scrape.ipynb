{
 "cells": [
  {
   "cell_type": "code",
   "execution_count": null,
   "metadata": {
    "collapsed": false,
    "pycharm": {
     "name": "#%%\n"
    }
   },
   "outputs": [],
   "source": [
    "import re\n",
    "import numpy as np\n",
    "from bs4 import BeautifulSoup\n",
    "import requests\n",
    "import pandas as pd\n",
    "import json\n",
    "from tqdm import tqdm\n",
    "import os"
   ]
  },
  {
   "attachments": {},
   "cell_type": "markdown",
   "metadata": {
    "collapsed": false,
    "pycharm": {
     "name": "#%% md\n"
    }
   },
   "source": [
    "Last scraped on Jun 13, 2023."
   ]
  },
  {
   "attachments": {},
   "cell_type": "markdown",
   "metadata": {
    "collapsed": false,
    "pycharm": {
     "name": "#%% md\n"
    }
   },
   "source": [
    "### Read index"
   ]
  },
  {
   "cell_type": "code",
   "execution_count": null,
   "metadata": {
    "collapsed": false,
    "pycharm": {
     "name": "#%%\n"
    }
   },
   "outputs": [],
   "source": [
    "# read index\n",
    "# url='https://www.mdcalc.com/#All'\n",
    "# req=requests.get(url)\n",
    "# content=req.text\n",
    "# with open('../data/index.html', 'w') as f:\n",
    "#     f.write(content)\n",
    "\n",
    "# extract out df\n",
    "index = open('../data/index.html', 'r').read()\n",
    "soup = BeautifulSoup(index)\n",
    "tab = pd.read_table('../data/index.html')\n",
    "scripts = soup.find_all('script')\n",
    "d = json.loads(scripts[-1].text)\n",
    "all_calcs_list = d['props']['pageProps']['allCalcs']\n",
    "df = pd.DataFrame.from_dict(all_calcs_list)\n",
    "\n",
    "# clean df\n",
    "def clean_element(x):\n",
    "    if isinstance(x, list):\n",
    "        if len(x) == 1:\n",
    "            return x[0]\n",
    "    if isinstance(x, str):\n",
    "        return x.replace('<span>', '').replace('</span>', '')\n",
    "    return x\n",
    "df = df.applymap(clean_element)\n",
    "df['url_full'] = 'https://www.mdcalc.com/calc/' + df['id'].astype(str) + '/' + df['slug']"
   ]
  },
  {
   "attachments": {},
   "cell_type": "markdown",
   "metadata": {},
   "source": [
    "### Read individual pages\n",
    "Note: don't run multiple times!"
   ]
  },
  {
   "cell_type": "code",
   "execution_count": null,
   "metadata": {
    "collapsed": false,
    "pycharm": {
     "name": "#%%\n"
    }
   },
   "outputs": [],
   "source": [
    "for i in tqdm(range(df.shape[0])): #df.shape[0])):\n",
    "    slug = df['slug'].iloc[i]\n",
    "    url_full = df['url_full'].iloc[i]\n",
    "    output_fname = f'../data/pages/{slug}.html'\n",
    "\n",
    "    if not os.path.exists(output_fname):\n",
    "        req = requests.get(url_full)\n",
    "        content = req.text\n",
    "        with open(output_fname, 'w') as f:\n",
    "            f.write(content)\n",
    "            print(slug, url_full)\n",
    "assert len(os.listdir('../data/pages')) == df.shape[0]"
   ]
  },
  {
   "attachments": {},
   "cell_type": "markdown",
   "metadata": {
    "collapsed": false,
    "pycharm": {
     "name": "#%% md\n"
    }
   },
   "source": [
    "### parse individual pages"
   ]
  },
  {
   "cell_type": "code",
   "execution_count": null,
   "metadata": {},
   "outputs": [],
   "source": [
    "errors = []\n",
    "for i in tqdm(range(df.shape[0])):\n",
    "    slug = df.iloc[i].slug\n",
    "    fname = '../data/pages/' + slug + '.html'\n",
    "    fname_json = '../data/processed/' + slug + '.json'\n",
    "    if not os.path.exists(fname_json):\n",
    "        html = open(fname, 'r').read()\n",
    "        soup = BeautifulSoup(html)\n",
    "        try:\n",
    "            data = soup.find_all('script')[2]\n",
    "            s = json.loads(data.text[data.text.index('{'):])['calc']\n",
    "            with open(f'../data/processed/{slug}.json', 'w') as f:\n",
    "                json.dump(s, f)\n",
    "        except:\n",
    "            # print('failed', slug)\n",
    "            errors.append(slug)\n",
    "print('num errors', len(errors))\n",
    "df = df[df.slug.isin(errors) == False]\n",
    "print(df.shape)"
   ]
  },
  {
   "cell_type": "code",
   "execution_count": null,
   "metadata": {},
   "outputs": [],
   "source": [
    "df.iloc[0]"
   ]
  },
  {
   "attachments": {},
   "cell_type": "markdown",
   "metadata": {},
   "source": [
    "### merge and clean"
   ]
  },
  {
   "cell_type": "code",
   "execution_count": 55,
   "metadata": {
    "collapsed": false,
    "pycharm": {
     "name": "#%%\n"
    }
   },
   "outputs": [
    {
     "name": "stderr",
     "output_type": "stream",
     "text": [
      "100%|██████████| 690/690 [00:00<00:00, 1620.14it/s]\n"
     ]
    }
   ],
   "source": [
    "# load cdis\n",
    "cdis = [\n",
    "    json.loads(open(f\"../data/processed/{df.iloc[i].slug}.json\", \"r\").read())\n",
    "    for i in tqdm(range(df.shape[0]))\n",
    "]\n",
    "cdis = pd.DataFrame.from_dict(cdis)\n",
    "# cdis['num_rules'] = cdis['input_schema'].apply(len)  # num rules (this includes some messiness that isn't actually a rule)\n",
    "\n",
    "# merge with df\n",
    "df_merged = df.join(cdis, rsuffix=\"_duplicate\")  # mark duplicate cols\n",
    "df_merged = df_merged.drop(\n",
    "    columns=[k for k in df_merged.columns if k.endswith(\"_duplicate\")]\n",
    ")  # drop the duplicates\n",
    "\n",
    "# clean list-valued columns\n",
    "# list valued cols should be stored as lists, not strings that look like lists\n",
    "LIST_VALUED_COLS = [\n",
    "    \"disease_en\",\n",
    "    \"system_en\",\n",
    "    \"purpose_en\",\n",
    "    \"chief_complaint_en\",\n",
    "    \"specialty_en\",\n",
    "]\n",
    "\n",
    "\n",
    "def clean_list_valued_string(s):\n",
    "    if isinstance(s, list):\n",
    "        return s\n",
    "    elif s is None or pd.isna(s):\n",
    "        return []\n",
    "    elif isinstance(s, str) and s.startswith(\"[\") and s.endswith(\"]\"):\n",
    "        return s[1:-1].replace(\"'\", \"\").replace('\"', \"\").split(\", \")\n",
    "    elif isinstance(s, str):\n",
    "        return [s]\n",
    "\n",
    "\n",
    "for col in LIST_VALUED_COLS:\n",
    "    # print(df_merged[col])\n",
    "    df_merged[col] = df_merged[col].apply(clean_list_valued_string)\n",
    "    assert np.all(\n",
    "        df_merged[col].apply(lambda x: isinstance(x, list))\n",
    "    ), \"all values are lists\"\n",
    "\n",
    "\n",
    "# add feature_names\n",
    "def get_feature_names_list(schema):\n",
    "    if isinstance(schema, list):\n",
    "        return [s[\"label_en\"] if \"label_en\" in s else \"unknown\" for s in schema]\n",
    "    else:\n",
    "        return []\n",
    "\n",
    "\n",
    "df_merged[\"feature_names\"] = df_merged[\"input_schema\"].apply(get_feature_names_list)\n",
    "\n",
    "\n",
    "def try_or_none(func):\n",
    "    def wrapper(*args):\n",
    "        try:\n",
    "            return func(*args)\n",
    "        except:\n",
    "            return None\n",
    "    return wrapper\n",
    "\n",
    "\n",
    "@try_or_none\n",
    "def get_refs(row):\n",
    "    return row[\"content\"][\"about\"][\"references_list\"]\n",
    "\n",
    "@try_or_none\n",
    "def get_ref_original(row):\n",
    "    return row['Original/Primary Reference']\n",
    "\n",
    "@try_or_none\n",
    "def get_text(row):\n",
    "    return row['text']\n",
    "\n",
    "\n",
    "\n",
    "\n",
    "df_merged[\"refs\"] = df_merged.apply(get_refs, axis=1)\n",
    "df_merged['ref_original'] = df_merged['refs'].apply(get_ref_original)\n",
    "df_merged['ref_original_text'] = \n",
    "\n",
    "\n",
    "df_merged.to_pickle(\"../data/cdis_with_schemas.pkl\")\n",
    "df_merged.to_csv(\"../data/cdis_with_schemas.csv\")"
   ]
  },
  {
   "cell_type": "code",
   "execution_count": 53,
   "metadata": {},
   "outputs": [
    {
     "data": {
      "text/plain": [
       "[{'text': 'CPT® Evaluation and Management (E/m) Code and Guideline Changes. American Medical Association, 2022. ',\n",
       "  'href': 'https://www.ama-assn.org/system/files/2023-e-m-descriptors-guidelines.pdf'}]"
      ]
     },
     "execution_count": 53,
     "metadata": {},
     "output_type": "execute_result"
    }
   ],
   "source": [
    "df_merged['ref_original'].iloc[0]"
   ]
  },
  {
   "cell_type": "code",
   "execution_count": null,
   "metadata": {},
   "outputs": [],
   "source": [
    "# display all columnswith no max_width\n",
    "with pd.option_context('display.max_rows', None, 'display.max_columns', None, 'display.max_colwidth', 0): \n",
    "    display(df_merged.iloc[1])\n",
    "    "
   ]
  },
  {
   "cell_type": "code",
   "execution_count": null,
   "metadata": {},
   "outputs": [],
   "source": []
  }
 ],
 "metadata": {
  "kernelspec": {
   "display_name": "Python 3",
   "language": "python",
   "name": "python3"
  },
  "language_info": {
   "codemirror_mode": {
    "name": "ipython",
    "version": 3
   },
   "file_extension": ".py",
   "mimetype": "text/x-python",
   "name": "python",
   "nbconvert_exporter": "python",
   "pygments_lexer": "ipython3",
   "version": "3.9.7"
  }
 },
 "nbformat": 4,
 "nbformat_minor": 0
}
