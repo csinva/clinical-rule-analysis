{
 "cells": [
  {
   "cell_type": "code",
   "execution_count": null,
   "metadata": {
    "collapsed": false,
    "pycharm": {
     "name": "#%%\n"
    }
   },
   "outputs": [],
   "source": [
    "import re\n",
    "import numpy as np\n",
    "from bs4 import BeautifulSoup\n",
    "import requests\n",
    "import pandas as pd\n",
    "import json\n",
    "from tqdm import tqdm\n",
    "import os"
   ]
  },
  {
   "attachments": {},
   "cell_type": "markdown",
   "metadata": {
    "collapsed": false,
    "pycharm": {
     "name": "#%% md\n"
    }
   },
   "source": [
    "Last scraped on Jun 13, 2023."
   ]
  },
  {
   "attachments": {},
   "cell_type": "markdown",
   "metadata": {
    "collapsed": false,
    "pycharm": {
     "name": "#%% md\n"
    }
   },
   "source": [
    "### Read index"
   ]
  },
  {
   "cell_type": "code",
   "execution_count": null,
   "metadata": {
    "collapsed": false,
    "pycharm": {
     "name": "#%%\n"
    }
   },
   "outputs": [],
   "source": [
    "# read index\n",
    "# url='https://www.mdcalc.com/#All'\n",
    "# req=requests.get(url)\n",
    "# content=req.text\n",
    "# with open('../data/index.html', 'w') as f:\n",
    "#     f.write(content)\n",
    "\n",
    "# extract out df\n",
    "index = open('../data/index.html', 'r').read()\n",
    "soup = BeautifulSoup(index)\n",
    "tab = pd.read_table('../data/index.html')\n",
    "scripts = soup.find_all('script')\n",
    "d = json.loads(scripts[-1].text)\n",
    "all_calcs_list = d['props']['pageProps']['allCalcs']\n",
    "df = pd.DataFrame.from_dict(all_calcs_list)\n",
    "\n",
    "# clean df\n",
    "def clean_element(x):\n",
    "    if isinstance(x, list):\n",
    "        if len(x) == 1:\n",
    "            return x[0]\n",
    "    if isinstance(x, str):\n",
    "        return x.replace('<span>', '').replace('</span>', '')\n",
    "    return x\n",
    "df = df.applymap(clean_element)\n",
    "df['url_full'] = 'https://www.mdcalc.com/calc/' + df['id'].astype(str) + '/' + df['slug']"
   ]
  },
  {
   "attachments": {},
   "cell_type": "markdown",
   "metadata": {},
   "source": [
    "### Read individual pages\n",
    "Note: don't run multiple times!"
   ]
  },
  {
   "cell_type": "code",
   "execution_count": null,
   "metadata": {
    "collapsed": false,
    "pycharm": {
     "name": "#%%\n"
    }
   },
   "outputs": [],
   "source": [
    "for i in tqdm(range(df.shape[0])): #df.shape[0])):\n",
    "    slug = df['slug'].iloc[i]\n",
    "    url_full = df['url_full'].iloc[i]\n",
    "    output_fname = f'../data/pages/{slug}.html'\n",
    "\n",
    "    if not os.path.exists(output_fname):\n",
    "        req = requests.get(url_full)\n",
    "        content = req.text\n",
    "        with open(output_fname, 'w') as f:\n",
    "            f.write(content)\n",
    "            print(slug, url_full)\n",
    "assert len(os.listdir('../data/pages')) == df.shape[0]"
   ]
  },
  {
   "attachments": {},
   "cell_type": "markdown",
   "metadata": {
    "collapsed": false,
    "pycharm": {
     "name": "#%% md\n"
    }
   },
   "source": [
    "### parse individual pages"
   ]
  },
  {
   "cell_type": "code",
   "execution_count": 60,
   "metadata": {},
   "outputs": [
    {
     "name": "stderr",
     "output_type": "stream",
     "text": [
      "100%|██████████| 690/690 [00:00<00:00, 21312.68it/s]"
     ]
    },
    {
     "name": "stdout",
     "output_type": "stream",
     "text": [
      "num errors 0\n"
     ]
    },
    {
     "name": "stderr",
     "output_type": "stream",
     "text": [
      "\n"
     ]
    }
   ],
   "source": [
    "errors = []\n",
    "for i in tqdm(range(df.shape[0])):\n",
    "    slug = df.iloc[i].slug\n",
    "    fname = '../data/pages/' + slug + '.html'\n",
    "    fname_json = '../data/processed/' + slug + '.json'\n",
    "    if not os.path.exists(fname_json):\n",
    "        html = open(fname, 'r').read()\n",
    "        soup = BeautifulSoup(html)\n",
    "        try:\n",
    "            data = soup.find_all('script')[2]\n",
    "            s = json.loads(data.text[data.text.index('{'):])['calc']\n",
    "            with open(f'../data/processed/{slug}.json', 'w') as f:\n",
    "                json.dump(s, f)\n",
    "        except:\n",
    "            # print('failed', slug)\n",
    "            errors.append(slug)\n",
    "print('num errors', len(errors))\n",
    "df = df[df.slug.isin(errors) == False]\n",
    "print(df.shape)"
   ]
  },
  {
   "attachments": {},
   "cell_type": "markdown",
   "metadata": {},
   "source": [
    "### merge and clean"
   ]
  },
  {
   "cell_type": "code",
   "execution_count": 61,
   "metadata": {
    "collapsed": false,
    "pycharm": {
     "name": "#%%\n"
    }
   },
   "outputs": [
    {
     "name": "stderr",
     "output_type": "stream",
     "text": [
      "100%|██████████| 690/690 [00:00<00:00, 2853.54it/s]\n"
     ]
    }
   ],
   "source": [
    "# load cdis\n",
    "cdis = [json.loads(open(f'../data/processed/{df.iloc[i].slug}.json', 'r').read())\n",
    "        for i in tqdm(range(df.shape[0]))]\n",
    "cdis = pd.DataFrame.from_dict(cdis)\n",
    "# cdis['num_rules'] = cdis['input_schema'].apply(len)  # num rules (this includes some messiness that isn't actually a rule)\n",
    "\n",
    "# merge with df\n",
    "df_merged = df.join(cdis, rsuffix='_duplicate')  # mark duplicate cols\n",
    "df_merged = df_merged.drop(columns=[k for k in df_merged.columns if k.endswith('_duplicate')])  # drop the duplicates\n",
    "\n",
    "# clean list-valued columns\n",
    "# list valued cols should be stored as lists, not strings that look like lists\n",
    "LIST_VALUED_COLS = ['disease_en', 'system_en', 'purpose_en', 'chief_complaint_en', 'specialty_en']\n",
    "def clean_list_valued_string(s):\n",
    "    if isinstance(s, list):\n",
    "        return s\n",
    "    elif s is None or pd.isna(s):\n",
    "        return []\n",
    "    elif isinstance(s, str) and s.startswith('[') and s.endswith(']'):\n",
    "        return s[1:-1].replace(\"'\", \"\").replace('\"', '').split(', ')\n",
    "    elif isinstance(s, str):\n",
    "        return [s]\n",
    "\n",
    "\n",
    "for col in LIST_VALUED_COLS:\n",
    "    # print(df_merged[col])\n",
    "    df_merged[col] = df_merged[col].apply(clean_list_valued_string)\n",
    "    assert np.all(df_merged[col].apply(lambda x: isinstance(x, list))), 'all values are lists'\n",
    "    \n",
    "\n",
    "\n",
    "# add feature_names\n",
    "def get_feature_names_list(schema):\n",
    "    if isinstance(schema, list):\n",
    "        return [s['label_en'] if 'label_en' in s else 'unknown'\n",
    "                for s in schema]\n",
    "    else:\n",
    "        return []\n",
    "df_merged['feature_names'] = df_merged['input_schema'].apply(get_feature_names_list)\n",
    "\n",
    "df_merged.to_pickle('../data/cdis_with_schemas.pkl')\n",
    "df_merged.to_csv('../data/cdis_with_schemas.csv')"
   ]
  }
 ],
 "metadata": {
  "kernelspec": {
   "display_name": "Python 3",
   "language": "python",
   "name": "python3"
  },
  "language_info": {
   "codemirror_mode": {
    "name": "ipython",
    "version": 3
   },
   "file_extension": ".py",
   "mimetype": "text/x-python",
   "name": "python",
   "nbconvert_exporter": "python",
   "pygments_lexer": "ipython3",
   "version": "3.9.7"
  }
 },
 "nbformat": 4,
 "nbformat_minor": 0
}
