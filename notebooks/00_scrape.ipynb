{
 "cells": [
  {
   "cell_type": "code",
   "execution_count": null,
   "metadata": {
    "collapsed": false,
    "pycharm": {
     "name": "#%%\n"
    }
   },
   "outputs": [],
   "source": [
    "import re\n",
    "import numpy as np\n",
    "from bs4 import BeautifulSoup\n",
    "import requests\n",
    "import pandas as pd\n",
    "import json\n",
    "from tqdm import tqdm\n",
    "import os"
   ]
  },
  {
   "attachments": {},
   "cell_type": "markdown",
   "metadata": {
    "collapsed": false,
    "pycharm": {
     "name": "#%% md\n"
    }
   },
   "source": [
    "Last scraped on Jun 13, 2023."
   ]
  },
  {
   "attachments": {},
   "cell_type": "markdown",
   "metadata": {
    "collapsed": false,
    "pycharm": {
     "name": "#%% md\n"
    }
   },
   "source": [
    "### Read index"
   ]
  },
  {
   "cell_type": "code",
   "execution_count": null,
   "metadata": {
    "collapsed": false,
    "pycharm": {
     "name": "#%%\n"
    }
   },
   "outputs": [],
   "source": [
    "# read index\n",
    "# url='https://www.mdcalc.com/#All'\n",
    "# req=requests.get(url)\n",
    "# content=req.text\n",
    "# with open('../data/index.html', 'w') as f:\n",
    "#     f.write(content)\n",
    "\n",
    "# extract out df\n",
    "index = open('../data/index.html', 'r').read()\n",
    "soup = BeautifulSoup(index)\n",
    "tab = pd.read_table('../data/index.html')\n",
    "scripts = soup.find_all('script')\n",
    "d = json.loads(scripts[-1].text)\n",
    "all_calcs_list = d['props']['pageProps']['allCalcs']\n",
    "df = pd.DataFrame.from_dict(all_calcs_list)\n",
    "\n",
    "# clean df\n",
    "def clean_element(x):\n",
    "    if isinstance(x, list):\n",
    "        if len(x) == 1:\n",
    "            return x[0]\n",
    "    if isinstance(x, str):\n",
    "        return x.replace('<span>', '').replace('</span>', '')\n",
    "    return x\n",
    "df = df.applymap(clean_element)\n",
    "df['url_full'] = 'https://www.mdcalc.com/calc/' + df['id'].astype(str) + '/' + df['slug']"
   ]
  },
  {
   "attachments": {},
   "cell_type": "markdown",
   "metadata": {},
   "source": [
    "### Read individual pages\n",
    "Note: don't run multiple times!"
   ]
  },
  {
   "cell_type": "code",
   "execution_count": null,
   "metadata": {
    "collapsed": false,
    "pycharm": {
     "name": "#%%\n"
    }
   },
   "outputs": [],
   "source": [
    "for i in tqdm(range(df.shape[0])): #df.shape[0])):\n",
    "    slug = df['slug'].iloc[i]\n",
    "    url_full = df['url_full'].iloc[i]\n",
    "    output_fname = f'../data/pages/{slug}.html'\n",
    "\n",
    "    if not os.path.exists(output_fname):\n",
    "        req = requests.get(url_full)\n",
    "        content = req.text\n",
    "        with open(output_fname, 'w') as f:\n",
    "            f.write(content)\n",
    "            print(slug, url_full)\n",
    "assert len(os.listdir('../data/pages')) == df.shape[0]"
   ]
  },
  {
   "attachments": {},
   "cell_type": "markdown",
   "metadata": {
    "collapsed": false,
    "pycharm": {
     "name": "#%% md\n"
    }
   },
   "source": [
    "### parse individual pages"
   ]
  },
  {
   "cell_type": "code",
   "execution_count": null,
   "metadata": {},
   "outputs": [],
   "source": [
    "errors = []\n",
    "for i in tqdm(range(df.shape[0])):\n",
    "    slug = df.iloc[i].slug\n",
    "    fname = '../data/pages/' + slug + '.html'\n",
    "    fname_json = '../data/processed/' + slug + '.json'\n",
    "    if not os.path.exists(fname_json):\n",
    "        html = open(fname, 'r').read()\n",
    "        soup = BeautifulSoup(html)\n",
    "        try:\n",
    "            data = soup.find_all('script')[2]\n",
    "            s = json.loads(data.text[data.text.index('{'):])['calc']\n",
    "            with open(f'../data/processed/{slug}.json', 'w') as f:\n",
    "                json.dump(s, f)\n",
    "        except:\n",
    "            # print('failed', slug)\n",
    "            errors.append(slug)\n",
    "print('num errors', len(errors))\n",
    "df = df[df.slug.isin(errors) == False]\n",
    "print(df.shape)"
   ]
  },
  {
   "attachments": {},
   "cell_type": "markdown",
   "metadata": {},
   "source": [
    "### merged"
   ]
  },
  {
   "cell_type": "code",
   "execution_count": null,
   "metadata": {},
   "outputs": [],
   "source": [
    "# load cdis\n",
    "cdis = [\n",
    "    json.loads(open(f\"../data/processed/{df.iloc[i].slug}.json\", \"r\").read())\n",
    "    for i in tqdm(range(df.shape[0]))\n",
    "]\n",
    "cdis = pd.DataFrame.from_dict(cdis)\n",
    "# cdis['num_rules'] = cdis['input_schema'].apply(len)  # num rules (this includes some messiness that isn't actually a rule)\n",
    "\n",
    "# merge with df\n",
    "df_merged = df.join(cdis, rsuffix=\"_duplicate\")  # mark duplicate cols\n",
    "df_merged = df_merged.drop(\n",
    "    columns=[k for k in df_merged.columns if k.endswith(\"_duplicate\")]\n",
    ")  # drop the duplicates\n",
    "\n",
    "df_merged.to_pickle(\"../data/cdis_with_schemas.pkl\")\n",
    "df_merged.to_csv(\"../data/cdis_with_schemas.csv\")"
   ]
  }
 ],
 "metadata": {
  "kernelspec": {
   "display_name": "Python 3",
   "language": "python",
   "name": "python3"
  },
  "language_info": {
   "codemirror_mode": {
    "name": "ipython",
    "version": 3
   },
   "file_extension": ".py",
   "mimetype": "text/x-python",
   "name": "python",
   "nbconvert_exporter": "python",
   "pygments_lexer": "ipython3",
   "version": "3.11.3"
  }
 },
 "nbformat": 4,
 "nbformat_minor": 0
}
