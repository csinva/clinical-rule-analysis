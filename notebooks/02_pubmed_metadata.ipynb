{
 "cells": [
  {
   "cell_type": "code",
   "execution_count": null,
   "metadata": {
    "collapsed": false,
    "pycharm": {
     "name": "#%%\n"
    }
   },
   "outputs": [],
   "source": [
    "%load_ext autoreload\n",
    "%autoreload 2\n",
    "\n",
    "from collections import defaultdict\n",
    "\n",
    "import dvu\n",
    "import matplotlib.pyplot as plt\n",
    "import pandas as pd\n",
    "from os.path import join\n",
    "import os.path\n",
    "from bs4 import BeautifulSoup\n",
    "from tqdm import tqdm\n",
    "import imodelsx.llm\n",
    "import json\n",
    "import requests\n",
    "import joblib\n",
    "import numpy as np\n",
    "import openai\n",
    "from clean import try_or_none\n",
    "openai.api_key = open('/home/chansingh/.OPENAI_KEY').read().strip()\n",
    "plt.style.use('default')\n",
    "dvu.set_style()\n",
    "\n",
    "df = pd.read_csv('../data/main_updated.csv')"
   ]
  },
  {
   "attachments": {},
   "cell_type": "markdown",
   "metadata": {},
   "source": [
    "### Scraping pubmed articles"
   ]
  },
  {
   "attachments": {},
   "cell_type": "markdown",
   "metadata": {},
   "source": [
    "- E-utilities: https://dataguide.nlm.nih.gov/eutilities/utilities.html\n",
    "- Metadata: https://www.ncbi.nlm.nih.gov/pmc/tools/get-metadata/\n",
    "- example paper: https://pubmed.ncbi.nlm.nih.gov/16768059/\n",
    "- example summary: https://eutils.ncbi.nlm.nih.gov/entrez/eutils/esummary.fcgi?db=pubmed&id=16768059&retmode=json"
   ]
  },
  {
   "cell_type": "code",
   "execution_count": null,
   "metadata": {},
   "outputs": [],
   "source": [
    "def get_metadata(paper_id: str):\n",
    "    cache_file = f\"../data/metadata/{paper_id}.json\"\n",
    "    if os.path.exists(cache_file):\n",
    "        metadata = json.load(open(cache_file))\n",
    "    else:\n",
    "        resp = requests.get(\n",
    "            f\"https://eutils.ncbi.nlm.nih.gov/entrez/eutils/esummary.fcgi?db=pubmed&id={paper_id}&retmode=json\"\n",
    "        )\n",
    "        metadata = json.loads(resp.text)\n",
    "        with open(cache_file, \"w\") as f:\n",
    "            json.dump(metadata, f, indent=2)\n",
    "    return metadata\n",
    "\n",
    "\n",
    "def get_authors_with_firstname(paper_link: str, paper_id: str):\n",
    "    cache_file = f\"../data/metadata/{paper_id}_full.joblib\"\n",
    "    if os.path.exists(cache_file):\n",
    "        return joblib.load(cache_file)\n",
    "    else:\n",
    "        resp = requests.get(paper_link).text\n",
    "        soup = BeautifulSoup(resp)\n",
    "        author_names = set()\n",
    "        # print(soup.find_all(\"span\", {\"class\": \"authors-list-item\"}))\n",
    "        for s in soup.find_all(\"span\", {\"class\": \"authors-list-item\"}):\n",
    "            try:\n",
    "                author_name = s.a[\"data-ga-label\"]\n",
    "                author_names.add(author_name)\n",
    "                # print('author_name', author_name)\n",
    "            except:\n",
    "                pass\n",
    "        print('a', author_names)\n",
    "        joblib.dump(author_names, cache_file)\n",
    "        return author_names\n",
    "\n",
    "@try_or_none\n",
    "def get_free_text_link(paper_id: str):\n",
    "    cache_file = f\"../data/metadata/{paper_id}_free_text_link.json\"\n",
    "    if os.path.exists(cache_file):\n",
    "        free_text_link = json.load(open(cache_file))\n",
    "    else:\n",
    "        resp = requests.get(\n",
    "            f\"https://eutils.ncbi.nlm.nih.gov/entrez/eutils/elink.fcgi?dbfrom=pubmed&id={paper_id}&cmd=prlinks&retmode=json\"\n",
    "        )\n",
    "        free_text_link = resp.json()\n",
    "        with open(cache_file, \"w\") as f:\n",
    "            json.dump(free_text_link, f, indent=2)\n",
    "    \n",
    "    return free_text_link['linksets'][0]['idurllist'][0]['objurls'][0]['url']['value']"
   ]
  },
  {
   "cell_type": "code",
   "execution_count": null,
   "metadata": {},
   "outputs": [],
   "source": [
    "\n",
    "# intitialize\n",
    "idxs_corrected = df['ref_href_corrected'].notna() # df['ref_href'].isna() & \n",
    "df['ref_href'][idxs_corrected] = df['ref_href_corrected'][idxs_corrected]\n",
    "df[\"ref_metadata\"] = np.nan\n",
    "df[\"ref_authors\"] = np.nan\n",
    "df[\"ref_citations\"] = np.nan\n",
    "df['ref_authors_full'] = np.nan\n",
    "df['ref_url_free_text'] = np.nan\n",
    "\n",
    "# run scraping\n",
    "for i in tqdm(range(df.shape[0])):\n",
    "    paper_link = df[\"ref_href\"][i]\n",
    "    if isinstance(paper_link, str) and \"pubmed\" in paper_link:\n",
    "        # paper_link = 'https://pubmed.ncbi.nlm.nih.gov/20738765/'\n",
    "        if paper_link.endswith(\"/\"):\n",
    "            paper_link = paper_link[:-1]\n",
    "        paper_id = paper_link.split(\"/\")[-1]\n",
    "        if not \"?\" in paper_id and not \"&\" in paper_id:\n",
    "            # remove leading zeros\n",
    "            while paper_id.startswith(\"0\"):\n",
    "                paper_id = paper_id[1:]\n",
    "\n",
    "            try:\n",
    "                metadata = get_metadata(paper_id)\n",
    "                df[\"ref_metadata\"][i] = metadata\n",
    "                df[\"ref_authors\"][i] = metadata[\"result\"][paper_id][\"authors\"]\n",
    "                df[\"ref_citations\"][i] = metadata[\"result\"][paper_id][\"pmcrefcount\"]\n",
    "            except:\n",
    "                print(f\"Error for paper {paper_id}\")\n",
    "\n",
    "            # try:\n",
    "            # print('paper_link', paper_link, paper_id)\n",
    "            authors_list = get_authors_with_firstname(paper_link, paper_id)\n",
    "            df[\"ref_authors_full\"][i] = authors_list\n",
    "            # print('auth_list', authors_list)\n",
    "            # except:\n",
    "                # print(f\"Error scraping for paper {paper_id}\")\n",
    "\n",
    "            df['ref_url_free_text'][i] = get_free_text_link(paper_id)\n",
    "            print('free_text_link', df['ref_url_free_text'][i])"
   ]
  },
  {
   "cell_type": "code",
   "execution_count": null,
   "metadata": {},
   "outputs": [],
   "source": [
    "@try_or_none\n",
    "def parse_name(name: str):\n",
    "    name_arr = name.split()\n",
    "\n",
    "    # drop if too long\n",
    "    if len(name) > 40:\n",
    "        return None\n",
    "\n",
    "    # drop special names\n",
    "    for k in [\n",
    "        \"investigator\",\n",
    "        \"group\",\n",
    "        \"committee\",\n",
    "        \"network\",\n",
    "    ]:\n",
    "        if k in name.lower():\n",
    "            return None\n",
    "\n",
    "    # drop when first name is only one letter\n",
    "    if len(name_arr[0]) == 1:\n",
    "        return None\n",
    "\n",
    "    # drop middle initial\n",
    "    if len(name_arr) > 2 and len(name_arr[1]) == 1:\n",
    "        name_arr = [name_arr[0], name_arr[-1]]\n",
    "\n",
    "    # return name\n",
    "    return \" \".join(name_arr)\n",
    "\n",
    "\n",
    "names = sorted(df[\"ref_authors_full\"].explode().apply(parse_name).dropna().tolist())\n",
    "# for name in names:\n",
    "# print(name)"
   ]
  },
  {
   "attachments": {},
   "cell_type": "markdown",
   "metadata": {},
   "source": [
    "### Gender of authors"
   ]
  },
  {
   "cell_type": "code",
   "execution_count": null,
   "metadata": {},
   "outputs": [],
   "source": [
    "genders = []\n",
    "llm = imodelsx.llm.get_llm(checkpoint='gpt-3.5-turbo', CACHE_DIR='/home/chansingh/cache/pubmed_names')"
   ]
  },
  {
   "cell_type": "code",
   "execution_count": 7,
   "metadata": {},
   "outputs": [
    {
     "name": "stdout",
     "output_type": "stream",
     "text": [
      "That model is currently overloaded with other requests. You can retry your request, or contact us through our help center at help.openai.com if the error persists. (Please include the request ID f6ffc67fe72c8a377e798b76f987d39d in your message.)\n"
     ]
    },
    {
     "name": "stderr",
     "output_type": "stream",
     "text": [
      " 95%|█████████▌| 2659/2798 [10:35<02:33,  1.10s/it]"
     ]
    },
    {
     "name": "stdout",
     "output_type": "stream",
     "text": [
      "Rate limit reached for default-gpt-3.5-turbo in organization org-rocrupyvzgcl4yf25rqq6d1v on tokens per min. Limit: 90000 / min. Current: 89770 / min. Contact us through our help center at help.openai.com if you continue to have issues.\n"
     ]
    },
    {
     "name": "stderr",
     "output_type": "stream",
     "text": [
      " 96%|█████████▌| 2684/2798 [10:49<00:39,  2.88it/s]"
     ]
    },
    {
     "name": "stdout",
     "output_type": "stream",
     "text": [
      "The server is overloaded or not ready yet.\n"
     ]
    },
    {
     "name": "stderr",
     "output_type": "stream",
     "text": [
      " 96%|█████████▌| 2686/2798 [10:55<02:35,  1.39s/it]"
     ]
    },
    {
     "name": "stdout",
     "output_type": "stream",
     "text": [
      "The server is overloaded or not ready yet.\n"
     ]
    },
    {
     "name": "stderr",
     "output_type": "stream",
     "text": [
      " 97%|█████████▋| 2712/2798 [11:10<00:56,  1.51it/s]"
     ]
    },
    {
     "name": "stdout",
     "output_type": "stream",
     "text": [
      "Rate limit reached for default-gpt-3.5-turbo in organization org-rocrupyvzgcl4yf25rqq6d1v on tokens per min. Limit: 90000 / min. Current: 89752 / min. Contact us through our help center at help.openai.com if you continue to have issues.\n"
     ]
    },
    {
     "name": "stderr",
     "output_type": "stream",
     "text": [
      " 98%|█████████▊| 2745/2798 [11:24<00:11,  4.46it/s]"
     ]
    },
    {
     "name": "stdout",
     "output_type": "stream",
     "text": [
      "The server is overloaded or not ready yet.\n"
     ]
    },
    {
     "name": "stderr",
     "output_type": "stream",
     "text": [
      " 99%|█████████▊| 2758/2798 [11:34<00:12,  3.23it/s]"
     ]
    },
    {
     "name": "stdout",
     "output_type": "stream",
     "text": [
      "Rate limit reached for default-gpt-3.5-turbo in organization org-rocrupyvzgcl4yf25rqq6d1v on tokens per min. Limit: 90000 / min. Current: 89747 / min. Contact us through our help center at help.openai.com if you continue to have issues.\n"
     ]
    },
    {
     "name": "stderr",
     "output_type": "stream",
     "text": [
      " 99%|█████████▉| 2781/2798 [11:47<00:06,  2.81it/s]"
     ]
    },
    {
     "name": "stdout",
     "output_type": "stream",
     "text": [
      "The server is overloaded or not ready yet.\n"
     ]
    },
    {
     "name": "stderr",
     "output_type": "stream",
     "text": [
      "100%|█████████▉| 2792/2798 [11:54<00:02,  2.17it/s]"
     ]
    },
    {
     "name": "stdout",
     "output_type": "stream",
     "text": [
      "The server is overloaded or not ready yet.\n"
     ]
    },
    {
     "name": "stderr",
     "output_type": "stream",
     "text": [
      "100%|██████████| 2798/2798 [12:02<00:00,  3.87it/s]\n"
     ]
    }
   ],
   "source": [
    "gender_ans = [\n",
    "    llm(f'Return whether the name \"{name}\" is more common for a male or a female. Answer with one word, \"Male\" or \"Female\"', verbose=False)\n",
    "    for name in tqdm(names)\n",
    "]"
   ]
  },
  {
   "cell_type": "code",
   "execution_count": 9,
   "metadata": {},
   "outputs": [
    {
     "data": {
      "text/plain": [
       "Male.                                                                                                                                                     1956\n",
       "Female.                                                                                                                                                    840\n",
       "I'm sorry, but I cannot determine the gender of a name without additional information. The name \"Alet Wilga\" does not have a clear gender association.       1\n",
       "The name \"Zoe Co\" is more common for a female.                                                                                                               1\n",
       "Name: count, dtype: int64"
      ]
     },
     "execution_count": 9,
     "metadata": {},
     "output_type": "execute_result"
    }
   ],
   "source": [
    "pd.Series(gender_ans).value_counts()"
   ]
  },
  {
   "cell_type": "code",
   "execution_count": null,
   "metadata": {},
   "outputs": [],
   "source": [
    "# citations plot\n",
    "plt.hist(df['ref_citations'].replace('', np.nan).dropna().astype(int))"
   ]
  },
  {
   "cell_type": "code",
   "execution_count": null,
   "metadata": {},
   "outputs": [],
   "source": []
  },
  {
   "cell_type": "code",
   "execution_count": null,
   "metadata": {},
   "outputs": [],
   "source": []
  },
  {
   "cell_type": "code",
   "execution_count": null,
   "metadata": {},
   "outputs": [],
   "source": []
  }
 ],
 "metadata": {
  "kernelspec": {
   "display_name": "Python 3",
   "language": "python",
   "name": "python3"
  },
  "language_info": {
   "codemirror_mode": {
    "name": "ipython",
    "version": 3
   },
   "file_extension": ".py",
   "mimetype": "text/x-python",
   "name": "python",
   "nbconvert_exporter": "python",
   "pygments_lexer": "ipython3",
   "version": "3.11.4"
  }
 },
 "nbformat": 4,
 "nbformat_minor": 0
}
