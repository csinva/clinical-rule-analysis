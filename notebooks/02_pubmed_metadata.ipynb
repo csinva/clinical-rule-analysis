{
 "cells": [
  {
   "cell_type": "code",
   "execution_count": null,
   "metadata": {
    "collapsed": false,
    "pycharm": {
     "name": "#%%\n"
    }
   },
   "outputs": [],
   "source": [
    "%load_ext autoreload\n",
    "%autoreload 2\n",
    "\n",
    "from collections import defaultdict\n",
    "\n",
    "import dvu\n",
    "import matplotlib.pyplot as plt\n",
    "import pandas as pd\n",
    "from os.path import join\n",
    "import os.path\n",
    "from bs4 import BeautifulSoup\n",
    "from tqdm import tqdm\n",
    "import imodelsx.llm\n",
    "import json\n",
    "import requests\n",
    "import joblib\n",
    "import os\n",
    "import numpy as np\n",
    "import pubmed\n",
    "import openai\n",
    "from clean import try_or_none\n",
    "openai.api_key = open('/home/chansingh/.OPENAI_KEY').read().strip()\n",
    "plt.style.use('default')\n",
    "dvu.set_style()\n",
    "\n",
    "df = pd.read_csv('../data/main_updated.csv')"
   ]
  },
  {
   "attachments": {},
   "cell_type": "markdown",
   "metadata": {},
   "source": [
    "### Scraping pubmed articles"
   ]
  },
  {
   "attachments": {},
   "cell_type": "markdown",
   "metadata": {},
   "source": [
    "- E-utilities: https://dataguide.nlm.nih.gov/eutilities/utilities.html\n",
    "- Metadata: https://www.ncbi.nlm.nih.gov/pmc/tools/get-metadata/\n",
    "- example paper: https://pubmed.ncbi.nlm.nih.gov/16768059/\n",
    "- example summary: https://eutils.ncbi.nlm.nih.gov/entrez/eutils/esummary.fcgi?db=pubmed&id=16768059&retmode=json"
   ]
  },
  {
   "cell_type": "code",
   "execution_count": null,
   "metadata": {},
   "outputs": [],
   "source": [
    "# intitialize\n",
    "idxs_corrected = df[\"ref_href_corrected\"].notna()  # df['ref_href'].isna() &\n",
    "df[\"ref_href\"][idxs_corrected] = df[\"ref_href_corrected\"][idxs_corrected]\n",
    "df[\"ref_metadata\"] = np.nan\n",
    "df[\"ref_authors\"] = np.nan\n",
    "df[\"ref_citations\"] = np.nan\n",
    "df[\"ref_authors_full\"] = np.nan\n",
    "df[\"ref_url_free_text\"] = np.nan\n",
    "\n",
    "# run scraping\n",
    "for i in tqdm(range(df.shape[0])):\n",
    "    paper_link = df[\"ref_href\"][i]\n",
    "    if isinstance(paper_link, str) and \"pubmed\" in paper_link:\n",
    "        # paper_link = 'https://pubmed.ncbi.nlm.nih.gov/20738765/'\n",
    "        if paper_link.endswith(\"/\"):\n",
    "            paper_link = paper_link[:-1]\n",
    "        paper_id = paper_link.split(\"/\")[-1]\n",
    "        if not \"?\" in paper_id and not \"&\" in paper_id:\n",
    "            # remove leading zeros\n",
    "            while paper_id.startswith(\"0\"):\n",
    "                paper_id = paper_id[1:]\n",
    "\n",
    "            try:\n",
    "                metadata = pubmed.get_metadata(paper_id)\n",
    "                df[\"ref_metadata\"][i] = metadata\n",
    "                df[\"ref_authors\"][i] = metadata[\"result\"][paper_id][\"authors\"]\n",
    "                df[\"ref_citations\"][i] = metadata[\"result\"][paper_id][\"pmcrefcount\"]\n",
    "            except:\n",
    "                print(f\"Error for paper {paper_id}\")\n",
    "\n",
    "            # try:\n",
    "            # print('paper_link', paper_link, paper_id)\n",
    "            authors_list = pubmed.get_authors_with_firstname(paper_link, paper_id)\n",
    "            df[\"ref_authors_full\"][i] = [pubmed.parse_name(name) for name in authors_list]\n",
    "            # print('auth_list', authors_list)\n",
    "            # except:\n",
    "            # print(f\"Error scraping for paper {paper_id}\")\n",
    "\n",
    "            # df['ref_url_free_text'][i] = pubmed.get_free_text_link(paper_id)\n",
    "            # print('free_text_link', df['ref_url_free_text'][i])\n"
   ]
  },
  {
   "attachments": {},
   "cell_type": "markdown",
   "metadata": {},
   "source": [
    "### Gender of authors"
   ]
  },
  {
   "cell_type": "code",
   "execution_count": 65,
   "metadata": {},
   "outputs": [
    {
     "name": "stderr",
     "output_type": "stream",
     "text": [
      "100%|██████████| 2798/2798 [00:00<00:00, 22607.01it/s]\n"
     ]
    },
    {
     "data": {
      "text/plain": [
       "Male.                                                                                                                                                     1956\n",
       "Female.                                                                                                                                                    840\n",
       "I'm sorry, but I cannot determine the gender of a name without additional information. The name \"Alet Wilga\" does not have a clear gender association.       1\n",
       "The name \"Zoe Co\" is more common for a female.                                                                                                               1\n",
       "Name: count, dtype: int64"
      ]
     },
     "execution_count": 65,
     "metadata": {},
     "output_type": "execute_result"
    }
   ],
   "source": [
    "names = sorted(\n",
    "    df[\"ref_authors_full\"].explode().dropna().tolist()\n",
    ")\n",
    "\n",
    "genders = []\n",
    "llm = imodelsx.llm.get_llm(\n",
    "    checkpoint=\"gpt-3.5-turbo\", CACHE_DIR=\"/home/chansingh/cache/pubmed_names\"\n",
    ")\n",
    "\n",
    "\n",
    "def get_gender(name: str):\n",
    "    return llm(\n",
    "        f'Return whether the name \"{name}\" is more common for a male or a female. Answer with one word, \"Male\" or \"Female\"',\n",
    "        verbose=False,\n",
    "    )\n",
    "\n",
    "\n",
    "gender_ans = [get_gender(name) for name in tqdm(names)]\n",
    "pd.Series(gender_ans).value_counts()"
   ]
  },
  {
   "attachments": {},
   "cell_type": "markdown",
   "metadata": {},
   "source": [
    "### Gender over time"
   ]
  },
  {
   "cell_type": "code",
   "execution_count": 59,
   "metadata": {},
   "outputs": [],
   "source": [
    "# check if any element of a list is not None\n",
    "def any_not_none(l):\n",
    "    for x in l:\n",
    "        if x is not None:\n",
    "            return True\n",
    "    return False\n",
    "    \n",
    "def count_male(authors_full):\n",
    "    if isinstance(authors_full, list) and any_not_none(authors_full):\n",
    "        return np.sum([get_gender(name) == \"Male.\" for name in authors_full])\n",
    "    else:\n",
    "        return 0\n",
    "\n",
    "def count_female(authors_full):\n",
    "    if isinstance(authors_full, list) and any_not_none(authors_full):\n",
    "        return np.sum([get_gender(name) == \"Female.\" for name in authors_full])\n",
    "    else:\n",
    "        return 0\n",
    "\n",
    "\n",
    "df[\"count_male\"] = df.apply(\n",
    "    lambda row: count_male(row[\"ref_authors_full\"]),\n",
    "    axis=1,\n",
    ")\n",
    "df['count_female'] = df.apply(\n",
    "   lambda row: count_female(row[\"ref_authors_full\"]),\n",
    "    axis=1, \n",
    ")"
   ]
  },
  {
   "cell_type": "code",
   "execution_count": 64,
   "metadata": {},
   "outputs": [
    {
     "data": {
      "text/plain": [
       "(2.0, 4.0)"
      ]
     },
     "execution_count": 64,
     "metadata": {},
     "output_type": "execute_result"
    },
    {
     "data": {
      "image/png": "[encoded data removed]",
      "text/plain": [
       "<Figure size 640x480 with 1 Axes>"
      ]
     },
     "metadata": {},
     "output_type": "display_data"
    }
   ],
   "source": [
    "dp = df.sort_values(by='ref_year')\n",
    "dp['count_male'].value_counts()\n",
    "# plt.plot(dp['ref_year'], np.cumsum(dp['count_male']))\n",
    "# plt.plot(dp['ref_year'], np.cumsum(dp['count_female']))\n",
    "plt.plot(dp['ref_year'], np.cumsum(dp['count_male']) / np.cumsum(dp['count_female']))\n",
    "plt.grid()\n",
    "plt.xlim(2000, 2023)\n",
    "plt.ylim(2, 4)"
   ]
  },
  {
   "attachments": {},
   "cell_type": "markdown",
   "metadata": {},
   "source": [
    "### Citations plot"
   ]
  },
  {
   "cell_type": "code",
   "execution_count": 66,
   "metadata": {},
   "outputs": [
    {
     "data": {
      "text/plain": [
       "(array([12., 31., 19.,  3.,  1.,  1.,  0.,  0.,  0.,  6.]),\n",
       " array([  1. ,  17.5,  34. ,  50.5,  67. ,  83.5, 100. , 116.5, 133. ,\n",
       "        149.5, 166. ]),\n",
       " <BarContainer object of 10 artists>)"
      ]
     },
     "execution_count": 66,
     "metadata": {},
     "output_type": "execute_result"
    },
    {
     "data": {
      "image/png": "[encoded data removed]",
      "text/plain": [
       "<Figure size 640x480 with 1 Axes>"
      ]
     },
     "metadata": {},
     "output_type": "display_data"
    }
   ],
   "source": [
    "plt.hist(df[\"ref_citations\"].replace(\"\", np.nan).dropna().astype(int))"
   ]
  },
  {
   "cell_type": "code",
   "execution_count": null,
   "metadata": {},
   "outputs": [],
   "source": []
  }
 ],
 "metadata": {
  "kernelspec": {
   "display_name": "Python 3",
   "language": "python",
   "name": "python3"
  },
  "language_info": {
   "codemirror_mode": {
    "name": "ipython",
    "version": 3
   },
   "file_extension": ".py",
   "mimetype": "text/x-python",
   "name": "python",
   "nbconvert_exporter": "python",
   "pygments_lexer": "ipython3",
   "version": "3.11.4"
  }
 },
 "nbformat": 4,
 "nbformat_minor": 0
}
