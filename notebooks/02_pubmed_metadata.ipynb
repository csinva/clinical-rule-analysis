{
 "cells": [
  {
   "cell_type": "code",
   "execution_count": null,
   "metadata": {
    "collapsed": false,
    "pycharm": {
     "name": "#%%\n"
    }
   },
   "outputs": [],
   "source": [
    "%load_ext autoreload\n",
    "%autoreload 2\n",
    "\n",
    "from collections import defaultdict\n",
    "\n",
    "import dvu\n",
    "import matplotlib.pyplot as plt\n",
    "import pandas as pd\n",
    "from os.path import join\n",
    "import os.path\n",
    "import fitz\n",
    "from tqdm import tqdm\n",
    "import pathlib\n",
    "import imodelsx.llm\n",
    "import json\n",
    "import requests\n",
    "import numpy as np\n",
    "import openai\n",
    "openai.api_key = open('/home/chansingh/.OPENAI_KEY').read().strip()\n",
    "plt.style.use('default')\n",
    "dvu.set_style()\n",
    "\n",
    "df = pd.read_csv('../data/main_updated.csv')"
   ]
  },
  {
   "attachments": {},
   "cell_type": "markdown",
   "metadata": {},
   "source": [
    "### Scraping pubmed articles"
   ]
  },
  {
   "attachments": {},
   "cell_type": "markdown",
   "metadata": {},
   "source": [
    "- E-utilities: https://dataguide.nlm.nih.gov/eutilities/utilities.html\n",
    "- Metadata: https://www.ncbi.nlm.nih.gov/pmc/tools/get-metadata/\n",
    "- example paper: https://pubmed.ncbi.nlm.nih.gov/16768059/\n",
    "- example summary: https://eutils.ncbi.nlm.nih.gov/entrez/eutils/esummary.fcgi?db=pubmed&id=16768059&retmode=json"
   ]
  },
  {
   "cell_type": "code",
   "execution_count": null,
   "metadata": {},
   "outputs": [],
   "source": [
    "idxs_corrected = df['ref_href_corrected'].notna() # df['ref_href'].isna() & \n",
    "df['ref_href'][idxs_corrected] = df['ref_href_corrected'][idxs_corrected]"
   ]
  },
  {
   "cell_type": "code",
   "execution_count": null,
   "metadata": {},
   "outputs": [],
   "source": [
    "def get_metadata(paper_id: str):\n",
    "    cache_file = f\"../data/metadata/{paper_id}.json\"\n",
    "    if os.path.exists(cache_file):\n",
    "        metadata = json.load(open(cache_file))\n",
    "    else:\n",
    "        resp = requests.get(\n",
    "            f\"https://eutils.ncbi.nlm.nih.gov/entrez/eutils/esummary.fcgi?db=pubmed&id={paper_id}&retmode=json\"\n",
    "        )\n",
    "        metadata = json.loads(resp.text)\n",
    "        with open(cache_file, \"w\") as f:\n",
    "            json.dump(metadata, f, indent=2)\n",
    "    return metadata\n",
    "\n",
    "\n",
    "df[\"ref_metadata\"] = np.nan\n",
    "df[\"ref_authors\"] = np.nan\n",
    "df[\"ref_citations\"] = np.nan\n",
    "for i in tqdm(range(df.shape[0])):\n",
    "    paper_link = df[\"ref_href\"][i]\n",
    "    if isinstance(paper_link, str) and \"pubmed\" in paper_link:\n",
    "        # paper_link = 'https://pubmed.ncbi.nlm.nih.gov/20738765/'\n",
    "        if paper_link.endswith(\"/\"):\n",
    "            paper_link = paper_link[:-1]\n",
    "        paper_id = paper_link.split(\"/\")[-1]\n",
    "        if not \"?\" in paper_id and not \"&\" in paper_id:\n",
    "            # remove leading zeros\n",
    "            while paper_id.startswith(\"0\"):\n",
    "                paper_id = paper_id[1:]\n",
    "\n",
    "            try:\n",
    "                metadata = get_metadata(paper_id)\n",
    "                df[\"ref_metadata\"][i] = metadata\n",
    "                df[\"ref_authors\"][i] = metadata[\"result\"][paper_id][\"authors\"]\n",
    "                df[\"ref_citations\"][i] = metadata[\"result\"][paper_id][\"pmcrefcount\"]\n",
    "            except:\n",
    "                print(f\"Error for paper {paper_id}\")"
   ]
  },
  {
   "cell_type": "code",
   "execution_count": 5,
   "metadata": {},
   "outputs": [
    {
     "data": {
      "text/plain": [
       "(array([12., 31., 19.,  3.,  1.,  1.,  0.,  0.,  0.,  6.]),\n",
       " array([  1. ,  17.5,  34. ,  50.5,  67. ,  83.5, 100. , 116.5, 133. ,\n",
       "        149.5, 166. ]),\n",
       " <BarContainer object of 10 artists>)"
      ]
     },
     "execution_count": 5,
     "metadata": {},
     "output_type": "execute_result"
    },
    {
     "data": {
      "image/png": "[encoded data removed]",
      "text/plain": [
       "<Figure size 640x480 with 1 Axes>"
      ]
     },
     "metadata": {},
     "output_type": "display_data"
    }
   ],
   "source": [
    "plt.hist(df['ref_citations'].replace('', np.nan).dropna().astype(int))"
   ]
  },
  {
   "cell_type": "code",
   "execution_count": null,
   "metadata": {},
   "outputs": [],
   "source": []
  }
 ],
 "metadata": {
  "kernelspec": {
   "display_name": "Python 3",
   "language": "python",
   "name": "python3"
  },
  "language_info": {
   "codemirror_mode": {
    "name": "ipython",
    "version": 3
   },
   "file_extension": ".py",
   "mimetype": "text/x-python",
   "name": "python",
   "nbconvert_exporter": "python",
   "pygments_lexer": "ipython3",
   "version": "3.11.4"
  }
 },
 "nbformat": 4,
 "nbformat_minor": 0
}
