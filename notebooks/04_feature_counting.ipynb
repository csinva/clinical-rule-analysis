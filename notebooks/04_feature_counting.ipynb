{
 "cells": [
  {
   "cell_type": "code",
   "execution_count": null,
   "metadata": {
    "collapsed": false,
    "pycharm": {
     "name": "#%%\n"
    }
   },
   "outputs": [],
   "source": [
    "%load_ext autoreload\n",
    "%autoreload 2\n",
    "\n",
    "\n",
    "import dvu\n",
    "import matplotlib.pyplot as plt\n",
    "import numpy as np\n",
    "import pandas as pd\n",
    "import seaborn as sns\n",
    "\n",
    "import mdcalc\n",
    "import viz\n",
    "\n",
    "# plt.style.use('default')\n",
    "dvu.set_style()\n",
    "\n",
    "df = pd.read_pickle('../data/cdis_with_schemas_cleaned.pkl')\n",
    "\n",
    "def get_feature_names_list(schema):\n",
    "    if isinstance(schema, list):\n",
    "        return [mdcalc.clean_feature_name(s['label_en']) if 'label_en' in s else 'unknown'\n",
    "                for s in schema]\n",
    "    else:\n",
    "        return []\n",
    "\n",
    "# these seem to be extra info in the calc, not actually a new feature\n",
    "def remove_unknown(x):\n",
    "    return [z for z in x if not z == 'unknown']\n",
    "\n",
    "df['feature_names'] = df['input_schema'].apply(get_feature_names_list)\n",
    "df['feature_names'] = df['feature_names'].apply(remove_unknown)\n",
    "df['feature_names_unique'] = df['feature_names'].apply(mdcalc.get_renamed_unique_feature_names_from_list)"
   ]
  },
  {
   "attachments": {},
   "cell_type": "markdown",
   "metadata": {},
   "source": [
    "### Aggregate over all CDIs"
   ]
  },
  {
   "cell_type": "code",
   "execution_count": null,
   "metadata": {
    "collapsed": false,
    "pycharm": {
     "is_executing": true,
     "name": "#%%\n"
    }
   },
   "outputs": [],
   "source": [
    "all_words = sum(df['feature_names_unique'], [])  # concatenate all list\n",
    "all_words = pd.Series(all_words)\n",
    "# all_words = all_words[~(all_words == 'unknown')] # not necessary, already handleed\n",
    "counts = all_words.value_counts()\n",
    "feat_names = pd.Series(counts.index)\n",
    "\n",
    "\n",
    "counts.head(30)\n",
    "plt.figure(figsize=(6, 4), dpi=300, facecolor='w')\n",
    "N = 20\n",
    "# plt.grid()\n",
    "ax = sns.barplot(y=feat_names[:N].apply(lambda x: x[:39]),\n",
    "                 x=counts.values[:N], orient='h')\n",
    "ax.bar_label(ax.containers[0])\n",
    "plt.xlabel(f'Number of CDIs that use this feature\\n(Out of {df.shape[0]} CDIs)')\n",
    "plt.tight_layout()\n",
    "viz.savefig('common_features')"
   ]
  },
  {
   "attachments": {},
   "cell_type": "markdown",
   "metadata": {
    "collapsed": false,
    "pycharm": {
     "name": "#%% md\n"
    }
   },
   "source": [
    "**Look at the renaming**"
   ]
  },
  {
   "cell_type": "code",
   "execution_count": null,
   "metadata": {
    "collapsed": false,
    "pycharm": {
     "name": "#%%\n"
    }
   },
   "outputs": [],
   "source": [
    "feats_print = sorted(set(sum(df['feature_names'], [])))\n",
    "df_print = pd.DataFrame(feats_print, columns=['Original feature'])\n",
    "df_print['Chandan rename'] = df_print['Original feature'].apply(mdcalc.rename_feature_name)\n",
    "idxs_same = df_print['Chandan rename'] == df_print['Original feature']\n",
    "df_print['Chandan rename'][idxs_same] = ''\n",
    "df_print.to_csv('../data/renaming/features.csv', index=False)"
   ]
  },
  {
   "attachments": {},
   "cell_type": "markdown",
   "metadata": {
    "collapsed": false,
    "pycharm": {
     "name": "#%% md\n"
    }
   },
   "source": [
    "### feature counts"
   ]
  },
  {
   "cell_type": "code",
   "execution_count": null,
   "metadata": {
    "collapsed": false,
    "pycharm": {
     "name": "#%%\n"
    }
   },
   "outputs": [],
   "source": [
    "# df['num_splits'] = df['feature_names'].apply(len)\n",
    "df['num_features_unique'] = df['feature_names_unique'].apply(len)\n",
    "\n",
    "plt.figure(dpi=300, facecolor='w', figsize=(6, 5))\n",
    "# plt.hist(df['num_splits'], label='Splits in CDI', bins=25)\n",
    "avg = np.mean(df['num_features_unique'])\n",
    "plt.axvline(x=avg, ls='--', color='black')\n",
    "plt.text(s=f'Mean: {avg:0.2f}', x=avg + 1, y=170, color='black')\n",
    "plt.hist(df['num_features_unique'], label='Unique features in CDI', bins=25, color='gray') #, alpha=0.8)\n",
    "plt.xlabel('Unique features in CDI')\n",
    "# plt.ylabel(f'Count of CDIs\\n(out of {df.shape[0]} CDIs)')\n",
    "plt.ylabel('CDI count')\n",
    "plt.tight_layout()\n",
    "# plt.legend()\n",
    "viz.savefig('num_rules_hist')\n",
    "# plt.show()"
   ]
  },
  {
   "cell_type": "code",
   "execution_count": null,
   "metadata": {
    "collapsed": false,
    "pycharm": {
     "name": "#%%\n"
    }
   },
   "outputs": [],
   "source": [
    "# vals, counts = np.unique(df['num_splits'], return_counts=True)\n",
    "# plt.plot(vals, np.cumsum(counts) / np.sum(counts), '.-', label='Splits in CDI')\n",
    "# val_90 = (np.cumsum(counts) / np.sum(counts)) >= 0.9\n",
    "\n",
    "# plt.show()\n",
    "vals, counts = np.unique(df['num_features_unique'], return_counts=True)\n",
    "plt.plot(vals, np.cumsum(counts) / np.sum(counts), '.-', label='Unique features in CDI')\n",
    "\n",
    "plt.xlabel('Number of unique features')\n",
    "plt.ylabel('Fraction of CDIs with\\nat most this many splits')\n",
    "plt.legend()\n",
    "viz.savefig('num_rules_cdf')\n",
    "plt.show()"
   ]
  }
 ],
 "metadata": {
  "kernelspec": {
   "display_name": "Python 3",
   "language": "python",
   "name": "python3"
  },
  "language_info": {
   "codemirror_mode": {
    "name": "ipython",
    "version": 3
   },
   "file_extension": ".py",
   "mimetype": "text/x-python",
   "name": "python",
   "nbconvert_exporter": "python",
   "pygments_lexer": "ipython3",
   "version": "3.11.4"
  }
 },
 "nbformat": 4,
 "nbformat_minor": 0
}
