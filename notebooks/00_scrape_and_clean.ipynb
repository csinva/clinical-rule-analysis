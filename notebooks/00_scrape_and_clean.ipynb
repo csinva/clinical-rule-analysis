{
 "cells": [
  {
   "cell_type": "code",
   "execution_count": 168,
   "metadata": {
    "collapsed": false,
    "pycharm": {
     "name": "#%%\n"
    }
   },
   "outputs": [
    {
     "name": "stdout",
     "output_type": "stream",
     "text": [
      "The autoreload extension is already loaded. To reload it, use:\n",
      "  %reload_ext autoreload\n"
     ]
    }
   ],
   "source": [
    "%load_ext autoreload\n",
    "%autoreload 2\n",
    "import re\n",
    "import numpy as np\n",
    "from bs4 import BeautifulSoup\n",
    "import requests\n",
    "import pandas as pd\n",
    "import json\n",
    "from tqdm import tqdm\n",
    "import os\n",
    "import matplotlib.pyplot as plt\n",
    "import mdcalc\n",
    "from mdcalc import try_or_none"
   ]
  },
  {
   "attachments": {},
   "cell_type": "markdown",
   "metadata": {
    "collapsed": false,
    "pycharm": {
     "name": "#%% md\n"
    }
   },
   "source": [
    "Last scraped on Jun 13, 2023. Output of this notebook is `../data/cdis_with_schemas_cleaned.pkl` (intermediate output is `../data/cdis_with_schemas.pkl`). Also outputs `../data/main.csv`"
   ]
  },
  {
   "attachments": {},
   "cell_type": "markdown",
   "metadata": {
    "collapsed": false,
    "pycharm": {
     "name": "#%% md\n"
    }
   },
   "source": [
    "### Read index"
   ]
  },
  {
   "cell_type": "code",
   "execution_count": 169,
   "metadata": {
    "collapsed": false,
    "pycharm": {
     "name": "#%%\n"
    }
   },
   "outputs": [],
   "source": [
    "# read index\n",
    "# url='https://www.mdcalc.com/#All'\n",
    "# req=requests.get(url)\n",
    "# content=req.text\n",
    "# with open('../data/index.html', 'w') as f:\n",
    "#     f.write(content)\n",
    "\n",
    "# extract out df\n",
    "index = open('../data/index.html', 'r').read()\n",
    "soup = BeautifulSoup(index)\n",
    "tab = pd.read_table('../data/index.html')\n",
    "scripts = soup.find_all('script')\n",
    "d = json.loads(scripts[-1].text)\n",
    "all_calcs_list = d['props']['pageProps']['allCalcs']\n",
    "df = pd.DataFrame.from_dict(all_calcs_list)\n",
    "\n",
    "# clean df\n",
    "def clean_element(x):\n",
    "    if isinstance(x, list):\n",
    "        if len(x) == 1:\n",
    "            return x[0]\n",
    "    if isinstance(x, str):\n",
    "        return x.replace('<span>', '').replace('</span>', '')\n",
    "    return x\n",
    "df = df.applymap(clean_element)\n",
    "df['url_full'] = 'https://www.mdcalc.com/calc/' + df['id'].astype(str) + '/' + df['slug']"
   ]
  },
  {
   "attachments": {},
   "cell_type": "markdown",
   "metadata": {},
   "source": [
    "### Read individual pages\n",
    "Note: this actually does the scraping and saves `.html` files. Don't run multiple times (unless cached files are present)."
   ]
  },
  {
   "cell_type": "code",
   "execution_count": null,
   "metadata": {
    "collapsed": false,
    "pycharm": {
     "name": "#%%\n"
    }
   },
   "outputs": [],
   "source": [
    "for i in tqdm(range(df.shape[0])): #df.shape[0])):\n",
    "    slug = df['slug'].iloc[i]\n",
    "    url_full = df['url_full'].iloc[i]\n",
    "    output_fname = f'../data/pages/{slug}.html'\n",
    "\n",
    "    if not os.path.exists(output_fname):\n",
    "        req = requests.get(url_full)\n",
    "        content = req.text\n",
    "        with open(output_fname, 'w') as f:\n",
    "            f.write(content)\n",
    "            print(slug, url_full)\n",
    "assert len(os.listdir('../data/pages')) == df.shape[0]"
   ]
  },
  {
   "attachments": {},
   "cell_type": "markdown",
   "metadata": {
    "collapsed": false,
    "pycharm": {
     "name": "#%% md\n"
    }
   },
   "source": [
    "### Parse individual pages\n",
    "`.html` -> `.json`"
   ]
  },
  {
   "cell_type": "code",
   "execution_count": null,
   "metadata": {},
   "outputs": [],
   "source": [
    "errors = []\n",
    "for i in tqdm(range(df.shape[0])):\n",
    "    slug = df.iloc[i].slug\n",
    "    fname = '../data/pages/' + slug + '.html'\n",
    "    fname_json = '../data/processed/' + slug + '.json'\n",
    "    if not os.path.exists(fname_json):\n",
    "        html = open(fname, 'r').read()\n",
    "        soup = BeautifulSoup(html)\n",
    "        try:\n",
    "            data = soup.find_all('script')[2]\n",
    "            s = json.loads(data.text[data.text.index('{'):])['calc']\n",
    "            with open(f'../data/processed/{slug}.json', 'w') as f:\n",
    "                json.dump(s, f)\n",
    "        except:\n",
    "            # print('failed', slug)\n",
    "            errors.append(slug)\n",
    "print('num errors', len(errors))\n",
    "df = df[df.slug.isin(errors) == False]\n",
    "print(df.shape)"
   ]
  },
  {
   "attachments": {},
   "cell_type": "markdown",
   "metadata": {},
   "source": [
    "### Merge metadata from index and individual pages"
   ]
  },
  {
   "cell_type": "code",
   "execution_count": 170,
   "metadata": {},
   "outputs": [
    {
     "name": "stderr",
     "output_type": "stream",
     "text": [
      "  0%|          | 0/692 [00:00<?, ?it/s]"
     ]
    },
    {
     "name": "stdout",
     "output_type": "stream",
     "text": [
      "282 history-electrocardiogram-manchester-acute-coronary-syndromes-macs\n"
     ]
    },
    {
     "name": "stderr",
     "output_type": "stream",
     "text": [
      "100%|██████████| 692/692 [00:00<00:00, 2095.97it/s]"
     ]
    },
    {
     "name": "stdout",
     "output_type": "stream",
     "text": [
      "392 mulbsta-score-viral-pneumonia-mortality\n"
     ]
    },
    {
     "name": "stderr",
     "output_type": "stream",
     "text": [
      "\n"
     ]
    }
   ],
   "source": [
    "# load cdis\n",
    "cdis = []\n",
    "idxs = []  # keep track of idxs for which json file was present and succesfully loaded\n",
    "for i in tqdm(range(df.shape[0])):\n",
    "    try:\n",
    "        cdis.append(\n",
    "            json.loads(open(f\"../data/processed/{df.iloc[i].slug}.json\", \"r\").read())\n",
    "        )\n",
    "        idxs.append(i)\n",
    "    except:\n",
    "        print(i, df.iloc[i].slug)\n",
    "        cdis.append(None)\n",
    "cdis = np.array(cdis)[np.array(idxs)].tolist()\n",
    "cdis = pd.DataFrame.from_dict(cdis)\n",
    "# print(\"shapes\", df.shape, cdis.shape, df.iloc[idxs].shape)\n",
    "# cdis['num_rules'] = cdis['input_schema'].apply(len)  # num rules (this includes some messiness that isn't actually a rule)"
   ]
  },
  {
   "cell_type": "code",
   "execution_count": 171,
   "metadata": {},
   "outputs": [],
   "source": [
    "# merge with df\n",
    "df_merged = (\n",
    "    df.iloc[idxs].reset_index().join(cdis, rsuffix=\"_duplicate\")\n",
    ")  # mark duplicate cols\n",
    "df_merged = df_merged.drop(\n",
    "    columns=[k for k in df_merged.columns if k.endswith(\"_duplicate\")]\n",
    ")  # drop the duplicates\n",
    "df_merged[\"input_schema\"] = cdis[\"input_schema\"].values\n",
    "\n",
    "df_merged.to_pickle(\"../data/cdis_with_schemas.pkl\")\n",
    "df_merged.to_csv(\"../data/cdis_with_schemas.csv\")"
   ]
  },
  {
   "cell_type": "markdown",
   "metadata": {},
   "source": [
    "# Clean the cdis"
   ]
  },
  {
   "cell_type": "code",
   "execution_count": 173,
   "metadata": {},
   "outputs": [],
   "source": [
    "df = pd.read_pickle(\"../data/cdis_with_schemas.pkl\")\n",
    "df = df.sort_values(by='id')"
   ]
  },
  {
   "cell_type": "code",
   "execution_count": 174,
   "metadata": {},
   "outputs": [],
   "source": [
    "@try_or_none\n",
    "def get_refs(row):\n",
    "    return row[\"content\"][\"about\"][\"references_list\"]\n",
    "\n",
    "@try_or_none\n",
    "def get_ref_original(row):\n",
    "    return row['Original/Primary Reference']\n",
    "\n",
    "@try_or_none\n",
    "def get_text(row):\n",
    "    return row[0]['text']\n",
    "\n",
    "@try_or_none\n",
    "def get_href(row):\n",
    "    return row[0]['href']\n",
    "\n",
    "@try_or_none\n",
    "def get_year_from_str(s: str):\n",
    "    # search for a 4 digit number that between 1900 and 2023\n",
    "\n",
    "    match = re.search(r'(?<!\\d)(19\\d{2}|20[01]\\d|202[0-3])(?!\\d)', s)\n",
    "    if match:\n",
    "        return int(match.group())\n",
    "    return None"
   ]
  },
  {
   "cell_type": "code",
   "execution_count": 175,
   "metadata": {},
   "outputs": [],
   "source": [
    "# clean list-valued columns\n",
    "df = mdcalc.clean_list_valued_strings(df)\n",
    "\n",
    "# add feature_names\n",
    "def get_feature_names_list(schema):\n",
    "    if isinstance(schema, list):\n",
    "        return [s[\"label_en\"] if \"label_en\" in s else \"unknown\" for s in schema]\n",
    "    else:\n",
    "        return []\n",
    "\n",
    "\n",
    "df[\"feature_names\"] = df[\"input_schema\"].apply(get_feature_names_list)\n",
    "df[\"refs\"] = df.apply(get_refs, axis=1)\n",
    "df['ref_original'] = df['refs'].apply(get_ref_original)\n",
    "df['ref_href'] = df['ref_original'].apply(get_href)\n",
    "df['ref_text'] = df['ref_original'].apply(get_text)\n",
    "df['ref_year'] = df['ref_text'].apply(get_year_from_str)\n",
    "\n",
    "df.to_pickle(\"../data/cdis_with_schemas_cleaned.pkl\")\n",
    "df.to_csv(\"../data/cdis_with_schemas_cleaned.csv\")"
   ]
  },
  {
   "cell_type": "code",
   "execution_count": 42,
   "metadata": {},
   "outputs": [
    {
     "data": {
      "text/html": [
       "<div>\n",
       "<style scoped>\n",
       "    .dataframe tbody tr th:only-of-type {\n",
       "        vertical-align: middle;\n",
       "    }\n",
       "\n",
       "    .dataframe tbody tr th {\n",
       "        vertical-align: top;\n",
       "    }\n",
       "\n",
       "    .dataframe thead th {\n",
       "        text-align: right;\n",
       "    }\n",
       "</style>\n",
       "<table border=\"1\" class=\"dataframe\">\n",
       "  <thead>\n",
       "    <tr style=\"text-align: right;\">\n",
       "      <th></th>\n",
       "      <th>id</th>\n",
       "      <th>full_title_en</th>\n",
       "      <th>short_description_en</th>\n",
       "      <th>ref_text</th>\n",
       "      <th>ref_href</th>\n",
       "      <th>ref_year</th>\n",
       "    </tr>\n",
       "  </thead>\n",
       "  <tbody>\n",
       "    <tr>\n",
       "      <th>46</th>\n",
       "      <td>19</td>\n",
       "      <td>Absolute Neutrophil Count (ANC)</td>\n",
       "      <td>Neutropenia (after chemotherapy).</td>\n",
       "      <td>Al-Gwaiz LA, Babay HH. The diagnostic value of absolute neutrophil count, band count and morphologic changes of neutrophils in predicting bacterial infections. Med Princ Pract. 2007;16(5):344–7. doi:10.1159/000104806.</td>\n",
       "      <td>https://www.ncbi.nlm.nih.gov/pubmed/17709921</td>\n",
       "      <td>2007.0</td>\n",
       "    </tr>\n",
       "    <tr>\n",
       "      <th>25</th>\n",
       "      <td>23</td>\n",
       "      <td>APGAR Score</td>\n",
       "      <td>Assesses neonates 1 &amp; 5 mins postpartum.</td>\n",
       "      <td>Apgar V. A proposal for a new method of evaluation of the newborn infant. Curr. Res. Anesth. Analg. 1953;32(4): 260–267. doi:10.1213/00000539-195301000-00041. PMID 13083014.</td>\n",
       "      <td>http://www.ncbi.nlm.nih.gov/pubmed/13083014</td>\n",
       "      <td>1953.0</td>\n",
       "    </tr>\n",
       "    <tr>\n",
       "      <th>85</th>\n",
       "      <td>25</td>\n",
       "      <td>Basal Energy Expenditure</td>\n",
       "      <td>Estimates minimum caloric requirements.</td>\n",
       "      <td>Harris J, Benedict F. A biometric study of basal metabolism in man. Washington D.C. Carnegie Institute of Washington. 1919.</td>\n",
       "      <td>None</td>\n",
       "      <td>1919.0</td>\n",
       "    </tr>\n",
       "    <tr>\n",
       "      <th>92</th>\n",
       "      <td>27</td>\n",
       "      <td>Bicarbonate Deficit</td>\n",
       "      <td>Calculates total body bicarb deficit.</td>\n",
       "      <td>Kurtz I. Acid-Base Case Studies. 2nd Ed. Trafford Publishing (2004); 68:150.</td>\n",
       "      <td></td>\n",
       "      <td>2004.0</td>\n",
       "    </tr>\n",
       "    <tr>\n",
       "      <th>98</th>\n",
       "      <td>29</td>\n",
       "      <td>Body Mass Index (BMI) and Body Surface Area (BSA)</td>\n",
       "      <td>Categorizes obesity, assists some med dosing.</td>\n",
       "      <td>Gadzik J. 'How much should I weigh?' Quetelet's equation, upper weight limits, and BMI prime.Connecticut Medicine. (2006). 70 (2): 81–8. PMID 16768059.</td>\n",
       "      <td>http://www.ncbi.nlm.nih.gov/pubmed/16768059</td>\n",
       "      <td>2006.0</td>\n",
       "    </tr>\n",
       "  </tbody>\n",
       "</table>\n",
       "</div>"
      ],
      "text/plain": [
       "    id                                      full_title_en  \\\n",
       "46  19  Absolute Neutrophil Count (ANC)                     \n",
       "25  23  APGAR Score                                         \n",
       "85  25  Basal Energy Expenditure                            \n",
       "92  27  Bicarbonate Deficit                                 \n",
       "98  29  Body Mass Index (BMI) and Body Surface Area (BSA)   \n",
       "\n",
       "                             short_description_en  \\\n",
       "46  Neutropenia (after chemotherapy).               \n",
       "25  Assesses neonates 1 & 5 mins postpartum.        \n",
       "85  Estimates minimum caloric requirements.         \n",
       "92  Calculates total body bicarb deficit.           \n",
       "98  Categorizes obesity, assists some med dosing.   \n",
       "\n",
       "                                                                                                                                                                                                                     ref_text  \\\n",
       "46  Al-Gwaiz LA, Babay HH. The diagnostic value of absolute neutrophil count, band count and morphologic changes of neutrophils in predicting bacterial infections. Med Princ Pract. 2007;16(5):344–7. doi:10.1159/000104806.   \n",
       "25   Apgar V. A proposal for a new method of evaluation of the newborn infant. Curr. Res. Anesth. Analg. 1953;32(4): 260–267. doi:10.1213/00000539-195301000-00041. PMID 13083014.                                              \n",
       "85  Harris J, Benedict F. A biometric study of basal metabolism in man. Washington D.C. Carnegie Institute of Washington. 1919.                                                                                                 \n",
       "92  Kurtz I. Acid-Base Case Studies. 2nd Ed. Trafford Publishing (2004); 68:150.                                                                                                                                                \n",
       "98  Gadzik J. 'How much should I weigh?' Quetelet's equation, upper weight limits, and BMI prime.Connecticut Medicine. (2006). 70 (2): 81–8. PMID 16768059.                                                                     \n",
       "\n",
       "                                        ref_href  ref_year  \n",
       "46  https://www.ncbi.nlm.nih.gov/pubmed/17709921  2007.0    \n",
       "25  http://www.ncbi.nlm.nih.gov/pubmed/13083014   1953.0    \n",
       "85  None                                          1919.0    \n",
       "92                                                2004.0    \n",
       "98  http://www.ncbi.nlm.nih.gov/pubmed/16768059   2006.0    "
      ]
     },
     "metadata": {},
     "output_type": "display_data"
    }
   ],
   "source": [
    "# display all columnswith no max_width\n",
    "cols = ['id', 'full_title_en', 'short_description_en', 'ref_text', 'ref_href', 'ref_year']\n",
    "with pd.option_context('display.max_rows', None, 'display.max_columns', None, 'display.max_colwidth', 0): \n",
    "    display(df[cols].head(5))\n",
    "    # display(df[df['ref_year'].min() == df['ref_year']][['ref_text', 'ref_href']])\n",
    "df[cols].to_csv('../data/main.csv', index=False)"
   ]
  }
 ],
 "metadata": {
  "kernelspec": {
   "display_name": "Python 3",
   "language": "python",
   "name": "python3"
  },
  "language_info": {
   "codemirror_mode": {
    "name": "ipython",
    "version": 3
   },
   "file_extension": ".py",
   "mimetype": "text/x-python",
   "name": "python",
   "nbconvert_exporter": "python",
   "pygments_lexer": "ipython3",
   "version": "3.11.4"
  }
 },
 "nbformat": 4,
 "nbformat_minor": 0
}
