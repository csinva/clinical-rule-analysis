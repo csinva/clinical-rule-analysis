{
 "cells": [
  {
   "cell_type": "code",
   "execution_count": null,
   "metadata": {
    "collapsed": false,
    "pycharm": {
     "name": "#%%\n"
    }
   },
   "outputs": [],
   "source": [
    "import os\n",
    "\n",
    "import dvu\n",
    "import matplotlib.pyplot as plt\n",
    "import numpy as np\n",
    "import pandas as pd\n",
    "import seaborn as sns\n",
    "\n",
    "import viz\n",
    "\n",
    "# plt.style.use('default')\n",
    "dvu.set_style()\n",
    "df = pd.read_pickle('../data/cdis_with_schemas_cleaned.pkl')"
   ]
  },
  {
   "cell_type": "code",
   "execution_count": null,
   "metadata": {
    "collapsed": false,
    "pycharm": {
     "name": "#%%\n"
    }
   },
   "outputs": [],
   "source": [
    "METADATA_DICT = {\n",
    "    \"disease_en\": \"addressing this disease\",\n",
    "    \"system_en\": \"addressing this system\",\n",
    "    \"purpose_en\": \"with this purpose\",\n",
    "    \"chief_complaint_en\": \"addressing this chief complaint\",\n",
    "    \"specialty_en\": \"with this specialty\",\n",
    "}\n",
    "\n",
    "for col in METADATA_DICT:\n",
    "    all_vals = sum(df[col], [])\n",
    "    all_vals = [x for x in all_vals if x and not x == \"Any/All\"]  # remove empty strings\n",
    "    val_counts = pd.Series(all_vals).value_counts()\n",
    "\n",
    "    if col == \"purpose_en\":\n",
    "        plt.figure(figsize=(4, 4), dpi=300, facecolor=\"w\")\n",
    "    else:\n",
    "        plt.figure(figsize=(10, 12), dpi=300, facecolor=\"w\")\n",
    "    N = 60\n",
    "    # plt.grid()\n",
    "    ax = sns.barplot(y=val_counts.index[:N], x=val_counts.values[:N], orient=\"h\")\n",
    "    ax.bar_label(ax.containers[0])\n",
    "\n",
    "    plt.xlabel(f\"Number of CDIs {METADATA_DICT[col]}\\n(Out of {df.shape[0]} CDIs)\")\n",
    "    plt.tight_layout()\n",
    "    viz.savefig(col)\n",
    "    plt.close()"
   ]
  },
  {
   "cell_type": "code",
   "execution_count": null,
   "metadata": {},
   "outputs": [],
   "source": [
    "plt.hist(df['ref_year'], bins=80)\n",
    "plt.xlabel('Year of primary reference')\n",
    "plt.ylabel('Count')\n",
    "plt.tight_layout()\n",
    "viz.savefig('ref_year')\n",
    "plt.show()"
   ]
  },
  {
   "attachments": {},
   "cell_type": "markdown",
   "metadata": {
    "collapsed": false,
    "pycharm": {
     "name": "#%% md\n"
    }
   },
   "source": [
    "### output for renaming"
   ]
  },
  {
   "cell_type": "code",
   "execution_count": null,
   "metadata": {
    "collapsed": false,
    "pycharm": {
     "name": "#%%\n"
    }
   },
   "outputs": [],
   "source": [
    "for col in METADATA_DICT.keys():\n",
    "    all_vals = sum(df[col], [])\n",
    "    all_vals = [x for x in all_vals\n",
    "                if x  # remove empty strings\n",
    "                and not x == 'Any/All'\n",
    "                ]\n",
    "    os.makedirs('../data/renaming', exist_ok=True)\n",
    "    print(f'../data/renaming/{col}.csv')\n",
    "    np.savetxt(f'../data/renaming/{col}.csv',\n",
    "               np.unique(all_vals), delimiter=',', fmt='%s')"
   ]
  }
 ],
 "metadata": {
  "kernelspec": {
   "display_name": "Python 3",
   "language": "python",
   "name": "python3"
  },
  "language_info": {
   "codemirror_mode": {
    "name": "ipython",
    "version": 3
   },
   "file_extension": ".py",
   "mimetype": "text/x-python",
   "name": "python",
   "nbconvert_exporter": "python",
   "pygments_lexer": "ipython3",
   "version": "3.11.3"
  }
 },
 "nbformat": 4,
 "nbformat_minor": 0
}
