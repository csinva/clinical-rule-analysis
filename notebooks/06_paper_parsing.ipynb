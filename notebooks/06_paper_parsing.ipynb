{
 "cells": [
  {
   "cell_type": "code",
   "execution_count": null,
   "metadata": {
    "collapsed": false,
    "pycharm": {
     "name": "#%%\n"
    }
   },
   "outputs": [],
   "source": [
    "%load_ext autoreload\n",
    "%autoreload 2\n",
    "from collections import defaultdict\n",
    "import pandas as pd\n",
    "import imodelsx.llm\n",
    "import numpy as np\n",
    "import paper_parsing\n",
    "import prompts\n",
    "import openai\n",
    "openai.api_key = open('/home/chansingh/.OPENAI_KEY').read().strip()"
   ]
  },
  {
   "cell_type": "markdown",
   "metadata": {},
   "source": [
    "### Load papers and extract text"
   ]
  },
  {
   "cell_type": "code",
   "execution_count": null,
   "metadata": {},
   "outputs": [],
   "source": [
    "# pubmed.download_open_source_papers(df) \n",
    "# need to first download papers from https://drive.google.com/drive/folders/1OUXtsddxEAOl3tKEZegBQSwArUecb-6J into ../papers\n",
    "df, ids_with_paper = paper_parsing.download_gsheet()"
   ]
  },
  {
   "attachments": {},
   "cell_type": "markdown",
   "metadata": {},
   "source": [
    "### Extract info from the text -- add values to the following columns:\n",
    "- num_male, num_female, num_total, num_male_evidence_span, num_female_evidence_span, num_total_evidence_span\n",
    "- num_white, num_black, num_latino, num_asian, race_evidence_span"
   ]
  },
  {
   "cell_type": "code",
   "execution_count": null,
   "metadata": {},
   "outputs": [],
   "source": [
    "# extract text from pdfs (create file num.txt for each file num.pdf)\n",
    "paper_parsing.extract_texts_from_pdf(ids_with_paper, papers_dir='../papers')\n",
    "\n",
    "# get prompt\n",
    "llm = imodelsx.llm.get_llm(\"gpt-4-0613\") # gpt-3.5-turbo-0613\n",
    "imodelsx.llm.LLM_CONFIG['LLM_REPEAT_DELAY'] = 10\n",
    "\n",
    "# properties, functions, content_str = prompts.get_prompts_gender_and_race()\n",
    "# print('attempting to add', properties.keys())\n",
    "# paper_parsing.add_columns_based_on_properties(df, ids_with_paper, properties, functions, content_str, llm)\n",
    "\n",
    "properties, functions, content_str = prompts.get_prompts_gender()\n",
    "print('attempting to add', properties.keys())\n",
    "paper_parsing.add_columns_based_on_properties(df, ids_with_paper, properties, functions, content_str, llm)\n",
    "\n",
    "properties, functions, content_str = prompts.get_prompts_demographics()\n",
    "print('attempting to add', properties.keys())\n",
    "paper_parsing.add_columns_based_on_properties(df, ids_with_paper, properties, functions, content_str, llm)"
   ]
  },
  {
   "cell_type": "markdown",
   "metadata": {},
   "source": [
    "### Evaluate\n",
    "Evaluates whether each extracted number is within 1 of the human-labeled value"
   ]
  },
  {
   "cell_type": "code",
   "execution_count": null,
   "metadata": {},
   "outputs": [],
   "source": [
    "d = defaultdict(list)\n",
    "print('total n', len(ids_with_paper))\n",
    "for k in df.columns:\n",
    "    if k.startswith('num_') and k + '_corrected' in df.columns:\n",
    "        idxs_with_labels = (df[k + '_corrected'].notnull() & ~(df[k + '_corrected'] == 'Unk'))\n",
    "        gt = df[k + '_corrected'][idxs_with_labels].astype(int)\n",
    "        pred = df[k].apply(paper_parsing.cast_int)[idxs_with_labels].astype(int)\n",
    "        acc = (np.abs(gt -pred) <= 1).mean()\n",
    "        d['target'].append(k)\n",
    "        d['acc'].append(acc)\n",
    "        d['n_labeled'].append(len(gt))\n",
    "d = pd.DataFrame.from_dict(d).round(2)\n",
    "d"
   ]
  },
  {
   "cell_type": "code",
   "execution_count": null,
   "metadata": {},
   "outputs": [],
   "source": [
    "df.to_csv('../data/main.csv', index=False)"
   ]
  }
 ],
 "metadata": {
  "kernelspec": {
   "display_name": "Python 3",
   "language": "python",
   "name": "python3"
  },
  "language_info": {
   "codemirror_mode": {
    "name": "ipython",
    "version": 3
   },
   "file_extension": ".py",
   "mimetype": "text/x-python",
   "name": "python",
   "nbconvert_exporter": "python",
   "pygments_lexer": "ipython3",
   "version": "3.11.4"
  }
 },
 "nbformat": 4,
 "nbformat_minor": 0
}
