{
 "cells": [
  {
   "cell_type": "code",
   "execution_count": 28,
   "metadata": {
    "collapsed": false,
    "pycharm": {
     "name": "#%%\n"
    }
   },
   "outputs": [
    {
     "name": "stdout",
     "output_type": "stream",
     "text": [
      "The autoreload extension is already loaded. To reload it, use:\n",
      "  %reload_ext autoreload\n"
     ]
    }
   ],
   "source": [
    "%load_ext autoreload\n",
    "%autoreload 2\n",
    "from collections import defaultdict\n",
    "import pandas as pd\n",
    "import imodelsx.llm\n",
    "import numpy as np\n",
    "import paper_parsing\n",
    "import prompts\n",
    "import openai\n",
    "import eval\n",
    "openai.api_key = open('/home/chansingh/.OPENAI_KEY').read().strip()\n",
    "imodelsx.llm.LLM_CONFIG['LLM_REPEAT_DELAY'] = 10"
   ]
  },
  {
   "cell_type": "markdown",
   "metadata": {},
   "source": [
    "### Load df with groundtruth values and paper ids"
   ]
  },
  {
   "cell_type": "code",
   "execution_count": null,
   "metadata": {},
   "outputs": [],
   "source": [
    "# pubmed.download_open_source_papers(df) \n",
    "# need to first download papers from https://drive.google.com/drive/folders/1OUXtsddxEAOl3tKEZegBQSwArUecb-6J into ../papers\n",
    "df, ids_with_paper = paper_parsing.download_gsheet()"
   ]
  },
  {
   "attachments": {},
   "cell_type": "markdown",
   "metadata": {},
   "source": [
    "### Extract info from the odfs -- add values to the following columns:\n",
    "- num_male, num_female, num_total, num_male_evidence_span, num_female_evidence_span, num_total_evidence_span\n",
    "- num_white, num_black, num_latino, num_asian, race_evidence_span"
   ]
  },
  {
   "cell_type": "code",
   "execution_count": null,
   "metadata": {},
   "outputs": [],
   "source": [
    "# extract text from pdfs (create file num.txt for each file num.pdf)\n",
    "paper_parsing.extract_texts_from_pdf(ids_with_paper, papers_dir=paper_parsing.papers_dir)\n",
    "\n",
    "# get prompt\n",
    "llm = imodelsx.llm.get_llm(\"gpt-4-0613\") # gpt-3.5-turbo-0613\n",
    "\n",
    "# properties, functions, content_str = prompts.get_prompts_gender_and_race()\n",
    "# print('attempting to add', properties.keys())\n",
    "# paper_parsing.add_columns_based_on_properties(df, ids_with_paper, properties, functions, content_str, llm)\n",
    "\n",
    "properties, functions, content_str = prompts.get_prompts_gender()\n",
    "print('attempting to add', properties.keys())\n",
    "paper_parsing.add_columns_based_on_properties(df, ids_with_paper, properties, functions, content_str, llm)\n",
    "\n",
    "properties, functions, content_str = prompts.get_prompts_race()\n",
    "print('attempting to add', properties.keys())\n",
    "paper_parsing.add_columns_based_on_properties(df, ids_with_paper, properties, functions, content_str, llm)"
   ]
  },
  {
   "cell_type": "code",
   "execution_count": 22,
   "metadata": {},
   "outputs": [
    {
     "data": {
      "text/plain": [
       "array([nan, None, '136', '0', '5345', 'Not mentioned', 'Not specified',\n",
       "       '92.3', '26003', '348', '662', '248', '80.6%', '2747', '78%',\n",
       "       'Not provided', 'NA', '33', '87', '27,627', '241', '6655', '778',\n",
       "       '73 796', '331', '57.4%', '1731', '83', '89.4', '1236', '89.3%',\n",
       "       'Unknown', '26300', '42%', '513', '71.7', '1429'], dtype=object)"
      ]
     },
     "execution_count": 22,
     "metadata": {},
     "output_type": "execute_result"
    }
   ],
   "source": [
    "df['num_white'].unique()"
   ]
  },
  {
   "cell_type": "markdown",
   "metadata": {},
   "source": [
    "### Evaluate\n",
    "Evaluates whether each extracted number is within 1 of the human-labeled value"
   ]
  },
  {
   "cell_type": "code",
   "execution_count": 32,
   "metadata": {},
   "outputs": [
    {
     "name": "stdout",
     "output_type": "stream",
     "text": [
      "found perc\n",
      "found perc\n",
      "found perc\n",
      "found perc\n",
      "found perc\n",
      "found perc\n",
      "found perc\n",
      "found perc\n",
      "found perc\n",
      "found perc\n",
      "found perc\n",
      "found perc\n",
      "found perc\n",
      "found perc\n",
      "found perc\n",
      "found perc\n",
      "found perc\n",
      "found perc\n",
      "found perc\n",
      "found perc\n"
     ]
    },
    {
     "data": {
      "text/plain": [
       "0          (55, 50)\n",
       "1      (None, None)\n",
       "2        (136, 103)\n",
       "3      (None, None)\n",
       "4        (365, 346)\n",
       "           ...     \n",
       "685      (nan, nan)\n",
       "686      (nan, nan)\n",
       "687      (nan, nan)\n",
       "688    (2868, 1904)\n",
       "689      (nan, nan)\n",
       "Length: 690, dtype: object"
      ]
     },
     "execution_count": 32,
     "metadata": {},
     "output_type": "execute_result"
    }
   ],
   "source": [
    "# # process counts (convert percentages to nums if conditions are correct)\n",
    "# def process_gender_counts(row):\n",
    "#     m = row['num_male']\n",
    "#     f = row['num_female']\n",
    "#     tot = row['num_total']\n",
    "#     if eval.str_contains_number(m) and eval.str_is_percentage(m) \\\n",
    "#     and eval.str_contains_number(f) and eval.str_is_percentage(f):\n",
    "#         m = eval.percentage_to_num(m)\n",
    "#         f = eval.percentage_to_num(f)\n",
    "#         if (m + f - 100) < 0.1:\n",
    "#             print('found perc')\n",
    "#     return m, f\n",
    "\n",
    "# df.apply(process_gender_counts, axis=1)"
   ]
  },
  {
   "cell_type": "code",
   "execution_count": 30,
   "metadata": {},
   "outputs": [
    {
     "name": "stdout",
     "output_type": "stream",
     "text": [
      "total n 184\n"
     ]
    },
    {
     "data": {
      "text/html": [
       "<div>\n",
       "<style scoped>\n",
       "    .dataframe tbody tr th:only-of-type {\n",
       "        vertical-align: middle;\n",
       "    }\n",
       "\n",
       "    .dataframe tbody tr th {\n",
       "        vertical-align: top;\n",
       "    }\n",
       "\n",
       "    .dataframe thead th {\n",
       "        text-align: right;\n",
       "    }\n",
       "</style>\n",
       "<table border=\"1\" class=\"dataframe\">\n",
       "  <thead>\n",
       "    <tr style=\"text-align: right;\">\n",
       "      <th></th>\n",
       "      <th>target</th>\n",
       "      <th>recall</th>\n",
       "      <th>n_labeled</th>\n",
       "      <th>n_predicted_num</th>\n",
       "    </tr>\n",
       "  </thead>\n",
       "  <tbody>\n",
       "    <tr>\n",
       "      <th>0</th>\n",
       "      <td>num_male</td>\n",
       "      <td>49</td>\n",
       "      <td>69</td>\n",
       "      <td>101</td>\n",
       "    </tr>\n",
       "    <tr>\n",
       "      <th>1</th>\n",
       "      <td>num_female</td>\n",
       "      <td>49</td>\n",
       "      <td>69</td>\n",
       "      <td>101</td>\n",
       "    </tr>\n",
       "    <tr>\n",
       "      <th>2</th>\n",
       "      <td>num_total</td>\n",
       "      <td>52</td>\n",
       "      <td>69</td>\n",
       "      <td>146</td>\n",
       "    </tr>\n",
       "    <tr>\n",
       "      <th>3</th>\n",
       "      <td>num_white</td>\n",
       "      <td>0</td>\n",
       "      <td>0</td>\n",
       "      <td>47</td>\n",
       "    </tr>\n",
       "    <tr>\n",
       "      <th>4</th>\n",
       "      <td>num_black</td>\n",
       "      <td>0</td>\n",
       "      <td>0</td>\n",
       "      <td>44</td>\n",
       "    </tr>\n",
       "    <tr>\n",
       "      <th>5</th>\n",
       "      <td>num_latino</td>\n",
       "      <td>0</td>\n",
       "      <td>0</td>\n",
       "      <td>33</td>\n",
       "    </tr>\n",
       "    <tr>\n",
       "      <th>6</th>\n",
       "      <td>num_asian</td>\n",
       "      <td>0</td>\n",
       "      <td>0</td>\n",
       "      <td>28</td>\n",
       "    </tr>\n",
       "  </tbody>\n",
       "</table>\n",
       "</div>"
      ],
      "text/plain": [
       "       target  recall  n_labeled  n_predicted_num\n",
       "0    num_male      49         69              101\n",
       "1  num_female      49         69              101\n",
       "2   num_total      52         69              146\n",
       "3   num_white       0          0               47\n",
       "4   num_black       0          0               44\n",
       "5  num_latino       0          0               33\n",
       "6   num_asian       0          0               28"
      ]
     },
     "execution_count": 30,
     "metadata": {},
     "output_type": "execute_result"
    }
   ],
   "source": [
    "d = defaultdict(list)\n",
    "print('total n', len(ids_with_paper))\n",
    "for k in df.columns:\n",
    "    if k.startswith('num_') and k + '_corrected' in df.columns:\n",
    "        idxs_with_labels = (df[k + '_corrected'].notnull() & ~(df[k + '_corrected'] == 'Unk'))\n",
    "        gt = df[k + '_corrected'][idxs_with_labels].astype(int)\n",
    "        pred = df[k].apply(eval.cast_int)[idxs_with_labels].astype(int)\n",
    "        recall = (np.abs(gt -pred) <= 1).sum()\n",
    "        d['target'].append(k)\n",
    "        d['recall'].append(recall)\n",
    "        d['n_labeled'].append(len(gt))\n",
    "        # d['n_predicted'].append(df[k].notnull().sum())\n",
    "        # count number of values which contain a number\n",
    "        d['n_predicted_num'].append(df[k].apply(eval.str_contains_number).sum())\n",
    "d = pd.DataFrame.from_dict(d).round(2)\n",
    "d"
   ]
  },
  {
   "cell_type": "code",
   "execution_count": null,
   "metadata": {},
   "outputs": [],
   "source": [
    "df.to_csv('../data/main.csv', index=False)"
   ]
  }
 ],
 "metadata": {
  "kernelspec": {
   "display_name": "Python 3",
   "language": "python",
   "name": "python3"
  },
  "language_info": {
   "codemirror_mode": {
    "name": "ipython",
    "version": 3
   },
   "file_extension": ".py",
   "mimetype": "text/x-python",
   "name": "python",
   "nbconvert_exporter": "python",
   "pygments_lexer": "ipython3",
   "version": "3.11.4"
  }
 },
 "nbformat": 4,
 "nbformat_minor": 0
}
