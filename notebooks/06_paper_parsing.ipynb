{
 "cells": [
  {
   "cell_type": "code",
   "execution_count": null,
   "metadata": {
    "collapsed": false,
    "pycharm": {
     "name": "#%%\n"
    }
   },
   "outputs": [],
   "source": [
    "%load_ext autoreload\n",
    "%autoreload 2\n",
    "\n",
    "from collections import defaultdict\n",
    "\n",
    "import dvu\n",
    "import matplotlib.pyplot as plt\n",
    "import pandas as pd\n",
    "from os.path import join\n",
    "import os.path\n",
    "from tqdm import tqdm\n",
    "import pathlib\n",
    "import imodelsx.llm\n",
    "import json\n",
    "import requests\n",
    "import numpy as np\n",
    "import openai\n",
    "import pubmed\n",
    "import paper_parsing\n",
    "import prompts\n",
    "openai.api_key = open('/home/chansingh/.OPENAI_KEY').read().strip()\n",
    "plt.style.use('default')\n",
    "dvu.set_style()\n",
    "\n",
    "df = pd.read_csv('../data/main.csv')\n",
    "df[\"ref_href\"] = pubmed.get_updated_refs(df)\n",
    "# pubmed.download_open_source_papers(df)\n",
    "\n",
    "# check that found papers are present\n",
    "ids_with_paper = df[df[\"found_paper (0=no, 1=yes)\"] > 0].id.astype(int).values\n",
    "ids_found = sorted(\n",
    "    [int(x.replace(\".pdf\", \"\")) for x in os.listdir(\"../papers\") if x.endswith(\".pdf\")]\n",
    ")\n",
    "df = paper_parsing.check_papers(df, ids_with_paper, ids_found)\n",
    "\n",
    "# extract text from pdfs\n",
    "paper_parsing.extract_texts_from_pdf(ids_with_paper)"
   ]
  },
  {
   "attachments": {},
   "cell_type": "markdown",
   "metadata": {},
   "source": [
    "### Ask questions about the text"
   ]
  },
  {
   "cell_type": "code",
   "execution_count": null,
   "metadata": {},
   "outputs": [],
   "source": [
    "# llm = imodelsx.llm.get_llm(\"gpt-3.5-turbo-0613\")\n",
    "llm = imodelsx.llm.get_llm(\"gpt-4-0613\")\n",
    "# llm = imodelsx.llm.get_llm(\"gpt-4-32k-0613\")\n",
    "\n",
    "# properties, functions, content_str = prompts.get_prompts_demographics()\n",
    "properties, functions, content_str = prompts.get_prompts_gender()\n",
    "messages = [\n",
    "    {\n",
    "        \"role\": \"user\",\n",
    "        \"content\": content_str,\n",
    "    }\n",
    "]"
   ]
  },
  {
   "cell_type": "code",
   "execution_count": null,
   "metadata": {},
   "outputs": [],
   "source": [
    "# initialize\n",
    "for k in properties.keys():\n",
    "    if not k in df.columns:\n",
    "        df.loc[:, k] = None\n",
    "\n",
    "# run loop\n",
    "for id in tqdm(ids_with_paper):\n",
    "    i = df[df.id == id].index[0]\n",
    "    row = df.iloc[i]\n",
    "    paper_file = join(\"../papers\", str(int(row.id)) + \".txt\")\n",
    "\n",
    "    try:\n",
    "        real_input = pathlib.Path(paper_file).read_text()\n",
    "        args = paper_parsing.call_on_subsets(real_input)\n",
    "\n",
    "        # print(json.dumps(args, indent=2))\n",
    "        if args is not None:\n",
    "            for k in properties.keys():\n",
    "                if k in args:\n",
    "                    df.loc[i, k] = paper_parsing.rename_to_none(args[k])\n",
    "\n",
    "                    # remove spans if they are not actually contained in the text\n",
    "                    if k in [\"num_male_evidence_span\", \"num_female_evidence_span\"]:\n",
    "                        if not paper_parsing.check_evidence(args[k], real_input):\n",
    "                            df.loc[i, k] = None\n",
    "    except Exception as e:\n",
    "        print(row.id, e)\n",
    "print(\"completed!\")"
   ]
  },
  {
   "cell_type": "code",
   "execution_count": null,
   "metadata": {},
   "outputs": [],
   "source": [
    "for k in ['num_male', 'num_female']:\n",
    "    idxs = (df[k + '_corrected'].notnull() & ~(df[k + '_corrected'] == 'Unk'))\n",
    "    gt = df[k + '_corrected'][idxs].astype(int)\n",
    "    pred = df[k].apply(cast_int)[idxs].astype(int)\n",
    "    acc = (gt == pred).mean()\n",
    "    print(f'{k} acc={acc:0.2f} n={len(gt)}')"
   ]
  },
  {
   "cell_type": "code",
   "execution_count": null,
   "metadata": {},
   "outputs": [],
   "source": [
    "df.to_csv('../data/main.csv', index=False)"
   ]
  },
  {
   "attachments": {},
   "cell_type": "markdown",
   "metadata": {},
   "source": [
    "# Look at gender ratios"
   ]
  },
  {
   "cell_type": "code",
   "execution_count": null,
   "metadata": {},
   "outputs": [],
   "source": [
    "idxs = (df['num_male_corrected'].notnull() & ~(df['num_male_corrected'] == 'Unk')) & (df['num_female_corrected'].notnull() & ~(df['num_female_corrected'] == 'Unk'))\n",
    "male = df['num_male_corrected'][idxs].astype(int)\n",
    "female = df['num_female_corrected'][idxs].astype(int)"
   ]
  },
  {
   "cell_type": "code",
   "execution_count": null,
   "metadata": {},
   "outputs": [],
   "source": [
    "ratios = (male / female).values\n",
    "# drop inf\n",
    "print(sorted(ratios))"
   ]
  },
  {
   "cell_type": "code",
   "execution_count": null,
   "metadata": {},
   "outputs": [],
   "source": [
    "plt.figure(figsize=(4, 2), dpi=300)\n",
    "r = ratios[~np.isinf(ratios)]\n",
    "logr = np.log10(r)\n",
    "print('mean', r.mean(), 'frac>0', (r > 1).sum(), '/', len(r), 'excluding', len(ratios) - len(r), 'all-men studies')\n",
    "plt.hist(logr[logr < 0], color='pink') #, bins=100)\n",
    "plt.hist(logr[logr >= 0], color='C0') #, bins=100)\n",
    "plt.axvline(0, color='black', ls='--')\n",
    "ticks = plt.xticks()[0]\n",
    "plt.xticks(ticks, [f'$10^{{{t}}}$' for t in ticks])\n",
    "plt.xlabel('Ratio (male / female)')\n",
    "plt.ylabel('Count')\n",
    "plt.show()"
   ]
  },
  {
   "cell_type": "code",
   "execution_count": null,
   "metadata": {},
   "outputs": [],
   "source": []
  }
 ],
 "metadata": {
  "kernelspec": {
   "display_name": "Python 3",
   "language": "python",
   "name": "python3"
  },
  "language_info": {
   "codemirror_mode": {
    "name": "ipython",
    "version": 3
   },
   "file_extension": ".py",
   "mimetype": "text/x-python",
   "name": "python",
   "nbconvert_exporter": "python",
   "pygments_lexer": "ipython3",
   "version": "3.11.4"
  }
 },
 "nbformat": 4,
 "nbformat_minor": 0
}
