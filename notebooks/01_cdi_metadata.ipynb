{
 "cells": [
  {
   "cell_type": "code",
   "execution_count": 1,
   "outputs": [],
   "source": [
    "from functools import partial\n",
    "\n",
    "import seaborn as sns\n",
    "import matplotlib.pyplot as plt\n",
    "import numpy as np\n",
    "import pandas as pd\n",
    "import dvu\n",
    "import viz\n",
    "\n",
    "plt.style.use('default')\n",
    "dvu.set_style()\n",
    "# df = pd.read_csv('data/cdis_with_schemas.csv')\n",
    "df = pd.read_pickle('../data/cdis_with_schemas.pkl')"
   ],
   "metadata": {
    "collapsed": false,
    "pycharm": {
     "name": "#%%\n"
    }
   }
  },
  {
   "cell_type": "code",
   "execution_count": 2,
   "outputs": [
    {
     "data": {
      "text/plain": "                               medium_description_en  \\\n0              Diagnoses delirium in older patients.   \n1           Rules out PE based on clinical criteria.   \n2  Predicts in-hospital mortality in patients adm...   \n3  Differentiates patients with HIT from those wi...   \n4  Calculates reference values for distance walke...   \n\n                                                 url  \\\n0                         4-test-delirium-assessment   \n1  4-level-pulmonary-embolism-clinical-probabilit...   \n2                        4c-mortality-score-covid-19   \n3         4ts-score-heparin-induced-thrombocytopenia   \n4                             6-minute-walk-distance   \n\n                                       full_title_en  \\\n0                  4 A’s Test for Delirium Screening   \n1  4-Level Pulmonary Embolism Clinical Probabilit...   \n2                    4C Mortality Score for COVID-19   \n3     4Ts Score for Heparin-Induced Thrombocytopenia   \n4                             6 Minute Walk Distance   \n\n                              expert_name                   short_title_en  \\\n0                                      []                              4AT   \n1                                      []               4PEPS Score for PE   \n2  [Miguel Reyes, MD , Arsalan Shawl, DO]  4C Mortality Score for COVID-19   \n3                      [Calvin Hwang, MD]                      4Ts for HIT   \n4                                      []           6 Minute Walk Distance   \n\n                       short_description_en  \\\n0                       Delirium screening.   \n1                             Rules out PE.   \n2           In-hospital COVID-19 mortality.   \n3  HIT vs other causes of thrombocytopenia.   \n4                        Functional status.   \n\n                                          disease_en  \\\n0                               [Delirium, Dementia]   \n1       [Deep Venous Thrombosis, Pulmonary Embolism]   \n2                            [COVID-19, Coronavirus]   \n3            [Bleeding/Hemorrhage, Thrombocytopenia]   \n4  [CHF, Chronic Pain, Congestive Heart Failure, ...   \n\n                   system_en  \\\n0  [Neurologic, Psychiatric]   \n1     [Cardiac, Respiratory]   \n2              [Respiratory]   \n3              [Hematologic]   \n4                  [Any/All]   \n\n                              search_abbreviation_en             purpose_en  \\\n0  [4at, 4 As Test, 4as test, delirium screening,...            [Diagnosis]   \n1  [4-Level Pulmonary Embolism Clinical Probabili...  [Diagnosis, Rule Out]   \n2  [4C Mortality Score for COVID-19, 4C, 4C morta...            [Prognosis]   \n3                                         [plt, HIT]            [Diagnosis]   \n4     [6MWD, walking, six minute, functional status]              [Formula]   \n\n   ...                                       input_schema  \\\n0  ...  [{'optional': False, 'default': 0, 'show_point...   \n1  ...  [{'label_en': 'Age', 'conditionality': '', 'de...   \n2  ...  [{'type': 'radio', 'label_en': 'Age, years ', ...   \n3  ...  [{'default': 2, 'label_en': 'Thrombocytopenia'...   \n4  ...  [{'type': 'toggle', 'label_en': 'Sex', 'name':...   \n\n                                             content  cmeReleaseDate dosing  \\\n0  {'reviewer': {'expert_name': []}, 'related_res...            None  False   \n1  {'how_to_use': {'use_case_en': '<p>Do you use ...            None  False   \n2  {'how_to_use': {'use_case_en': '<p>Apply to ri...            None  False   \n3  {'about': {'evidence_based_medicine_en': '', '...             NaN  False   \n4  {'how_to_use': {'use_case_en': '', 'pearls_pit...             NaN  False   \n\n                                                 seo  \\\n0  {'meta_description_en': 'The 4 A’s Test for De...   \n1  {'meta_description_en': 'The 4-Level Pulmonary...   \n2  {'meta_description_en': 'The 4C Mortality Scor...   \n3  {'meta_description_en': 'The 4Ts Score is a cl...   \n4  {'meta_description_en': 'The 6 Minute Walk Dis...   \n\n                                md5  \\\n0  24ae261c87f41784ca0beae2147dda0a   \n1                                     \n2                                     \n3  0483d560043c355df74af2ff2c3337b7   \n4  9e1022e778dabfcc554ce1042961b6b2   \n\n                                       related_calcs created_at updated_at  \\\n0  [{'calcId': 3995, 'short_title_en': 'AMT-4', '...        NaN        NaN   \n1  [{'calcId': 1750, 'short_title_en': 'Geneva Sc...        NaN        NaN   \n2  [{'calcId': 10279, 'short_title_en': 'MuLBSTA ...        NaN        NaN   \n3  [{'calcId': 1789, 'short_title_en': 'HIT Exper...        NaN        NaN   \n4  [{'calcId': 10161, 'short_title_en': 'COPD Ass...        NaN        NaN   \n\n  num_rules  \n0       4.0  \n1      12.0  \n2      10.0  \n3       4.0  \n4       5.0  \n\n[5 rows x 33 columns]",
      "text/html": "<div>\n<style scoped>\n    .dataframe tbody tr th:only-of-type {\n        vertical-align: middle;\n    }\n\n    .dataframe tbody tr th {\n        vertical-align: top;\n    }\n\n    .dataframe thead th {\n        text-align: right;\n    }\n</style>\n<table border=\"1\" class=\"dataframe\">\n  <thead>\n    <tr style=\"text-align: right;\">\n      <th></th>\n      <th>medium_description_en</th>\n      <th>url</th>\n      <th>full_title_en</th>\n      <th>expert_name</th>\n      <th>short_title_en</th>\n      <th>short_description_en</th>\n      <th>disease_en</th>\n      <th>system_en</th>\n      <th>search_abbreviation_en</th>\n      <th>purpose_en</th>\n      <th>...</th>\n      <th>input_schema</th>\n      <th>content</th>\n      <th>cmeReleaseDate</th>\n      <th>dosing</th>\n      <th>seo</th>\n      <th>md5</th>\n      <th>related_calcs</th>\n      <th>created_at</th>\n      <th>updated_at</th>\n      <th>num_rules</th>\n    </tr>\n  </thead>\n  <tbody>\n    <tr>\n      <th>0</th>\n      <td>Diagnoses delirium in older patients.</td>\n      <td>4-test-delirium-assessment</td>\n      <td>4 A’s Test for Delirium Screening</td>\n      <td>[]</td>\n      <td>4AT</td>\n      <td>Delirium screening.</td>\n      <td>[Delirium, Dementia]</td>\n      <td>[Neurologic, Psychiatric]</td>\n      <td>[4at, 4 As Test, 4as test, delirium screening,...</td>\n      <td>[Diagnosis]</td>\n      <td>...</td>\n      <td>[{'optional': False, 'default': 0, 'show_point...</td>\n      <td>{'reviewer': {'expert_name': []}, 'related_res...</td>\n      <td>None</td>\n      <td>False</td>\n      <td>{'meta_description_en': 'The 4 A’s Test for De...</td>\n      <td>24ae261c87f41784ca0beae2147dda0a</td>\n      <td>[{'calcId': 3995, 'short_title_en': 'AMT-4', '...</td>\n      <td>NaN</td>\n      <td>NaN</td>\n      <td>4.0</td>\n    </tr>\n    <tr>\n      <th>1</th>\n      <td>Rules out PE based on clinical criteria.</td>\n      <td>4-level-pulmonary-embolism-clinical-probabilit...</td>\n      <td>4-Level Pulmonary Embolism Clinical Probabilit...</td>\n      <td>[]</td>\n      <td>4PEPS Score for PE</td>\n      <td>Rules out PE.</td>\n      <td>[Deep Venous Thrombosis, Pulmonary Embolism]</td>\n      <td>[Cardiac, Respiratory]</td>\n      <td>[4-Level Pulmonary Embolism Clinical Probabili...</td>\n      <td>[Diagnosis, Rule Out]</td>\n      <td>...</td>\n      <td>[{'label_en': 'Age', 'conditionality': '', 'de...</td>\n      <td>{'how_to_use': {'use_case_en': '&lt;p&gt;Do you use ...</td>\n      <td>None</td>\n      <td>False</td>\n      <td>{'meta_description_en': 'The 4-Level Pulmonary...</td>\n      <td></td>\n      <td>[{'calcId': 1750, 'short_title_en': 'Geneva Sc...</td>\n      <td>NaN</td>\n      <td>NaN</td>\n      <td>12.0</td>\n    </tr>\n    <tr>\n      <th>2</th>\n      <td>Predicts in-hospital mortality in patients adm...</td>\n      <td>4c-mortality-score-covid-19</td>\n      <td>4C Mortality Score for COVID-19</td>\n      <td>[Miguel Reyes, MD , Arsalan Shawl, DO]</td>\n      <td>4C Mortality Score for COVID-19</td>\n      <td>In-hospital COVID-19 mortality.</td>\n      <td>[COVID-19, Coronavirus]</td>\n      <td>[Respiratory]</td>\n      <td>[4C Mortality Score for COVID-19, 4C, 4C morta...</td>\n      <td>[Prognosis]</td>\n      <td>...</td>\n      <td>[{'type': 'radio', 'label_en': 'Age, years ', ...</td>\n      <td>{'how_to_use': {'use_case_en': '&lt;p&gt;Apply to ri...</td>\n      <td>None</td>\n      <td>False</td>\n      <td>{'meta_description_en': 'The 4C Mortality Scor...</td>\n      <td></td>\n      <td>[{'calcId': 10279, 'short_title_en': 'MuLBSTA ...</td>\n      <td>NaN</td>\n      <td>NaN</td>\n      <td>10.0</td>\n    </tr>\n    <tr>\n      <th>3</th>\n      <td>Differentiates patients with HIT from those wi...</td>\n      <td>4ts-score-heparin-induced-thrombocytopenia</td>\n      <td>4Ts Score for Heparin-Induced Thrombocytopenia</td>\n      <td>[Calvin Hwang, MD]</td>\n      <td>4Ts for HIT</td>\n      <td>HIT vs other causes of thrombocytopenia.</td>\n      <td>[Bleeding/Hemorrhage, Thrombocytopenia]</td>\n      <td>[Hematologic]</td>\n      <td>[plt, HIT]</td>\n      <td>[Diagnosis]</td>\n      <td>...</td>\n      <td>[{'default': 2, 'label_en': 'Thrombocytopenia'...</td>\n      <td>{'about': {'evidence_based_medicine_en': '', '...</td>\n      <td>NaN</td>\n      <td>False</td>\n      <td>{'meta_description_en': 'The 4Ts Score is a cl...</td>\n      <td>0483d560043c355df74af2ff2c3337b7</td>\n      <td>[{'calcId': 1789, 'short_title_en': 'HIT Exper...</td>\n      <td>NaN</td>\n      <td>NaN</td>\n      <td>4.0</td>\n    </tr>\n    <tr>\n      <th>4</th>\n      <td>Calculates reference values for distance walke...</td>\n      <td>6-minute-walk-distance</td>\n      <td>6 Minute Walk Distance</td>\n      <td>[]</td>\n      <td>6 Minute Walk Distance</td>\n      <td>Functional status.</td>\n      <td>[CHF, Chronic Pain, Congestive Heart Failure, ...</td>\n      <td>[Any/All]</td>\n      <td>[6MWD, walking, six minute, functional status]</td>\n      <td>[Formula]</td>\n      <td>...</td>\n      <td>[{'type': 'toggle', 'label_en': 'Sex', 'name':...</td>\n      <td>{'how_to_use': {'use_case_en': '', 'pearls_pit...</td>\n      <td>NaN</td>\n      <td>False</td>\n      <td>{'meta_description_en': 'The 6 Minute Walk Dis...</td>\n      <td>9e1022e778dabfcc554ce1042961b6b2</td>\n      <td>[{'calcId': 10161, 'short_title_en': 'COPD Ass...</td>\n      <td>NaN</td>\n      <td>NaN</td>\n      <td>5.0</td>\n    </tr>\n  </tbody>\n</table>\n<p>5 rows × 33 columns</p>\n</div>"
     },
     "execution_count": 2,
     "metadata": {},
     "output_type": "execute_result"
    }
   ],
   "source": [
    "df.head()"
   ],
   "metadata": {
    "collapsed": false,
    "pycharm": {
     "name": "#%%\n"
    }
   }
  },
  {
   "cell_type": "code",
   "execution_count": 13,
   "outputs": [],
   "source": [
    "METADATA_COLS = ['disease_en', 'system_en', 'purpose_en', 'chief_complaint_en', 'specialty_en']  # these are list-valued\n",
    "METADATA_DICT = {\n",
    "    'disease_en': 'addressing this disease',\n",
    "    'system_en': 'addressing this system',\n",
    "    'purpose_en': 'with this purpose',\n",
    "    'chief_complaint_en': 'addressing this chief complaint',\n",
    "    'specialty_en': 'with this specialty',\n",
    "}\n",
    "\n",
    "for col in METADATA_COLS:\n",
    "    all_vals = sum(df[col], [])\n",
    "    all_vals = [x for x in all_vals\n",
    "                if x # remove empty strings\n",
    "                and not x == 'Any/All'\n",
    "                ]\n",
    "    val_counts = pd.Series(all_vals).value_counts()\n",
    "\n",
    "    if col == 'purpose_en':\n",
    "        plt.figure(figsize=(5, 6), dpi=300, facecolor='w')\n",
    "    else:\n",
    "        plt.figure(figsize=(10, 12), dpi=300, facecolor='w')\n",
    "    N = 60\n",
    "    # plt.grid()\n",
    "    ax = sns.barplot(y=val_counts.index[:N],\n",
    "                     x=val_counts.values[:N], orient='h')\n",
    "    ax.bar_label(ax.containers[0])\n",
    "\n",
    "    plt.xlabel(f'Number of CDIs {METADATA_DICT[col]}\\n(Out of {df.shape[0]} CDIs)')\n",
    "    plt.tight_layout()\n",
    "    viz.savefig(col)\n",
    "    plt.close()"
   ],
   "metadata": {
    "collapsed": false,
    "pycharm": {
     "name": "#%%\n"
    }
   }
  },
  {
   "cell_type": "code",
   "execution_count": null,
   "outputs": [],
   "source": [],
   "metadata": {
    "collapsed": false,
    "pycharm": {
     "name": "#%%\n"
    }
   }
  }
 ],
 "metadata": {
  "kernelspec": {
   "display_name": "Python 3",
   "language": "python",
   "name": "python3"
  },
  "language_info": {
   "codemirror_mode": {
    "name": "ipython",
    "version": 2
   },
   "file_extension": ".py",
   "mimetype": "text/x-python",
   "name": "python",
   "nbconvert_exporter": "python",
   "pygments_lexer": "ipython2",
   "version": "2.7.6"
  }
 },
 "nbformat": 4,
 "nbformat_minor": 0
}