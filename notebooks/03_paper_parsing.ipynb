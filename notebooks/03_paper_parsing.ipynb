{
 "cells": [
  {
   "cell_type": "code",
   "execution_count": null,
   "metadata": {
    "collapsed": false,
    "pycharm": {
     "name": "#%%\n"
    }
   },
   "outputs": [],
   "source": [
    "%load_ext autoreload\n",
    "%autoreload 2\n",
    "from collections import defaultdict\n",
    "import pandas as pd\n",
    "import imodelsx.llm\n",
    "import numpy as np\n",
    "import paper_setup\n",
    "import paper_parsing\n",
    "import prompts\n",
    "import openai\n",
    "import eval\n",
    "openai.api_key = open('/home/chansingh/.OPENAI_KEY').read().strip()\n",
    "imodelsx.llm.LLM_CONFIG['LLM_REPEAT_DELAY'] = 1"
   ]
  },
  {
   "cell_type": "markdown",
   "metadata": {},
   "source": [
    "### Load df with groundtruth values and paper ids"
   ]
  },
  {
   "cell_type": "code",
   "execution_count": null,
   "metadata": {},
   "outputs": [],
   "source": [
    "# paper_setup.download_open_source_papers(df) \n",
    "# need to first download papers from https://drive.google.com/drive/folders/1OUXtsddxEAOl3tKEZegBQSwArUecb-6J into ../papers\n",
    "df, ids_with_paper = paper_setup.download_gsheet()"
   ]
  },
  {
   "attachments": {},
   "cell_type": "markdown",
   "metadata": {},
   "source": [
    "### Extract info from the odfs -- add values to the following columns:\n",
    "- num_male, num_female, num_total, num_male_evidence_span, num_female_evidence_span, num_total_evidence_span\n",
    "- num_white, num_black, num_latino, num_asian, race_evidence_span"
   ]
  },
  {
   "cell_type": "code",
   "execution_count": null,
   "metadata": {},
   "outputs": [],
   "source": [
    "# extract text from pdfs (create file num.txt for each file num.pdf)\n",
    "paper_setup.extract_texts_from_pdf(ids_with_paper, papers_dir=paper_setup.papers_dir)\n",
    "\n",
    "# get prompt\n",
    "llm = imodelsx.llm.get_llm(\"gpt-4-0613\") # gpt-3.5-turbo-0613\n",
    "\n",
    "# properties, functions, content_str = prompts.get_prompts_gender_and_race()\n",
    "# print('attempting to add', properties.keys())\n",
    "# paper_parsing.add_columns_based_on_properties(df, ids_with_paper, properties, functions, content_str, llm)\n",
    "\n",
    "properties, functions, content_str = prompts.get_prompts_gender()\n",
    "print('attempting to add', properties.keys())\n",
    "paper_parsing.add_columns_based_on_properties(df, ids_with_paper, properties, functions, content_str, llm)\n",
    "\n",
    "properties, functions, content_str = prompts.get_prompts_race()\n",
    "print('attempting to add', properties.keys())\n",
    "paper_parsing.add_columns_based_on_properties(df, ids_with_paper, properties, functions, content_str, llm)"
   ]
  },
  {
   "cell_type": "markdown",
   "metadata": {},
   "source": [
    "### Evaluate\n",
    "Evaluates whether each extracted number is within 1 of the human-labeled value"
   ]
  },
  {
   "cell_type": "code",
   "execution_count": 8,
   "metadata": {},
   "outputs": [],
   "source": [
    "# process counts (convert percentages to nums if conditions are correct)\n",
    "def process_gender_counts(row):\n",
    "    m = row['num_male']\n",
    "    f = row['num_female']\n",
    "    tot = row['num_total']\n",
    "    if tot is not None and isinstance(tot, str):\n",
    "        tot = tot.replace(',', '')\n",
    "    if eval.str_contains_number(m) and eval.str_is_percentage(m) \\\n",
    "    and eval.str_contains_number(f) and eval.str_is_percentage(f) and eval.str_contains_number(tot) and not eval.str_is_percentage(tot):\n",
    "        m = eval.percentage_to_num(m)\n",
    "        f = eval.percentage_to_num(f)\n",
    "        tot = int(tot)\n",
    "        # print(m, f, tot)\n",
    "        m = round(m * tot / 100)\n",
    "        f = tot - m\n",
    "    return m, f\n",
    "\n",
    "gender_count_processed = df.apply(process_gender_counts, axis=1)\n",
    "df['num_male'] = gender_count_processed.apply(lambda x: x[0]).astype(str)\n",
    "df['num_female'] = gender_count_processed.apply(lambda x: x[1]).astype(str)"
   ]
  },
  {
   "cell_type": "code",
   "execution_count": 10,
   "metadata": {},
   "outputs": [
    {
     "name": "stdout",
     "output_type": "stream",
     "text": [
      "total n 363\n"
     ]
    },
    {
     "data": {
      "text/html": [
       "<div>\n",
       "<style scoped>\n",
       "    .dataframe tbody tr th:only-of-type {\n",
       "        vertical-align: middle;\n",
       "    }\n",
       "\n",
       "    .dataframe tbody tr th {\n",
       "        vertical-align: top;\n",
       "    }\n",
       "\n",
       "    .dataframe thead th {\n",
       "        text-align: right;\n",
       "    }\n",
       "</style>\n",
       "<table border=\"1\" class=\"dataframe\">\n",
       "  <thead>\n",
       "    <tr style=\"text-align: right;\">\n",
       "      <th></th>\n",
       "      <th>target</th>\n",
       "      <th>recall</th>\n",
       "      <th>n_labeled</th>\n",
       "      <th>n_predicted_num</th>\n",
       "    </tr>\n",
       "  </thead>\n",
       "  <tbody>\n",
       "    <tr>\n",
       "      <th>0</th>\n",
       "      <td>num_male</td>\n",
       "      <td>71</td>\n",
       "      <td>93</td>\n",
       "      <td>185</td>\n",
       "    </tr>\n",
       "    <tr>\n",
       "      <th>1</th>\n",
       "      <td>num_female</td>\n",
       "      <td>72</td>\n",
       "      <td>93</td>\n",
       "      <td>185</td>\n",
       "    </tr>\n",
       "    <tr>\n",
       "      <th>2</th>\n",
       "      <td>num_total</td>\n",
       "      <td>86</td>\n",
       "      <td>111</td>\n",
       "      <td>281</td>\n",
       "    </tr>\n",
       "  </tbody>\n",
       "</table>\n",
       "</div>"
      ],
      "text/plain": [
       "       target  recall  n_labeled  n_predicted_num\n",
       "0    num_male      71         93              185\n",
       "1  num_female      72         93              185\n",
       "2   num_total      86        111              281"
      ]
     },
     "execution_count": 10,
     "metadata": {},
     "output_type": "execute_result"
    }
   ],
   "source": [
    "d = defaultdict(list)\n",
    "print(\"total n\", len(ids_with_paper))\n",
    "for k in df.columns:\n",
    "    # if k.startswith('num_') and k + '_corrected' in df.columns:\n",
    "    if k in [\"num_male\", \"num_female\", \"num_total\"]:\n",
    "        idxs_with_labels = df[k + \"_corrected\"].notnull() & ~(\n",
    "            df[k + \"_corrected\"].isin({\"Unk\", '-'})\n",
    "        )\n",
    "        gt = df[k + \"_corrected\"][idxs_with_labels].astype(int)\n",
    "        pred = df[k].apply(eval.cast_int)[idxs_with_labels].astype(int)\n",
    "        recall = (np.abs(gt - pred) <= 1).sum()\n",
    "        d[\"target\"].append(k)\n",
    "        d[\"recall\"].append(recall)\n",
    "        d[\"n_labeled\"].append(len(gt))\n",
    "        # d['n_predicted'].append(df[k].notnull().sum())\n",
    "        # count number of values which contain a number\n",
    "        d[\"n_predicted_num\"].append(df[k].apply(eval.str_contains_number).sum())\n",
    "d = pd.DataFrame.from_dict(d).round(2)\n",
    "d"
   ]
  },
  {
   "cell_type": "code",
   "execution_count": 12,
   "metadata": {},
   "outputs": [
    {
     "name": "stderr",
     "output_type": "stream",
     "text": [
      "  0%|          | 0/363 [00:00<?, ?it/s]"
     ]
    },
    {
     "name": "stderr",
     "output_type": "stream",
     "text": [
      "100%|██████████| 363/363 [00:00<00:00, 1048.04it/s]\n"
     ]
    }
   ],
   "source": [
    "df = paper_parsing.check_race_keywords(df, ids_with_paper)\n",
    "df['paper_contains_race_keywords'].sum()\n",
    "# convert columns to int\n",
    "cols_int = ['ref_year', 'found_paper (0=no, 1=yes)', 'num_total_corrected']\n",
    "for c in cols_int:\n",
    "    df[c] = df[c].apply(eval.int_or_empty)\n",
    "df.to_csv('../data/main.csv', index=False)"
   ]
  },
  {
   "cell_type": "code",
   "execution_count": null,
   "metadata": {},
   "outputs": [],
   "source": []
  }
 ],
 "metadata": {
  "kernelspec": {
   "display_name": "Python 3",
   "language": "python",
   "name": "python3"
  },
  "language_info": {
   "codemirror_mode": {
    "name": "ipython",
    "version": 3
   },
   "file_extension": ".py",
   "mimetype": "text/x-python",
   "name": "python",
   "nbconvert_exporter": "python",
   "pygments_lexer": "ipython3",
   "version": "3.11.4"
  }
 },
 "nbformat": 4,
 "nbformat_minor": 0
}
