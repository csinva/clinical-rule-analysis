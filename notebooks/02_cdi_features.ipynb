{
 "cells": [
  {
   "cell_type": "code",
   "execution_count": null,
   "metadata": {
    "collapsed": false,
    "pycharm": {
     "name": "#%%\n"
    }
   },
   "outputs": [],
   "source": [
    "%load_ext autoreload\n",
    "%autoreload 2\n",
    "\n",
    "\n",
    "import dvu\n",
    "import matplotlib.pyplot as plt\n",
    "import numpy as np\n",
    "import pandas as pd\n",
    "import seaborn as sns\n",
    "from pprint import pprint\n",
    "from collections import defaultdict\n",
    "\n",
    "import mdcalc\n",
    "import viz\n",
    "\n",
    "# plt.style.use('default')\n",
    "dvu.set_style()\n",
    "\n",
    "df = pd.read_pickle('../data/cdis_with_schemas_cleaned.pkl')\n",
    "\n",
    "def get_feature_names_list(schema):\n",
    "    if isinstance(schema, list):\n",
    "        return [mdcalc.clean_feature_name(s['label_en']) if 'label_en' in s else 'unknown'\n",
    "                for s in schema]\n",
    "    else:\n",
    "        return []\n",
    "\n",
    "# these seem to be extra info in the calc, not actually a new feature\n",
    "def remove_unknown(x):\n",
    "    return [z for z in x if not z == 'unknown']\n",
    "\n",
    "df['feature_names'] = df['input_schema'].apply(get_feature_names_list)\n",
    "df['feature_names'] = df['feature_names'].apply(remove_unknown)\n",
    "df['feature_names_unique'] = df['feature_names'].apply(\n",
    "    lambda l: list(set([mdcalc.rename_feature_name(x) for x in l])))\n",
    "df[\"feature_score_tuples_list\"] = df[\"input_schema\"].apply(\n",
    "    mdcalc.get_feature_score_tuples_list_from_schema\n",
    ")\n",
    "df['num_features_unique'] = df['feature_names_unique'].apply(len)\n",
    "\n",
    "# make plot\n",
    "all_words = sum(df['feature_names_unique'], [])  # concatenate all list\n",
    "all_words = pd.Series(all_words)\n",
    "# all_words = all_words[~(all_words == 'unknown')] # not necessary, already handleed\n",
    "counts = all_words.value_counts()\n",
    "feat_names = pd.Series(counts.index)\n",
    "\n",
    "\n",
    "counts.head(30)\n",
    "plt.figure(figsize=(9, 7.5), dpi=300, facecolor='w')\n",
    "N = 27\n",
    "# plt.grid()\n",
    "ax = sns.barplot(y=feat_names[:N].apply(lambda x: x[:39]),\n",
    "                 x=counts.values[:N], orient='h', color='mediumseagreen', width=0.9)\n",
    "# ax.bar_label(ax.containers[0], fontsize='small')\n",
    "# bar_label inside of bar\n",
    "# ax.bar_label(ax.containers[0], fontsize='small', labels=[str(x) + f' ({100 * x/df.shape[0]:.1f}%)' for x in counts.values[:N]])\n",
    "# add text to each bar\n",
    "# texts = [str(x) + f' ({100 * x/df.shape[0]:.1f}%)' for x in counts.values[:N]]\n",
    "texts = [str(x) for x in counts.values[:N]]\n",
    "for i, p in enumerate(ax.patches):\n",
    "    ax.annotate(texts[i], (p.get_width(), p.get_y() + 0.75), ha='right', color='white')\n",
    "texts_perc = [f'{100 * x/df.shape[0]:.1f}%' for x in counts.values[:N]]\n",
    "for i, p in enumerate(ax.patches):\n",
    "    ax.annotate(texts_perc[i], (p.get_width() + 2, p.get_y() + 0.75), ha='left', color='gray', fontsize='small')\n",
    "plt.xlabel(f'Number of CDIs that use this feature\\n(Out of {df.shape[0]} CDIs)')\n",
    "plt.tight_layout()\n",
    "viz.savefig('common_features')"
   ]
  },
  {
   "attachments": {},
   "cell_type": "markdown",
   "metadata": {
    "collapsed": false,
    "pycharm": {
     "name": "#%% md\n"
    }
   },
   "source": [
    "**Look at the renaming**"
   ]
  },
  {
   "cell_type": "code",
   "execution_count": null,
   "metadata": {
    "collapsed": false,
    "pycharm": {
     "name": "#%%\n"
    }
   },
   "outputs": [],
   "source": [
    "feats_print = sorted(set(sum(df['feature_names'], [])))\n",
    "df_print = pd.DataFrame(feats_print, columns=['Original feature'])\n",
    "df_print['Chandan rename'] = df_print['Original feature'].apply(mdcalc.rename_feature_name)\n",
    "idxs_same = df_print['Chandan rename'] == df_print['Original feature']\n",
    "df_print['Chandan rename'][idxs_same] = ''\n",
    "df_print.to_csv('../data/renaming/features.csv', index=False)"
   ]
  },
  {
   "attachments": {},
   "cell_type": "markdown",
   "metadata": {
    "collapsed": false,
    "pycharm": {
     "name": "#%% md\n"
    }
   },
   "source": [
    "### Feature counts"
   ]
  },
  {
   "cell_type": "code",
   "execution_count": null,
   "metadata": {
    "collapsed": false,
    "pycharm": {
     "name": "#%%\n"
    }
   },
   "outputs": [],
   "source": [
    "# df['num_splits'] = df['feature_names'].apply(len)\n",
    "\n",
    "plt.figure(dpi=300, facecolor='w', figsize=(6, 5))\n",
    "# plt.hist(df['num_splits'], label='Splits in CDI', bins=25)\n",
    "avg = np.mean(df['num_features_unique'])\n",
    "plt.axvline(x=avg, ls='-', color='#444')\n",
    "plt.text(s=f'Mean: {avg:0.1f}', x=avg + 1, y=170, color='#444')\n",
    "plt.hist(df['num_features_unique'], label='Unique features in CDI', bins=25, color='mediumseagreen') #, alpha=0.8)\n",
    "plt.xlabel('Unique features in CDI')\n",
    "# plt.ylabel(f'Count of CDIs\\n(out of {df.shape[0]} CDIs)')\n",
    "plt.ylabel('CDI count')\n",
    "plt.title('B', loc='left', fontsize='x-large', fontweight='bold')\n",
    "plt.tight_layout()\n",
    "\n",
    "# plt.legend()\n",
    "viz.savefig('num_rules_hist')\n",
    "# plt.show()"
   ]
  },
  {
   "cell_type": "code",
   "execution_count": null,
   "metadata": {
    "collapsed": false,
    "pycharm": {
     "name": "#%%\n"
    }
   },
   "outputs": [],
   "source": [
    "# vals, counts = np.unique(df['num_splits'], return_counts=True)\n",
    "# plt.plot(vals, np.cumsum(counts) / np.sum(counts), '.-', label='Splits in CDI')\n",
    "# val_90 = (np.cumsum(counts) / np.sum(counts)) >= 0.9\n",
    "\n",
    "# plt.show()\n",
    "vals, counts = np.unique(df['num_features_unique'], return_counts=True)\n",
    "plt.plot(vals, np.cumsum(counts) / np.sum(counts), '.-', label='Unique features in CDI')\n",
    "\n",
    "plt.xlabel('Number of unique features')\n",
    "plt.ylabel('Fraction of CDIs with\\nat most this many splits')\n",
    "plt.legend()\n",
    "viz.savefig('num_rules_cdf')\n",
    "plt.show()"
   ]
  },
  {
   "cell_type": "markdown",
   "metadata": {},
   "source": [
    "# Feature analysis"
   ]
  },
  {
   "cell_type": "code",
   "execution_count": null,
   "metadata": {},
   "outputs": [],
   "source": [
    "# only keep scoring-only CDIs\n",
    "feature_score_tuples_list = df[\"feature_score_tuples_list\"][\n",
    "    df[\"feature_score_tuples_list\"].apply(len) > 0\n",
    "]\n",
    "print(\"only keeping\", feature_score_tuples_list.shape[0], \"CDIs out of\", df.shape[0])\n",
    "\n",
    "# get score_dict\n",
    "score_tuples = sorted(sum(feature_score_tuples_list, []), key=lambda x: x[0])\n",
    "ks = sorted(set([score_tuple[0] for score_tuple in score_tuples]))\n",
    "score_dict = defaultdict(list)\n",
    "for key, score in score_tuples:\n",
    "    score_dict[key].append(score)\n",
    "\n",
    "# filter list\n",
    "scores_list = [\n",
    "    (k, v)\n",
    "    for (k, v) in score_dict.items()\n",
    "    if len(v) >= 9\n",
    "    # or k == 'Race/Ethnicity'\n",
    "]\n",
    "# scores_list = sorted(score_dict_filt, key=lambda x: len(x[1]), reverse=True)\n",
    "\n",
    "# format into df\n",
    "feat_name_vec = sum([[k] * len(v) for (k, v) in scores_list], [])\n",
    "score_vec = sum([v for (k, v) in scores_list], [])\n",
    "df_box = pd.DataFrame.from_dict({\"feat_name\": feat_name_vec, \"score\": score_vec})\n",
    "medians = df_box.groupby([\"feat_name\"])[\"score\"].median().sort_values(ascending=False)\n",
    "\n",
    "# plot\n",
    "plt.figure(dpi=300, figsize=(7, 4))\n",
    "# place grid in background behind other elements\n",
    "sns.boxplot(\n",
    "    x=\"score\",\n",
    "    y=\"feat_name\",\n",
    "    data=df_box,\n",
    "    color=\"mediumseagreen\",\n",
    "    order=medians.index,\n",
    "    # fliersize=3.1,\n",
    "    whis=1.5,\n",
    "    showfliers=False,\n",
    "\n",
    "    # change color of fliers\n",
    "    # flierprops=dict(alpha=1, marker='o', color='#EEE'),\n",
    ")\n",
    "plt.ylabel(\"Feature\")\n",
    "plt.yticks(fontsize=\"small\")\n",
    "plt.xticks(fontsize=\"small\")\n",
    "plt.xlabel(\n",
    "    \"Feature importance (higher is more important)\\nFraction of total points from a feature\",\n",
    "    fontsize=\"small\",\n",
    ")\n",
    "# plt.grid(axis=\"x\")\n",
    "plt.tight_layout()\n",
    "viz.savefig(\"scoring_cdi_boxplot\")"
   ]
  },
  {
   "cell_type": "markdown",
   "metadata": {},
   "source": [
    "# Feature debugging"
   ]
  },
  {
   "cell_type": "code",
   "execution_count": 6,
   "metadata": {},
   "outputs": [
    {
     "name": "stdout",
     "output_type": "stream",
     "text": [
      "age Age [0, 1, 2]\n",
      "sex Sex [1, 0]\n",
      "heart_failure CHF history [0, 1]\n",
      "hypertension Hypertension history [0, 1]\n",
      "stroke Stroke/TIA/thromboembolism history [0, 2]\n",
      "vascular_disease Vascular disease history (prior MI, peripheral artery disease, or aortic plaque) [0, 1]\n",
      "diabetes Diabetes history [0, 1]\n"
     ]
    }
   ],
   "source": [
    "# example debugging schema\n",
    "x = df[df.slug == 'cha2ds2-vasc-score-atrial-fibrillation-stroke-risk'].iloc[0]\n",
    "schema = x['input_schema']\n",
    "schema\n",
    "for s in schema:\n",
    "    options = s['options']\n",
    "    print(s['name'], mdcalc.clean_feature_name(s['label_en']), [opt['value'] for opt in options])"
   ]
  },
  {
   "cell_type": "code",
   "execution_count": 11,
   "metadata": {},
   "outputs": [
    {
     "data": {
      "text/html": [
       "<div>\n",
       "<style scoped>\n",
       "    .dataframe tbody tr th:only-of-type {\n",
       "        vertical-align: middle;\n",
       "    }\n",
       "\n",
       "    .dataframe tbody tr th {\n",
       "        vertical-align: top;\n",
       "    }\n",
       "\n",
       "    .dataframe thead th {\n",
       "        text-align: right;\n",
       "    }\n",
       "</style>\n",
       "<table border=\"1\" class=\"dataframe\">\n",
       "  <thead>\n",
       "    <tr style=\"text-align: right;\">\n",
       "      <th></th>\n",
       "      <th>url_full</th>\n",
       "      <th>feature_score_tuples_list</th>\n",
       "    </tr>\n",
       "  </thead>\n",
       "  <tbody>\n",
       "    <tr>\n",
       "      <th>248</th>\n",
       "      <td>https://www.mdcalc.com/calc/3311/glasgow-prognostic-score-gps-cancer-outcomes</td>\n",
       "      <td>[(C-reactive protein, 0.5), (Albumin, 0.5)]</td>\n",
       "    </tr>\n",
       "    <tr>\n",
       "      <th>378</th>\n",
       "      <td>https://www.mdcalc.com/calc/3312/modified-glasgow-prognostic-score-mgps-cancer-outcomes</td>\n",
       "      <td>[(C-reactive protein, 0.5), (Albumin, 0.5)]</td>\n",
       "    </tr>\n",
       "    <tr>\n",
       "      <th>492</th>\n",
       "      <td>https://www.mdcalc.com/calc/3313/prognostic-index-cancer-outcomes</td>\n",
       "      <td>[(C-reactive protein, 0.5), (White blood cell count, 0.5)]</td>\n",
       "    </tr>\n",
       "    <tr>\n",
       "      <th>377</th>\n",
       "      <td>https://www.mdcalc.com/calc/3837/modified-fisher-grading-scale-subarachnoid-hemorrhage-sah</td>\n",
       "      <td>[(Signs/symptoms, 0.6666666666666666), (Intraventricular hemorrhage, 0.3333333333333333)]</td>\n",
       "    </tr>\n",
       "    <tr>\n",
       "      <th>394</th>\n",
       "      <td>https://www.mdcalc.com/calc/3841/multiple-myeloma-international-staging-system-iss</td>\n",
       "      <td>[(Serum β2 microglobulin, 0.6666666666666666), (Serum Albumin, 0.3333333333333333)]</td>\n",
       "    </tr>\n",
       "  </tbody>\n",
       "</table>\n",
       "</div>"
      ],
      "text/plain": [
       "                                                                                       url_full  \\\n",
       "248               https://www.mdcalc.com/calc/3311/glasgow-prognostic-score-gps-cancer-outcomes   \n",
       "378     https://www.mdcalc.com/calc/3312/modified-glasgow-prognostic-score-mgps-cancer-outcomes   \n",
       "492                           https://www.mdcalc.com/calc/3313/prognostic-index-cancer-outcomes   \n",
       "377  https://www.mdcalc.com/calc/3837/modified-fisher-grading-scale-subarachnoid-hemorrhage-sah   \n",
       "394          https://www.mdcalc.com/calc/3841/multiple-myeloma-international-staging-system-iss   \n",
       "\n",
       "                                                                     feature_score_tuples_list  \n",
       "248                                                [(C-reactive protein, 0.5), (Albumin, 0.5)]  \n",
       "378                                                [(C-reactive protein, 0.5), (Albumin, 0.5)]  \n",
       "492                                 [(C-reactive protein, 0.5), (White blood cell count, 0.5)]  \n",
       "377  [(Signs/symptoms, 0.6666666666666666), (Intraventricular hemorrhage, 0.3333333333333333)]  \n",
       "394        [(Serum β2 microglobulin, 0.6666666666666666), (Serum Albumin, 0.3333333333333333)]  "
      ]
     },
     "metadata": {},
     "output_type": "display_data"
    }
   ],
   "source": [
    "with pd.option_context(\"display.max_colwidth\", 1000):\n",
    "    # display(df[df[\"feature_score_tuples_list\"].apply(len) == 2].iloc[3][['url_full', 'input_schema']])\n",
    "    display(df[df[\"feature_score_tuples_list\"].apply(len) == 2][['url_full', 'feature_score_tuples_list']].head())"
   ]
  },
  {
   "cell_type": "code",
   "execution_count": null,
   "metadata": {},
   "outputs": [],
   "source": [
    "with pd.option_context(\"display.max_colwidth\", 1000):\n",
    "    slug = 'prognostic-index-cancer-outcomes'\n",
    "    display(\n",
    "        df[df.slug == slug][\n",
    "            [\"url_full\", \"input_schema\", \"feature_score_tuples_list\"]\n",
    "        ].iloc[0]\n",
    "    )"
   ]
  },
  {
   "cell_type": "code",
   "execution_count": null,
   "metadata": {},
   "outputs": [],
   "source": [
    "# display full\n",
    "with pd.option_context(\"display.max_colwidth\", 1000):\n",
    "    # display(\n",
    "    #     df.sort_values(by=\"num_features_unique\", ascending=False)[\n",
    "    #         [\"url_full\", \"feature_names_unique\", \"slug\", \"input_schema\"]\n",
    "    #     ]\n",
    "    # )\n",
    "    display(\n",
    "        df[df[\"feature_score_tuples_list\"].apply(len) == 2][\n",
    "            [\"url_full\", \"feature_names_unique\", \"slug\", \"input_schema\"]\n",
    "        ]\n",
    "    )"
   ]
  }
 ],
 "metadata": {
  "kernelspec": {
   "display_name": "Python 3",
   "language": "python",
   "name": "python3"
  },
  "language_info": {
   "codemirror_mode": {
    "name": "ipython",
    "version": 3
   },
   "file_extension": ".py",
   "mimetype": "text/x-python",
   "name": "python",
   "nbconvert_exporter": "python",
   "pygments_lexer": "ipython3",
   "version": "3.11.4"
  }
 },
 "nbformat": 4,
 "nbformat_minor": 0
}
