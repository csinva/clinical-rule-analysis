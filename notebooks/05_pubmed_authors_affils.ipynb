{
 "cells": [
  {
   "cell_type": "code",
   "execution_count": null,
   "metadata": {
    "collapsed": false,
    "pycharm": {
     "name": "#%%\n"
    }
   },
   "outputs": [],
   "source": [
    "%load_ext autoreload\n",
    "%autoreload 2\n",
    "\n",
    "from collections import defaultdict\n",
    "\n",
    "import dvu\n",
    "import matplotlib.pyplot as plt\n",
    "import pandas as pd\n",
    "from os.path import join\n",
    "import os.path\n",
    "from bs4 import BeautifulSoup\n",
    "from tqdm import tqdm\n",
    "tqdm.pandas()\n",
    "import imodelsx.llm\n",
    "import json\n",
    "import requests\n",
    "import joblib\n",
    "from pprint import pprint\n",
    "import os\n",
    "import numpy as np\n",
    "import pubmed\n",
    "import openai\n",
    "from mdcalc import try_or_none\n",
    "openai.api_key = open('/home/chansingh/.OPENAI_KEY').read().strip()\n",
    "plt.style.use('default')\n",
    "dvu.set_style()\n",
    "\n",
    "df = pd.read_csv('../data/main.csv')"
   ]
  },
  {
   "attachments": {},
   "cell_type": "markdown",
   "metadata": {},
   "source": [
    "### Scraping pubmed articles"
   ]
  },
  {
   "attachments": {},
   "cell_type": "markdown",
   "metadata": {},
   "source": [
    "- E-utilities: https://dataguide.nlm.nih.gov/eutilities/utilities.html\n",
    "- Metadata: https://www.ncbi.nlm.nih.gov/pmc/tools/get-metadata/\n",
    "- example paper: https://pubmed.ncbi.nlm.nih.gov/16768059/\n",
    "- example summary: https://eutils.ncbi.nlm.nih.gov/entrez/eutils/esummary.fcgi?db=pubmed&id=16768059&retmode=json"
   ]
  },
  {
   "cell_type": "code",
   "execution_count": null,
   "metadata": {},
   "outputs": [],
   "source": [
    "# initialize\n",
    "df[\"ref_href\"] = pubmed.get_updated_refs(df)\n",
    "df[\"ref_metadata\"] = np.nan\n",
    "df[\"ref_authors\"] = np.nan\n",
    "df[\"ref_citations\"] = np.nan\n",
    "df[\"ref_authors_full\"] = np.nan\n",
    "df[\"ref_authors_affils\"] = np.nan\n",
    "df[\"ref_url_free_text\"] = np.nan\n",
    "\n",
    "# only keep pubmed links\n",
    "df_dropnan = df[(df[\"ref_href\"].notna()) & ~(df['ref_href'] == '') & ~(df['ref_href_corrected'] == 'Unk')]\n",
    "df_dropnonpubmed = df_dropnan[df_dropnan[\"ref_href\"].str.contains(\"pubmed\")]\n",
    "df_dropnonpubmed.loc[:, 'paper_id'] = df_dropnonpubmed[\"ref_href\"].apply(pubmed.get_paper_id)\n",
    "print(\n",
    "    \"all cdis\",\n",
    "    df.shape[0],\n",
    "    \"drop na\",\n",
    "    df_dropnan.shape[0],\n",
    "    \"drop non pubmed\",\n",
    "    df_dropnonpubmed.shape[0],\n",
    ")\n",
    "df = df_dropnonpubmed.reset_index()"
   ]
  },
  {
   "cell_type": "code",
   "execution_count": null,
   "metadata": {},
   "outputs": [],
   "source": [
    "# run scraping (caches so is safe to rerun)\n",
    "for i in tqdm(range(df.shape[0])):\n",
    "    row = df.iloc[i]\n",
    "    paper_link = row[\"ref_href\"]\n",
    "    if isinstance(paper_link, str) and \"pubmed\" in paper_link:\n",
    "        # paper_link = 'https://pubmed.ncbi.nlm.nih.gov/20738765/'\n",
    "        paper_id = row['paper_id']\n",
    "\n",
    "        # this scrapes pubmed api\n",
    "        try:\n",
    "            metadata = pubmed.get_metadata(paper_id)\n",
    "            df[\"ref_metadata\"][i] = metadata\n",
    "            df[\"ref_authors\"][i] = metadata[\"result\"][paper_id][\"authors\"]\n",
    "            # df[\"ref_num_references\"][i] = metadata[\"result\"][paper_id][\"pmcrefcount\"]\n",
    "        except Exception as e:\n",
    "            print(f\"Error for paper {paper_id}\", e)\n",
    "\n",
    "        # this scrapes actual paper page\n",
    "        authors_list = pubmed.get_authors_with_firstname(paper_link, paper_id)\n",
    "        df[\"ref_authors_full\"][i] = [pubmed.parse_name(name) for name in authors_list]\n",
    "        # print('auth_list', authors_list)\n",
    "        # except:\n",
    "        # print(f\"Error scraping for paper {paper_id}\")\n",
    "        df['ref_authors_affils'][i] = pubmed.get_author_affiliations(paper_id)\n",
    "print('failed to scrape affils for', df['ref_authors_affils'].isna().sum(), 'papers')"
   ]
  },
  {
   "attachments": {},
   "cell_type": "markdown",
   "metadata": {},
   "source": [
    "### Gender of authors"
   ]
  },
  {
   "cell_type": "code",
   "execution_count": null,
   "metadata": {},
   "outputs": [],
   "source": [
    "names = sorted(\n",
    "    df[\"ref_authors_full\"].explode().dropna().tolist()\n",
    ")\n",
    "\n",
    "genders = []\n",
    "llm = imodelsx.llm.get_llm(\n",
    "    checkpoint=\"gpt-3.5-turbo\", CACHE_DIR=\"/home/chansingh/cache/pubmed_names\"\n",
    ")\n",
    "\n",
    "\n",
    "def get_gender(name: str):\n",
    "    return llm(\n",
    "        f'Return whether the name \"{name}\" is more common for a male or a female. Answer with one word, \"Male\" or \"Female\"',\n",
    "        verbose=False,\n",
    "    )\n",
    "\n",
    "\n",
    "gender_ans = [get_gender(name) for name in tqdm(names)]\n",
    "pd.Series(gender_ans).value_counts()"
   ]
  },
  {
   "attachments": {},
   "cell_type": "markdown",
   "metadata": {},
   "source": [
    "### Affiliations of authors"
   ]
  },
  {
   "cell_type": "code",
   "execution_count": null,
   "metadata": {},
   "outputs": [],
   "source": [
    "import pycountry\n",
    "import pycountry_convert as pc\n",
    "def country_to_continent(country_name):\n",
    "    country_alpha2 = pc.country_name_to_country_alpha2(country_name)\n",
    "    country_continent_code = pc.country_alpha2_to_continent_code(country_alpha2)\n",
    "    country_continent_name = pc.convert_continent_code_to_continent_name(country_continent_code)\n",
    "    return country_continent_name\n",
    "\n",
    "llm = imodelsx.llm.get_llm(\n",
    "    checkpoint=\"gpt-3.5-turbo\", CACHE_DIR=\"/home/chansingh/cache/pubmed_names\"\n",
    ")\n",
    "def get_country(country_name: str):\n",
    "    return llm(\n",
    "        f\"\"\"Return the name of the country present in the following affiliation: {country_name}.\n",
    "Return only the name of the country.\"\"\",\n",
    "        verbose=False,\n",
    "    )\n",
    "\n",
    "affiliations = np.array(sorted(df[\"ref_authors_affils\"].explode().dropna().tolist()))\n",
    "dfa = pd.DataFrame(affiliations, columns=['aff_orig'])    \n",
    "\n",
    "# automatically parse countries\n",
    "dfa['aff_auto'] = dfa['aff_orig'].apply(lambda x: \"\".join([c for c in x.split(\",\")[-1] if c.isalpha()]))\n",
    "dfa['country_auto'] = dfa['aff_auto'].progress_apply(try_or_none(lambda x: pycountry.countries.search_fuzzy(x)[0]))\n",
    "dfa['country'] = dfa['country_auto']\n",
    "\n",
    "# fill in missing countries with llm\n",
    "dfa['aff_llm'] = None\n",
    "idxs_na = dfa['country_auto'].isna()\n",
    "dfa.loc[idxs_na, 'aff_llm'] = dfa.loc[idxs_na, 'aff_orig'].progress_apply(lambda x: get_country(x))"
   ]
  },
  {
   "cell_type": "code",
   "execution_count": null,
   "metadata": {},
   "outputs": [],
   "source": [
    "dfa['aff_llm'] = dfa['aff_llm'].apply(pubmed.clean_llm_country_output)\n",
    "dfa['country_llm'] = dfa['aff_llm'].progress_apply(try_or_none(lambda x: pycountry.countries.search_fuzzy(x)[0]))\n",
    "dfa['country'] = dfa['country_auto'].fillna(dfa['country_llm'])"
   ]
  },
  {
   "cell_type": "code",
   "execution_count": null,
   "metadata": {},
   "outputs": [],
   "source": [
    "dfa['aff_llm'].value_counts()"
   ]
  },
  {
   "cell_type": "code",
   "execution_count": null,
   "metadata": {},
   "outputs": [],
   "source": [
    "n = dfa['country'].dropna().shape[0]\n",
    "print('dropping', dfa.shape[0] - n, 'affiliations', 'resulting in', n, 'affiliations')\n",
    "countries = dfa['country'].dropna()\n",
    "continents = countries.apply(lambda x: country_to_continent(x.name))"
   ]
  },
  {
   "cell_type": "code",
   "execution_count": null,
   "metadata": {},
   "outputs": [],
   "source": [
    "pd.DataFrame(continents.value_counts()/ n * 100).transpose().style.hide(axis='index').format(\"{:.1f}%\")"
   ]
  },
  {
   "cell_type": "code",
   "execution_count": null,
   "metadata": {},
   "outputs": [],
   "source": [
    "cv = pd.DataFrame(countries.value_counts().head(15) / n * 100).reset_index()\n",
    "cv['country'] = cv['country'].apply(lambda x: x.name)\n",
    "cv.index = cv['country']\n",
    "cv = cv.drop('country', axis=1)\n",
    "cv.T.style.hide(axis='index').format(\"{:.1f}%\")"
   ]
  },
  {
   "attachments": {},
   "cell_type": "markdown",
   "metadata": {},
   "source": [
    "### Gender over time"
   ]
  },
  {
   "cell_type": "code",
   "execution_count": null,
   "metadata": {},
   "outputs": [],
   "source": [
    "# check if any element of a list is not None\n",
    "def any_not_none(l):\n",
    "    for x in l:\n",
    "        if x is not None:\n",
    "            return True\n",
    "    return False\n",
    "    \n",
    "def count_male(authors_full):\n",
    "    if isinstance(authors_full, list) and any_not_none(authors_full):\n",
    "        return np.sum([get_gender(name) == \"Male.\" for name in authors_full])\n",
    "    else:\n",
    "        return 0\n",
    "\n",
    "def count_female(authors_full):\n",
    "    if isinstance(authors_full, list) and any_not_none(authors_full):\n",
    "        return np.sum([get_gender(name) == \"Female.\" for name in authors_full])\n",
    "    else:\n",
    "        return 0\n",
    "\n",
    "\n",
    "df[\"count_male\"] = df.apply(\n",
    "    lambda row: count_male(row[\"ref_authors_full\"]),\n",
    "    axis=1,\n",
    ")\n",
    "df['count_female'] = df.apply(\n",
    "   lambda row: count_female(row[\"ref_authors_full\"]),\n",
    "    axis=1, \n",
    ")"
   ]
  },
  {
   "cell_type": "code",
   "execution_count": null,
   "metadata": {},
   "outputs": [],
   "source": [
    "dp = df.sort_values(by='ref_year')\n",
    "dp['count_male'].value_counts()\n",
    "# plt.plot(dp['ref_year'], np.cumsum(dp['count_male']))\n",
    "# plt.plot(dp['ref_year'], np.cumsum(dp['count_female']))\n",
    "plt.plot(dp['ref_year'], np.cumsum(dp['count_male']) / np.cumsum(dp['count_female']))\n",
    "plt.grid()\n",
    "plt.xlim(2000, 2023)\n",
    "plt.ylim(2, 4)"
   ]
  }
 ],
 "metadata": {
  "kernelspec": {
   "display_name": "Python 3",
   "language": "python",
   "name": "python3"
  },
  "language_info": {
   "codemirror_mode": {
    "name": "ipython",
    "version": 3
   },
   "file_extension": ".py",
   "mimetype": "text/x-python",
   "name": "python",
   "nbconvert_exporter": "python",
   "pygments_lexer": "ipython3",
   "version": "3.11.4"
  }
 },
 "nbformat": 4,
 "nbformat_minor": 0
}
