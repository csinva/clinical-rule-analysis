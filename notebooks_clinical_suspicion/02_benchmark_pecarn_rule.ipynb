{
 "cells": [
  {
   "cell_type": "code",
   "execution_count": 1,
   "metadata": {},
   "outputs": [],
   "source": [
    "%matplotlib inline\n",
    "%load_ext autoreload\n",
    "%autoreload 2\n",
    "from os.path import join as oj\n",
    "import sys\n",
    "import numpy as np\n",
    "import pandas as pd\n",
    "import helper\n",
    "\n",
    "# load data \n",
    "d = pd.read_csv('df_pecarn.csv')"
   ]
  },
  {
   "cell_type": "markdown",
   "metadata": {},
   "source": [
    "# recreate / evaluate rule"
   ]
  },
  {
   "cell_type": "code",
   "execution_count": 24,
   "metadata": {},
   "outputs": [
    {
     "name": "stdout",
     "output_type": "stream",
     "text": [
      "Initial                   203 / 12044\n",
      "mean 0.05705552725420275\n",
      "AbdTrauma_or_SeatBeltSign  91 / 10081\t112 / 1963 (5.7)\n",
      "mean 0.04600484261501211\n",
      "GCSScore                   53 /  9255\t 38 /  826 (4.6)\n",
      "mean 0.014469453376205787\n",
      "AbdTenderDegree            17 /  6767\t 36 / 2488 (1.4)\n",
      "mean 0.006237006237006237\n",
      "ThoracicTrauma             11 /  5805\t  6 /  962 (0.6)\n",
      "mean 0.005952380952380952\n",
      "AbdomenPain                 9 /  5469\t  2 /  336 (0.6)\n",
      "mean 0.029411764705882353\n",
      "DecrBreathSound             8 /  5435\t  1 /   34 (2.9)\n",
      "mean 0.005063291139240506\n",
      "VomitWretch                 6 /  5040\t  2 /  395 (0.5)\n"
     ]
    }
   ],
   "source": [
    "\n",
    "\n",
    "yhat = pecarn_rule_predict(d, o='iai_intervention', verbose=True)"
   ]
  },
  {
   "cell_type": "code",
   "execution_count": 25,
   "metadata": {},
   "outputs": [
    {
     "data": {
      "text/plain": [
       "(array([0.00119048, 0.00623701, 0.00119048, ..., 0.01446945, 0.00119048,\n",
       "        0.00119048]),\n",
       " 0        0\n",
       " 1        1\n",
       " 2        0\n",
       " 3        0\n",
       " 4        1\n",
       "         ..\n",
       " 12039    0\n",
       " 12040    1\n",
       " 12041    1\n",
       " 12042    0\n",
       " 12043    0\n",
       " Length: 12044, dtype: int64)"
      ]
     },
     "execution_count": 25,
     "metadata": {},
     "output_type": "execute_result"
    }
   ],
   "source": [
    "yhat"
   ]
  },
  {
   "cell_type": "markdown",
   "metadata": {},
   "source": [
    "**look at pecarn patients**"
   ]
  },
  {
   "cell_type": "code",
   "execution_count": 17,
   "metadata": {},
   "outputs": [
    {
     "name": "stdout",
     "output_type": "stream",
     "text": [
      "Initial                   203 / 12044\n",
      "AbdTrauma_or_SeatBeltSign  91 / 10081\t112 / 1963 (5.7)\n",
      "GCSScore                   53 /  9255\t 38 /  826 (4.6)\n",
      "AbdTenderDegree            17 /  6767\t 36 / 2488 (1.4)\n",
      "ThoracicTrauma             11 /  5805\t  6 /  962 (0.6)\n",
      "AbdomenPain                 9 /  5469\t  2 /  336 (0.6)\n",
      "DecrBreathSound             8 /  5435\t  1 /   34 (2.9)\n",
      "VomitWretch                 6 /  5040\t  2 /  395 (0.5)\n",
      "sensitivity 97.04\n",
      "specificity 42.51\n",
      "\n",
      "missed patients:\n"
     ]
    },
    {
     "data": {
      "text/html": [
       "<div>\n",
       "<style scoped>\n",
       "    .dataframe tbody tr th:only-of-type {\n",
       "        vertical-align: middle;\n",
       "    }\n",
       "\n",
       "    .dataframe tbody tr th {\n",
       "        vertical-align: top;\n",
       "    }\n",
       "\n",
       "    .dataframe thead th {\n",
       "        text-align: right;\n",
       "    }\n",
       "</style>\n",
       "<table border=\"1\" class=\"dataframe\">\n",
       "  <thead>\n",
       "    <tr style=\"text-align: right;\">\n",
       "      <th></th>\n",
       "      <th>Age</th>\n",
       "      <th>Sex</th>\n",
       "      <th>MOI</th>\n",
       "    </tr>\n",
       "  </thead>\n",
       "  <tbody>\n",
       "    <tr>\n",
       "      <th>203</th>\n",
       "      <td>2</td>\n",
       "      <td>M</td>\n",
       "      <td>Fall down stairs</td>\n",
       "    </tr>\n",
       "    <tr>\n",
       "      <th>4349</th>\n",
       "      <td>2</td>\n",
       "      <td>M</td>\n",
       "      <td>Pedestrian/bicyclist struck by moving vehicle</td>\n",
       "    </tr>\n",
       "    <tr>\n",
       "      <th>5977</th>\n",
       "      <td>16</td>\n",
       "      <td>M</td>\n",
       "      <td>Motorcycle/ATV/Scooter collision</td>\n",
       "    </tr>\n",
       "    <tr>\n",
       "      <th>9419</th>\n",
       "      <td>17</td>\n",
       "      <td>F</td>\n",
       "      <td>Motor vehicle collision</td>\n",
       "    </tr>\n",
       "    <tr>\n",
       "      <th>9436</th>\n",
       "      <td>17</td>\n",
       "      <td>M</td>\n",
       "      <td>Motor vehicle collision</td>\n",
       "    </tr>\n",
       "    <tr>\n",
       "      <th>9971</th>\n",
       "      <td>17</td>\n",
       "      <td>M</td>\n",
       "      <td>Motor vehicle collision</td>\n",
       "    </tr>\n",
       "  </tbody>\n",
       "</table>\n",
       "</div>"
      ],
      "text/plain": [
       "      Age Sex                                            MOI\n",
       "203     2   M                               Fall down stairs\n",
       "4349    2   M  Pedestrian/bicyclist struck by moving vehicle\n",
       "5977   16   M               Motorcycle/ATV/Scooter collision\n",
       "9419   17   F                        Motor vehicle collision\n",
       "9436   17   M                        Motor vehicle collision\n",
       "9971   17   M                        Motor vehicle collision"
      ]
     },
     "execution_count": 17,
     "metadata": {},
     "output_type": "execute_result"
    }
   ],
   "source": [
    "low_risk_patients, missed_patients, stats = pecarn_rule_predict(df_pecarn)\n",
    "assert missed_patients.shape[0] == 6, 'should find 6 low-risk patients'    \n",
    "for stat in ['sensitivity', 'specificity']:\n",
    "    print(stat, f'{stats[stat]:0.2f}')\n",
    "\n",
    "\n",
    "# save out missed patients\n",
    "df_pecarn.loc[missed_patients.index].to_csv('../reports/missed_patients_pecarn.csv')\n",
    "print('\\nmissed patients:')\n",
    "missed_patients[['Age', 'Sex', 'MOI']]"
   ]
  },
  {
   "cell_type": "markdown",
   "metadata": {},
   "source": [
    "**look at psrc patients**"
   ]
  },
  {
   "cell_type": "code",
   "execution_count": null,
   "metadata": {},
   "outputs": [],
   "source": [
    "low_risk_patients, missed_patients, stats = pecarn_rule_predict(df_psrc)\n",
    "for stat in ['sensitivity', 'specificity']:\n",
    "    print(stat, f'{stats[stat]:0.2f}')\n",
    "\n",
    "# save out missed patients\n",
    "df_psrc.loc[missed_patients.index].to_csv('../reports/missed_patients_psrc.csv')\n",
    "missed_patients[['Age', 'MOI']]"
   ]
  },
  {
   "cell_type": "code",
   "execution_count": 19,
   "metadata": {},
   "outputs": [
    {
     "data": {
      "text/plain": [
       "{'fn': 2,\n",
       " 'tp': 60,\n",
       " 'tn': 935,\n",
       " 'fp': 1191,\n",
       " 'sensitivity': 96.7741935483871,\n",
       " 'specificity': 43.97930385700847,\n",
       " 'ppv': 0.047961630695443645,\n",
       " 'npv': 0.9978655282817502,\n",
       " 'lr+': 1.72747217030958,\n",
       " 'lr-': 0.07334828359496284}"
      ]
     },
     "execution_count": 19,
     "metadata": {},
     "output_type": "execute_result"
    }
   ],
   "source": [
    "stats"
   ]
  },
  {
   "cell_type": "markdown",
   "metadata": {},
   "source": [
    "# look at errors for subgroups\n",
    "**here we consider the riskier subgroups (young age, female)**"
   ]
  },
  {
   "cell_type": "code",
   "execution_count": 12,
   "metadata": {},
   "outputs": [
    {
     "name": "stdout",
     "output_type": "stream",
     "text": [
      "Initial                   166 / 9907\n",
      "AbdTrauma_or_SeatBeltSign  74 /  8226\t 92 / 1681 (5.5)\n",
      "GCSScore                   42 /  7501\t 32 /  725 (4.4)\n",
      "AbdTenderDegree            12 /  5510\t 30 / 1991 (1.5)\n",
      "ThoracicTrauma              7 /  4746\t  5 /  764 (0.7)\n",
      "AbdomenPain                 5 /  4460\t  2 /  286 (0.7)\n",
      "DecrBreathSound             4 /  4438\t  1 /   22 (4.5)\n",
      "VomitWretch                 2 /  4094\t  2 /  344 (0.6)\n",
      "sensitivity 98.80\n",
      "specificity 42.01\n",
      "\n",
      "missed patients:\n"
     ]
    },
    {
     "data": {
      "text/html": [
       "<div>\n",
       "<style scoped>\n",
       "    .dataframe tbody tr th:only-of-type {\n",
       "        vertical-align: middle;\n",
       "    }\n",
       "\n",
       "    .dataframe tbody tr th {\n",
       "        vertical-align: top;\n",
       "    }\n",
       "\n",
       "    .dataframe thead th {\n",
       "        text-align: right;\n",
       "    }\n",
       "</style>\n",
       "<table border=\"1\" class=\"dataframe\">\n",
       "  <thead>\n",
       "    <tr style=\"text-align: right;\">\n",
       "      <th></th>\n",
       "      <th>Age</th>\n",
       "      <th>Sex</th>\n",
       "      <th>MOI</th>\n",
       "    </tr>\n",
       "  </thead>\n",
       "  <tbody>\n",
       "    <tr>\n",
       "      <th>203</th>\n",
       "      <td>2</td>\n",
       "      <td>M</td>\n",
       "      <td>Fall down stairs</td>\n",
       "    </tr>\n",
       "    <tr>\n",
       "      <th>4349</th>\n",
       "      <td>2</td>\n",
       "      <td>M</td>\n",
       "      <td>Pedestrian/bicyclist struck by moving vehicle</td>\n",
       "    </tr>\n",
       "  </tbody>\n",
       "</table>\n",
       "</div>"
      ],
      "text/plain": [
       "      Age Sex                                            MOI\n",
       "203     2   M                               Fall down stairs\n",
       "4349    2   M  Pedestrian/bicyclist struck by moving vehicle"
      ]
     },
     "execution_count": 12,
     "metadata": {},
     "output_type": "execute_result"
    }
   ],
   "source": [
    "# filter patients by age or sex\n",
    "# d = df_pecarn[df_pecarn['Sex'] == 'F']\n",
    "d = df_pecarn[df_pecarn['Age'] <= 15]\n",
    "# d = df_pecarn[df_pecarn['Age'] <= 2]\n",
    "\n",
    "\n",
    "low_risk_patients, missed_patients, stats = pecarn_rule_predict(d)\n",
    "for stat in ['sensitivity', 'specificity']:\n",
    "    print(stat, f'{stats[stat]:0.2f}')\n",
    "\n",
    "print('\\nmissed patients:')\n",
    "missed_patients[['Age', 'Sex', 'MOI']]"
   ]
  },
  {
   "cell_type": "code",
   "execution_count": null,
   "metadata": {},
   "outputs": [],
   "source": []
  }
 ],
 "metadata": {
  "kernelspec": {
   "display_name": "Python 3.9.13 64-bit",
   "language": "python",
   "name": "python3"
  },
  "language_info": {
   "codemirror_mode": {
    "name": "ipython",
    "version": 3
   },
   "file_extension": ".py",
   "mimetype": "text/x-python",
   "name": "python",
   "nbconvert_exporter": "python",
   "pygments_lexer": "ipython3",
   "version": "3.9.13"
  },
  "pycharm": {
   "stem_cell": {
    "cell_type": "raw",
    "metadata": {
     "collapsed": false
    },
    "source": []
   }
  },
  "vscode": {
   "interpreter": {
    "hash": "aee8b7b246df8f9039afb4144a1f6fd8d2ca17a180786b69acc140d282b71a49"
   }
  }
 },
 "nbformat": 4,
 "nbformat_minor": 4
}
