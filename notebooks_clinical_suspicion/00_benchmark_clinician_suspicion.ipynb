{
 "cells": [
  {
   "cell_type": "markdown",
   "metadata": {},
   "source": [
    "This notebook benchmarks how well clinical suspicion does for predicting IAI-I. It only uses data from PECARN."
   ]
  },
  {
   "cell_type": "code",
   "execution_count": 9,
   "metadata": {},
   "outputs": [],
   "source": [
    "import numpy as np\n",
    "import sys\n",
    "from os.path import join as oj\n",
    "import pandas as pd\n",
    "import helper\n",
    "df = pd.read_csv('df_pecarn.csv')\n",
    "\n",
    "# add ai prediction\n",
    "df['ai_prediction_pecarn'] = helper.pecarn_rule_predict(df, o='iai_intervention', verbose=False)"
   ]
  },
  {
   "cell_type": "markdown",
   "metadata": {},
   "source": [
    "Here, we want to compare 4 columns.\n",
    "1. `iai_intervention` - the groundtruth outcome: binary\n",
    "2. `ai_prediction_pecarn` - prediction by the clinical decision rule: binary (although could make probabilistic)\n",
    "3. `IAIAcuteInterv` - Clinical suspicion for IAI in need of acute intervention (split into 5 levels)\n",
    "4. `IAISuspicion` - Clinical suspicion for the presence of IAI identified on CT (split into 5 levels)"
   ]
  },
  {
   "cell_type": "markdown",
   "metadata": {},
   "source": [
    "# compare rule to clinician suspicion"
   ]
  },
  {
   "cell_type": "code",
   "execution_count": 14,
   "metadata": {},
   "outputs": [],
   "source": [
    "y = df['iai_intervention']\n",
    "meanings = ['<1%', '1-5%', '6-10%', '11-50%', \">50%\", 'Physician did not answer']\n",
    "y1 = df['IAISuspicion'].values\n",
    "y2 = df['IAIAcuteInterv'].values"
   ]
  },
  {
   "cell_type": "code",
   "execution_count": 15,
   "metadata": {},
   "outputs": [
    {
     "name": "stdout",
     "output_type": "stream",
     "text": [
      "IAISuspicion: Clinical suspicion for the presence of IAI identified on CT (split into 5 levels)\n",
      "Score\tiai-i\tTot\tPerc\tPhysician Target\n",
      "1\t10 \t 6591\t0.15\t <1%\n",
      "2\t23 \t 3124\t0.74\t 1-5%\n",
      "3\t30 \t 1166\t2.57\t 6-10%\n",
      "4\t63 \t 758\t8.31\t 11-50%\n",
      "5\t77 \t 298\t25.84\t >50%\n",
      "6\t0 \t 107\t0.00\t Physician did not answer\n"
     ]
    }
   ],
   "source": [
    "print('IAISuspicion: Clinical suspicion for the presence of IAI identified on CT (split into 5 levels)')\n",
    "print('Score\\tiai-i\\tTot\\tPerc\\tPhysician Target')\n",
    "\n",
    "for i in range(1, 7):\n",
    "    num_iai = np.sum(y[y1==i])\n",
    "    num_tot = np.size(y[y1==i])\n",
    "    print(f'{i}\\t{num_iai} \\t {num_tot}\\t{100 * num_iai/num_tot:0.2f}\\t {meanings[i - 1]}')"
   ]
  },
  {
   "cell_type": "code",
   "execution_count": 15,
   "metadata": {},
   "outputs": [
    {
     "name": "stdout",
     "output_type": "stream",
     "text": [
      "IAIAcuteInterv_1 - Clinical suspicion for IAI in need of acute intervention (split into 5 levels)\n",
      "Score\tiaiw/i\tTot\tPerc\tPhysician Target\n",
      "1\t35 \t 9252\t0.38\t <1%\n",
      "2\t40 \t 1793\t2.23\t 1-5%\n",
      "3\t33 \t 506\t6.52\t 6-10%\n",
      "4\t59 \t 281\t21.00\t 11-50%\n",
      "5\t36 \t 87\t41.38\t >50%\n",
      "6\t0 \t 125\t0.00\t Physician did not answer\n"
     ]
    }
   ],
   "source": [
    "print('IAIAcuteInterv - Clinical suspicion for IAI in need of acute intervention (split into 5 levels)')\n",
    "print('Score\\tiaiw/i\\tTot\\tPerc\\tPhysician Target')\n",
    "for i in range(1, 7):\n",
    "    num_iai = np.sum(y[y2==i])\n",
    "    num_tot = np.size(y[y2==i])\n",
    "    print(f'{i}\\t{num_iai} \\t {num_tot}\\t{100 * num_iai/num_tot:0.2f}\\t {meanings[i - 1]}')"
   ]
  }
 ],
 "metadata": {
  "kernelspec": {
   "display_name": "Python 3.9.13 64-bit",
   "language": "python",
   "name": "python3"
  },
  "language_info": {
   "codemirror_mode": {
    "name": "ipython",
    "version": 3
   },
   "file_extension": ".py",
   "mimetype": "text/x-python",
   "name": "python",
   "nbconvert_exporter": "python",
   "pygments_lexer": "ipython3",
   "version": "3.9.13"
  },
  "pycharm": {
   "stem_cell": {
    "cell_type": "raw",
    "metadata": {
     "collapsed": false
    },
    "source": []
   }
  },
  "vscode": {
   "interpreter": {
    "hash": "aee8b7b246df8f9039afb4144a1f6fd8d2ca17a180786b69acc140d282b71a49"
   }
  }
 },
 "nbformat": 4,
 "nbformat_minor": 4
}
