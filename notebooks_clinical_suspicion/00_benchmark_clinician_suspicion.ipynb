{
 "cells": [
  {
   "cell_type": "markdown",
   "metadata": {},
   "source": [
    "This notebook benchmarks how well clinical suspicion does for predicting IAI-I. It only uses data from PECARN."
   ]
  },
  {
   "cell_type": "code",
   "execution_count": 28,
   "metadata": {},
   "outputs": [
    {
     "name": "stdout",
     "output_type": "stream",
     "text": [
      "The autoreload extension is already loaded. To reload it, use:\n",
      "  %reload_ext autoreload\n"
     ]
    }
   ],
   "source": [
    "%load_ext autoreload\n",
    "%autoreload 2\n",
    "import numpy as np\n",
    "import sys\n",
    "from os.path import join as oj\n",
    "import pandas as pd\n",
    "import helper\n",
    "import matplotlib.pyplot as plt\n",
    "\n",
    "df = pd.read_csv('df_pecarn.csv')\n",
    "\n",
    "# add ai prediction\n",
    "yhat_pred_probabilistic, yhat_pred_binary = helper.pecarn_rule_predict(df, o='iai_intervention', verbose=False)\n",
    "df['ai_prediction_pecarn'] = yhat_pred_probabilistic\n",
    "\n",
    "# map physician values to probabilities\n",
    "df['physician_prediction'] = df['IAIAcuteInterv'].map({\n",
    "    1.0: 0.5,\n",
    "    2.0: 3,\n",
    "    3.0: 8,\n",
    "    4.0: 30.5,\n",
    "    5.0: 75,\n",
    "    6.0: 0\n",
    "})\n",
    "meanings = ['<1%', '1-5%', '6-10%', '11-50%', \">50%\", 'Physician did not answer']"
   ]
  },
  {
   "cell_type": "markdown",
   "metadata": {},
   "source": [
    "Here, we want to compare 4 things:\n",
    "1. `iai_intervention` - the groundtruth outcome: binary\n",
    "2. `ai_prediction_pecarn` - prediction by the clinical decision rule: probabilistic (`physician_prediction` maps these to probabilities)\n",
    "3. `IAIAcuteInterv` - Clinical suspicion for IAI in need of acute intervention (split into 5 levels)\n",
    "4. `IAISuspicion` - Clinical suspicion for the presence of IAI identified on CT (split into 5 levels)"
   ]
  },
  {
   "cell_type": "markdown",
   "metadata": {},
   "source": [
    "# Compare performance of all variables"
   ]
  },
  {
   "cell_type": "code",
   "execution_count": 33,
   "metadata": {},
   "outputs": [
    {
     "data": {
      "image/png": "[encoded data removed]",
      "text/plain": [
       "<Figure size 432x288 with 1 Axes>"
      ]
     },
     "metadata": {
      "needs_background": "light"
     },
     "output_type": "display_data"
    }
   ],
   "source": [
    "df['test'] = 0.5 * df['IAIAcuteInterv'] * 0.5 * df['ai_prediction_pecarn']\n",
    "legend = {\n",
    "    'ai_prediction_pecarn': 'AI clinical decision rule',\n",
    "    'physician_prediction': 'Human suspicion',\n",
    "    'test': 'Naive average'\n",
    "}\n",
    "for k in sorted(legend.keys()):\n",
    "    stats, threshes = helper.all_stats_curve(df['iai_intervention'], df[k])\n",
    "\n",
    "    plt.plot(stats['sens'], stats['spec'], '.-', label=legend[k])\n",
    "    plt.xlabel('Sensitivity')\n",
    "    plt.ylabel('Specificity')\n",
    "plt.legend(labelcolor='linecolor')\n",
    "plt.show()"
   ]
  },
  {
   "cell_type": "markdown",
   "metadata": {},
   "source": [
    "# Breakdown of clinician variables"
   ]
  },
  {
   "cell_type": "code",
   "execution_count": 2,
   "metadata": {},
   "outputs": [],
   "source": [
    "y = df['iai_intervention']\n",
    "meanings = ['<1%', '1-5%', '6-10%', '11-50%', \">50%\", 'Physician did not answer']\n",
    "y1 = df['IAISuspicion'].values\n",
    "y2 = df['IAIAcuteInterv'].values"
   ]
  },
  {
   "cell_type": "markdown",
   "metadata": {},
   "source": [
    "IAIAcuteInterv - Clinical suspicion for IAI in need of acute intervention (split into 5 levels)"
   ]
  },
  {
   "cell_type": "code",
   "execution_count": 5,
   "metadata": {},
   "outputs": [
    {
     "name": "stdout",
     "output_type": "stream",
     "text": [
      "Score\tiaiw/i\tTot\tPerc\tPhysician Target\n",
      "1\t35 \t 9252\t0.38\t <1%\n",
      "2\t40 \t 1793\t2.23\t 1-5%\n",
      "3\t33 \t 506\t6.52\t 6-10%\n",
      "4\t59 \t 281\t21.00\t 11-50%\n",
      "5\t36 \t 87\t41.38\t >50%\n",
      "6\t0 \t 125\t0.00\t Physician did not answer\n"
     ]
    }
   ],
   "source": [
    "print('Score\\tiaiw/i\\tTot\\tPerc\\tPhysician Target')\n",
    "for i in range(1, 7):\n",
    "    num_iai = np.sum(y[y2==i])\n",
    "    num_tot = np.size(y[y2==i])\n",
    "    print(f'{i}\\t{num_iai} \\t {num_tot}\\t{100 * num_iai/num_tot:0.2f}\\t {meanings[i - 1]}')"
   ]
  },
  {
   "cell_type": "markdown",
   "metadata": {},
   "source": [
    "IAISuspicion: Clinical suspicion for the presence of IAI identified on CT (split into 5 levels)"
   ]
  },
  {
   "cell_type": "code",
   "execution_count": 6,
   "metadata": {},
   "outputs": [
    {
     "name": "stdout",
     "output_type": "stream",
     "text": [
      "Score\tiai-i\tTot\tPerc\tPhysician Target\n",
      "1\t10 \t 6591\t0.15\t <1%\n",
      "2\t23 \t 3124\t0.74\t 1-5%\n",
      "3\t30 \t 1166\t2.57\t 6-10%\n",
      "4\t63 \t 758\t8.31\t 11-50%\n",
      "5\t77 \t 298\t25.84\t >50%\n",
      "6\t0 \t 107\t0.00\t Physician did not answer\n"
     ]
    }
   ],
   "source": [
    "print('Score\\tiai-i\\tTot\\tPerc\\tPhysician Target')\n",
    "\n",
    "for i in range(1, 7):\n",
    "    num_iai = np.sum(y[y1==i])\n",
    "    num_tot = np.size(y[y1==i])\n",
    "    print(f'{i}\\t{num_iai} \\t {num_tot}\\t{100 * num_iai/num_tot:0.2f}\\t {meanings[i - 1]}')"
   ]
  }
 ],
 "metadata": {
  "kernelspec": {
   "display_name": "Python 3.9.13 64-bit",
   "language": "python",
   "name": "python3"
  },
  "language_info": {
   "codemirror_mode": {
    "name": "ipython",
    "version": 3
   },
   "file_extension": ".py",
   "mimetype": "text/x-python",
   "name": "python",
   "nbconvert_exporter": "python",
   "pygments_lexer": "ipython3",
   "version": "3.9.13"
  },
  "pycharm": {
   "stem_cell": {
    "cell_type": "raw",
    "metadata": {
     "collapsed": false
    },
    "source": []
   }
  },
  "vscode": {
   "interpreter": {
    "hash": "aee8b7b246df8f9039afb4144a1f6fd8d2ca17a180786b69acc140d282b71a49"
   }
  }
 },
 "nbformat": 4,
 "nbformat_minor": 4
}
